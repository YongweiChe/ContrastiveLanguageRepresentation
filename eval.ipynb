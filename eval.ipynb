{
 "cells": [
  {
   "cell_type": "code",
   "execution_count": 1,
   "id": "1551fc81",
   "metadata": {},
   "outputs": [
    {
     "ename": "ImportError",
     "evalue": "cannot import name 'checkpointing' from 'acme' (/home/yongweic/.conda/envs/contrastive_rl/lib/python3.9/site-packages/acme/__init__.py)",
     "output_type": "error",
     "traceback": [
      "\u001b[0;31m---------------------------------------------------------------------------\u001b[0m",
      "\u001b[0;31mImportError\u001b[0m                               Traceback (most recent call last)",
      "Cell \u001b[0;32mIn[1], line 1\u001b[0m\n\u001b[0;32m----> 1\u001b[0m \u001b[38;5;28;01mfrom\u001b[39;00m \u001b[38;5;21;01macme\u001b[39;00m \u001b[38;5;28;01mimport\u001b[39;00m checkpointing\n\u001b[1;32m      3\u001b[0m \u001b[38;5;66;03m# Assuming you have your agent object\u001b[39;00m\n\u001b[1;32m      4\u001b[0m checkpointer \u001b[38;5;241m=\u001b[39m checkpointing\u001b[38;5;241m.\u001b[39mCheckpointer(\n\u001b[1;32m      5\u001b[0m     directory\u001b[38;5;241m=\u001b[39m\u001b[38;5;124m'\u001b[39m\u001b[38;5;124m/home/yongweic/acme/911eecd6-4605-11ef-a1a8-70b5e8f063a8/checkpoints/counter\u001b[39m\u001b[38;5;124m'\u001b[39m,\n\u001b[1;32m      6\u001b[0m     add_uid\u001b[38;5;241m=\u001b[39m\u001b[38;5;28;01mFalse\u001b[39;00m\n\u001b[1;32m      7\u001b[0m )\n",
      "\u001b[0;31mImportError\u001b[0m: cannot import name 'checkpointing' from 'acme' (/home/yongweic/.conda/envs/contrastive_rl/lib/python3.9/site-packages/acme/__init__.py)"
     ]
    }
   ],
   "source": [
    "from acme import checkpointing\n",
    "\n",
    "# Assuming you have your agent object\n",
    "checkpointer = checkpointing.Checkpointer(\n",
    "    directory='/home/yongweic/acme/911eecd6-4605-11ef-a1a8-70b5e8f063a8/checkpoints/counter',\n",
    "    add_uid=False\n",
    ")\n",
    "\n",
    "# Restore the latest checkpoint\n",
    "checkpointer.restore(agent)"
   ]
  },
  {
   "cell_type": "code",
   "execution_count": null,
   "id": "06988797",
   "metadata": {},
   "outputs": [],
   "source": []
  }
 ],
 "metadata": {
  "kernelspec": {
   "display_name": "contrastive_rl [~/.conda/envs/contrastive_rl/]",
   "language": "python",
   "name": "conda_contrastive_rl"
  },
  "language_info": {
   "codemirror_mode": {
    "name": "ipython",
    "version": 3
   },
   "file_extension": ".py",
   "mimetype": "text/x-python",
   "name": "python",
   "nbconvert_exporter": "python",
   "pygments_lexer": "ipython3",
   "version": "3.9.19"
  }
 },
 "nbformat": 4,
 "nbformat_minor": 5
}

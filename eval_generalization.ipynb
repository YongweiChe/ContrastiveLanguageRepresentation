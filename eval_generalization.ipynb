{
 "cells": [
  {
   "cell_type": "code",
   "execution_count": 1,
   "metadata": {
    "id": "vv5tcX3SoUmG"
   },
   "outputs": [],
   "source": [
    "# export LD_LIBRARY_PATH=$LD_LIBRARY_PATH:$HOME/.mujoco/mujoco200/bin:/usr/lib/nvidia:$CONDA_PREFIX/lib\n",
    "# export PATH=$PATH:$CONDA_PREFIX/bin\n",
    "# export CUDA_VISIBLE_DEVICES=0\n",
    "# export GPUS=0"
   ]
  },
  {
   "cell_type": "code",
   "execution_count": 2,
   "metadata": {
    "colab": {
     "base_uri": "https://localhost:8080/"
    },
    "id": "rbfhkjVKnR4d",
    "outputId": "2b59a62a-1bc5-48ec-86b3-13adae7e6682"
   },
   "outputs": [
    {
     "name": "stderr",
     "output_type": "stream",
     "text": [
      "2024-07-22 11:42:44.957924: W tensorflow/stream_executor/platform/default/dso_loader.cc:64] Could not load dynamic library 'libcudart.so.11.0'; dlerror: libcudart.so.11.0: cannot open shared object file: No such file or directory; LD_LIBRARY_PATH: /home/yongweic/.conda/envs/contrastive_rl/lib:/home/yongweic/.mujoco/mujoco210/bin:/usr/lib/nvidia:/home/yongweic/.mujoco/mujoco200/bin:/home/yongweic/.mujoco/mujoco200/bin\n",
      "Warning: Flow failed to import. Set the environment variable D4RL_SUPPRESS_IMPORT_ERROR=1 to suppress this message.\n",
      "No module named 'flow'\n",
      "Warning: CARLA failed to import. Set the environment variable D4RL_SUPPRESS_IMPORT_ERROR=1 to suppress this message.\n",
      "No module named 'carla'\n",
      "pybullet build time: Nov 28 2023 23:52:03\n",
      "/home/yongweic/.conda/envs/contrastive_rl/lib/python3.9/site-packages/gym/spaces/box.py:84: UserWarning: \u001b[33mWARN: Box bound precision lowered by casting to float32\u001b[0m\n",
      "  logger.warn(f\"Box bound precision lowered by casting to {self.dtype}\")\n"
     ]
    }
   ],
   "source": [
    "import copy\n",
    "import functools\n",
    "\n",
    "from matplotlib import pyplot as plt\n",
    "from matplotlib import animation\n",
    "from mpl_toolkits.axes_grid1 import make_axes_locatable\n",
    "from IPython.display import HTML\n",
    "\n",
    "import jax\n",
    "import optax\n",
    "import numpy as np\n",
    "import tensorflow as tf\n",
    "\n",
    "from acme import specs\n",
    "from acme.tf.savers import SaveableAdapter\n",
    "\n",
    "import contrastive\n",
    "from contrastive.config import ContrastiveConfig\n",
    "from contrastive import utils as contrastive_utils\n",
    "from contrastive import make_networks\n",
    "from contrastive.utils import make_environment\n",
    "from contrastive import ContrastiveLearner\n",
    "\n",
    "# disable tensorflow_probability warning: The use of `check_types` is deprecated and does not have any effect.\n",
    "import logging\n",
    "logger = logging.getLogger(\"root\")\n",
    "\n",
    "class CheckTypesFilter(logging.Filter):\n",
    "    def filter(self, record):\n",
    "        return \"check_types\" not in record.getMessage()\n",
    "\n",
    "logger.addFilter(CheckTypesFilter())"
   ]
  },
  {
   "cell_type": "code",
   "execution_count": 3,
   "metadata": {},
   "outputs": [
    {
     "name": "stdout",
     "output_type": "stream",
     "text": [
      "hi\n",
      "{'use_random_actor': True, 'entropy_coefficient': 0.0, 'env_name': 'offline_ant_umaze', 'max_number_of_steps': 1000000, 'use_image_obs': False, 'end_index': 2, 'samples_per_insert': 1000000, 'samples_per_insert_tolerance_rate': 100000000.0, 'random_goals': 0.0, 'bc_coef': 0.05, 'twin_q': True, 'batch_size': 1024, 'repr_dim': 16, 'hidden_layer_sizes': (1024, 1024)}\n"
     ]
    }
   ],
   "source": [
    "env_name = 'offline_ant_umaze'\n",
    "\n",
    "params = {\n",
    "  'use_random_actor': True,\n",
    "  'entropy_coefficient': None if 'image' in env_name else 0.0,\n",
    "  'env_name': env_name,\n",
    "  # For online RL experiments, max_number_of_steps is the number of\n",
    "  # environment steps. For offline RL experiments, this is the number of\n",
    "  # gradient steps.\n",
    "  'max_number_of_steps': 1_000_000,\n",
    "  'use_image_obs': 'image' in env_name,\n",
    "}\n",
    "if 'ant_' in env_name:\n",
    "    params['end_index'] = 2\n",
    "\n",
    "# 2. Select an algorithm. The currently-supported algorithms are:\n",
    "# contrastive_nce, contrastive_cpc, c_learning, nce+c_learning, gcbc.\n",
    "# Many other algorithms can be implemented by passing other parameters\n",
    "# or adding a few lines of code.\n",
    "alg = 'contrastive_nce'\n",
    "if alg == 'contrastive_nce':\n",
    "    pass  # Just use the default hyperparameters\n",
    "elif alg == 'contrastive_cpc':\n",
    "    params['use_cpc'] = True\n",
    "elif alg == 'c_learning':\n",
    "    params['use_td'] = True\n",
    "    params['twin_q'] = True\n",
    "elif alg == 'nce+c_learning':\n",
    "    params['use_td'] = True\n",
    "    params['twin_q'] = True\n",
    "    params['add_mc_to_td'] = True\n",
    "elif alg == 'gcbc':\n",
    "    params['use_gcbc'] = True\n",
    "else:\n",
    "    raise NotImplementedError('Unknown method: %s' % alg)\n",
    "\n",
    "# For the offline RL experiments, modify some hyperparameters.\n",
    "if env_name.startswith('offline_ant'):\n",
    "    params.update({\n",
    "        # Effectively remove the rate-limiter by using very large values.\n",
    "        'samples_per_insert': 1_000_000,\n",
    "        'samples_per_insert_tolerance_rate': 100_000_000.0,\n",
    "        # For the actor update, only use future states as goals.\n",
    "        'random_goals': 0.0,\n",
    "        'bc_coef': 0.05,  # Add a behavioral cloning term to the actor.\n",
    "        'twin_q': True,  # Learn two critics, and take the minimum.\n",
    "        'batch_size': 1024,  # Increase the batch size 256 --> 1024.\n",
    "        'repr_dim': 16,  # Decrease the representation size 64 --> 16.\n",
    "        # Increase the policy network size (256, 256) --> (1024, 1024)\n",
    "        'hidden_layer_sizes': (1024, 1024),\n",
    "    })\n",
    "    print('hi')\n",
    "    \n",
    "print(params)\n",
    "config = ContrastiveConfig(**params)"
   ]
  },
  {
   "cell_type": "code",
   "execution_count": 4,
   "metadata": {
    "colab": {
     "base_uri": "https://localhost:8080/"
    },
    "id": "gqv-5ZXf3RGJ",
    "outputId": "407c330d-a5b2-4428-a1bf-bffb04475566"
   },
   "outputs": [
    {
     "name": "stdout",
     "output_type": "stream",
     "text": [
      "Target Goal:  (0.8501951919631467, 8.987630957870868)\n",
      "Target Goal:  (0.41707919211124644, 8.871490779758078)\n",
      "EnvironmentSpec(observations=BoundedArray(shape=(31,), dtype=dtype('float32'), name='state', minimum=[-1. -1. -1. -1. -1. -1. -1. -1. -1. -1. -1. -1. -1. -1. -1. -1. -1. -1.\n",
      " -1. -1. -1. -1. -1. -1. -1. -1. -1. -1. -1. -1. -1.], maximum=[1. 1. 1. 1. 1. 1. 1. 1. 1. 1. 1. 1. 1. 1. 1. 1. 1. 1. 1. 1. 1. 1. 1. 1.\n",
      " 1. 1. 1. 1. 1. 1. 1.]), actions=BoundedArray(shape=(8,), dtype=dtype('float32'), name='action', minimum=[-1. -1. -1. -1. -1. -1. -1. -1.], maximum=[1. 1. 1. 1. 1. 1. 1. 1.]), rewards=Array(shape=(), dtype=dtype('float64'), name='reward'), discounts=BoundedArray(shape=(), dtype=dtype('float64'), name='discount', minimum=0.0, maximum=1.0))\n"
     ]
    },
    {
     "name": "stderr",
     "output_type": "stream",
     "text": [
      "WARNING:jax._src.xla_bridge:No GPU/TPU found, falling back to CPU. (Set TF_CPP_MIN_LOG_LEVEL=0 and rerun for more info.)\n",
      "/home/yongweic/.conda/envs/contrastive_rl/lib/python3.9/site-packages/acme/jax/utils.py:73: UserWarning: Explicitly requested dtype float64 requested in zeros is not available, and will be truncated to dtype float32. To enable more dtypes, set the jax_enable_x64 configuration option or the JAX_ENABLE_X64 shell environment variable. See https://github.com/google/jax#current-gotchas for more.\n",
      "  return jax.tree_map(lambda x: jnp.zeros(x.shape, dtype or x.dtype), nest)\n"
     ]
    },
    {
     "name": "stdout",
     "output_type": "stream",
     "text": [
      "networks: ContrastiveNetworks(policy_network=FeedForwardNetwork(init=<function make_networks.<locals>.<lambda> at 0x154e680e5d30>, apply=<function without_apply_rng.<locals>.apply_fn at 0x154e680e5280>), q_network=FeedForwardNetwork(init=<function make_networks.<locals>.<lambda> at 0x154e680f65e0>, apply=<function without_apply_rng.<locals>.apply_fn at 0x154e680e55e0>), l_network=FeedForwardNetwork(init=<function make_networks.<locals>.<lambda> at 0x154e680f6940>, apply=<function without_apply_rng.<locals>.apply_fn at 0x154e680e5940>), log_prob=<function make_networks.<locals>.<lambda> at 0x154e680f6790>, repr_fn=<function without_apply_rng.<locals>.apply_fn at 0x154e680e5ca0>, sample=<function make_networks.<locals>.<lambda> at 0x154e680f68b0>, sample_eval=<function make_networks.<locals>.<lambda> at 0x154e680f6820>)\n"
     ]
    },
    {
     "name": "stderr",
     "output_type": "stream",
     "text": [
      "2024-07-22 11:48:43.203003: W tensorflow/stream_executor/platform/default/dso_loader.cc:64] Could not load dynamic library 'libcuda.so.1'; dlerror: libcuda.so.1: cannot open shared object file: No such file or directory; LD_LIBRARY_PATH: /home/yongweic/.conda/envs/contrastive_rl/lib:/home/yongweic/.mujoco/mujoco210/bin:/usr/lib/nvidia:/home/yongweic/.mujoco/mujoco200/bin:/home/yongweic/.mujoco/mujoco200/bin\n",
      "2024-07-22 11:48:43.203081: W tensorflow/stream_executor/cuda/cuda_driver.cc:269] failed call to cuInit: UNKNOWN ERROR (303)\n"
     ]
    },
    {
     "name": "stdout",
     "output_type": "stream",
     "text": [
      "Model loaded from: /home/yongweic/acme/911eecd6-4605-11ef-a1a8-70b5e8f063a8/checkpoints/learner\n",
      "(31, 1024)\n"
     ]
    }
   ],
   "source": [
    "env_name = \"offline_ant_umaze\"\n",
    "ckpt_dir = \"/home/yongweic/acme/911eecd6-4605-11ef-a1a8-70b5e8f063a8/checkpoints/learner\"\n",
    "\n",
    "config.critic_learning_rate = 0.001\n",
    "\n",
    "obs_dim = make_environment(env_name, config.start_index, config.end_index, seed=0)[1]\n",
    "# print(config.twin_q)\n",
    "network_factory = functools.partial(\n",
    "  contrastive.make_networks, \n",
    "    obs_dim=obs_dim, \n",
    "    repr_dim=config.repr_dim,\n",
    "  repr_norm=config.repr_norm, \n",
    "    twin_q=config.twin_q,\n",
    "  use_image_obs=config.use_image_obs,\n",
    "  hidden_layer_sizes=config.hidden_layer_sizes)\n",
    "\n",
    "# print(network_factory)\n",
    "\n",
    "env_factory = lambda seed: make_environment(\n",
    "  env_name, config.start_index, config.end_index, seed)[0]\n",
    "dummy_seed = 1\n",
    "environment_spec = specs.make_environment_spec(\n",
    "    env_factory(dummy_seed))\n",
    "\n",
    "print(environment_spec)\n",
    "\n",
    "random_key = jax.random.PRNGKey(np.random.choice(int(1e6)))\n",
    "networks = network_factory(environment_spec, \n",
    "                           obs_dim = obs_dim,\n",
    "                           twin_q=config.twin_q,\n",
    "                           hidden_layer_sizes = (1024, 1024)\n",
    "                          )\n",
    "policy_optimizer = optax.adam(\n",
    "  learning_rate=config.actor_learning_rate)\n",
    "q_optimizer = optax.adam(\n",
    "  learning_rate=config.critic_learning_rate)\n",
    "print(f'networks: {networks}')\n",
    "\n",
    "trained_learner = ContrastiveLearner(\n",
    "  networks=networks,\n",
    "  rng=random_key,\n",
    "  policy_optimizer=policy_optimizer,\n",
    "  q_optimizer=q_optimizer,\n",
    "  iterator=None,\n",
    "  counter=None,\n",
    "  logger=None,\n",
    "  config=config,\n",
    "  obs_to_goal=None\n",
    ")\n",
    "\n",
    "ckpt = tf.train.Checkpoint(learner=SaveableAdapter(trained_learner))\n",
    "ckpt_mgr = tf.train.CheckpointManager(\n",
    "    ckpt, ckpt_dir, 1)\n",
    "ckpt.restore(ckpt_mgr.latest_checkpoint)\n",
    "\n",
    "trained_learner_state = trained_learner._state\n",
    "\n",
    "print(\"Model loaded from: {}\".format(ckpt_dir))\n",
    "\n",
    "print(trained_learner_state.policy_params['mlp/~/linear_0']['w'].shape)"
   ]
  },
  {
   "cell_type": "code",
   "execution_count": 5,
   "metadata": {},
   "outputs": [
    {
     "data": {
      "text/plain": [
       "{'b': Array([-0.12655969, -0.56473637, -0.01483181, ..., -0.03469238,\n",
       "        -0.4838127 ,  0.02198083], dtype=float32),\n",
       " 'w': Array([[-0.11976356, -0.33864626, -0.07944538, ...,  0.00242042,\n",
       "          0.05714555, -0.10627162],\n",
       "        [-0.00212874,  0.07671527, -0.05722534, ..., -0.00608215,\n",
       "          0.0194293 , -0.07812383]], dtype=float32)}"
      ]
     },
     "execution_count": 5,
     "metadata": {},
     "output_type": "execute_result"
    }
   ],
   "source": [
    "trained_learner_state.q_params['g_encoder/~/linear_0']"
   ]
  },
  {
   "cell_type": "code",
   "execution_count": 6,
   "metadata": {},
   "outputs": [
    {
     "name": "stdout",
     "output_type": "stream",
     "text": [
      "Target Goal:  (1.0287784054657694, 8.468583818324639)\n",
      "(1, 8)\n",
      "Target Goal:  (0.42841488053342264, 9.014577015548358)\n"
     ]
    },
    {
     "data": {
      "text/plain": [
       "Array([[-7.9160004]], dtype=float32)"
      ]
     },
     "execution_count": 6,
     "metadata": {},
     "output_type": "execute_result"
    }
   ],
   "source": [
    "env_factory = lambda seed: make_environment(\n",
    "  env_name, config.start_index, config.end_index, seed)[0]\n",
    "\n",
    "env = env_factory(np.random.randint(1e6))\n",
    "# print(env.render(mode='rgb_array'))\n",
    "obs = env.render(mode='rgb_array')\n",
    "\n",
    "obs = np.zeros((1,29))\n",
    "# plt.imshow(obs)\n",
    "# print(obs)\n",
    "action = np.random.normal(0, 1, env.action_space.shape)[None,:]\n",
    "print(action.shape)\n",
    "\n",
    "q_params = trained_learner_state.q_params\n",
    "\n",
    "sa_repr, g_repr, (state, goal) = networks.repr_fn(q_params, obs=env.reset().observation[None,:], action=action)\n",
    "\n",
    "g_repr @ sa_repr.T"
   ]
  },
  {
   "cell_type": "code",
   "execution_count": 26,
   "metadata": {},
   "outputs": [
    {
     "name": "stdout",
     "output_type": "stream",
     "text": [
      "Target Goal:  (0.7401725823483498, 8.558513445377164)\n",
      "Target Goal:  (1.0987118508444573, 8.693238219280568)\n",
      "optimal action: [[-8.216307]]\n",
      "Target Goal:  (0.9586560642658, 8.974694362659758)\n",
      "random action: [[-9.069131]]\n"
     ]
    }
   ],
   "source": [
    "obs = env.reset().observation\n",
    "\n",
    "dist = networks.policy_network.apply(\n",
    "      trained_learner_state.policy_params,\n",
    "      obs\n",
    "    ).mode()\n",
    "\n",
    "action = dist[None,:]\n",
    "\n",
    "sa_repr, g_repr, (state, goal) = networks.repr_fn(q_params, obs=env.reset().observation[None,:], action=action)\n",
    "print(f'optimal action: {sa_repr @ g_repr.T}')\n",
    "\n",
    "sa_repr, g_repr, (state, goal) = networks.repr_fn(q_params, obs=env.reset().observation[None,:], action=np.zeros((1, 8)))\n",
    "print(f'random action: {sa_repr @ g_repr.T}')"
   ]
  },
  {
   "cell_type": "code",
   "execution_count": 8,
   "metadata": {},
   "outputs": [
    {
     "name": "stdout",
     "output_type": "stream",
     "text": [
      "Target Goal:  (0.9426631527311999, 9.293552857006825)\n"
     ]
    },
    {
     "data": {
      "text/plain": [
       "Array([[[-9.270743, -8.636176]]], dtype=float32)"
      ]
     },
     "execution_count": 8,
     "metadata": {},
     "output_type": "execute_result"
    }
   ],
   "source": [
    "networks.q_network.apply(q_params, obs=env.reset().observation[None,:], action=action)"
   ]
  },
  {
   "cell_type": "code",
   "execution_count": 25,
   "metadata": {},
   "outputs": [
    {
     "data": {
      "text/plain": [
       "Box(-1.0, 1.0, (8,), float32)"
      ]
     },
     "execution_count": 25,
     "metadata": {},
     "output_type": "execute_result"
    }
   ],
   "source": [
    "env.action_space"
   ]
  },
  {
   "cell_type": "code",
   "execution_count": 22,
   "metadata": {},
   "outputs": [
    {
     "name": "stdout",
     "output_type": "stream",
     "text": [
      "Target Goal:  (0.6251578207847457, 8.744112090058989)\n"
     ]
    },
    {
     "data": {
      "text/plain": [
       "<d4rl.locomotion.wrappers.NormalizedBoxEnv at 0x154e68b5cf10>"
      ]
     },
     "execution_count": 22,
     "metadata": {},
     "output_type": "execute_result"
    }
   ],
   "source": [
    "obs = env.reset()\n",
    "\n",
    "env.unwrapped"
   ]
  },
  {
   "cell_type": "code",
   "execution_count": null,
   "metadata": {},
   "outputs": [],
   "source": [
    "env.sim.get_state()"
   ]
  },
  {
   "cell_type": "code",
   "execution_count": 27,
   "metadata": {},
   "outputs": [
    {
     "name": "stdout",
     "output_type": "stream",
     "text": [
      "Target Goal:  (0.6266237548841666, 8.792448125884365)\n"
     ]
    },
    {
     "data": {
      "text/plain": [
       "Array([[[-8.111514, -8.426245]]], dtype=float32)"
      ]
     },
     "execution_count": 27,
     "metadata": {},
     "output_type": "execute_result"
    }
   ],
   "source": [
    "networks.q_network.apply(q_params, obs=env.reset().observation[None,:], action=action)"
   ]
  },
  {
   "cell_type": "code",
   "execution_count": 28,
   "metadata": {},
   "outputs": [
    {
     "ename": "NameError",
     "evalue": "name 'timestep' is not defined",
     "output_type": "error",
     "traceback": [
      "\u001b[0;31m---------------------------------------------------------------------------\u001b[0m",
      "\u001b[0;31mNameError\u001b[0m                                 Traceback (most recent call last)",
      "Cell \u001b[0;32mIn[28], line 3\u001b[0m\n\u001b[1;32m      1\u001b[0m dist \u001b[38;5;241m=\u001b[39m networks\u001b[38;5;241m.\u001b[39mpolicy_network\u001b[38;5;241m.\u001b[39mapply(\n\u001b[1;32m      2\u001b[0m       trained_learner_state\u001b[38;5;241m.\u001b[39mpolicy_params,\n\u001b[0;32m----> 3\u001b[0m       \u001b[43mtimestep\u001b[49m\u001b[38;5;241m.\u001b[39mobservation\n\u001b[1;32m      4\u001b[0m     )\n",
      "\u001b[0;31mNameError\u001b[0m: name 'timestep' is not defined"
     ]
    }
   ],
   "source": [
    "dist = networks.policy_network.apply(\n",
    "      trained_learner_state.policy_params,\n",
    "      timestep.observation\n",
    "    )"
   ]
  },
  {
   "cell_type": "code",
   "execution_count": 32,
   "metadata": {
    "colab": {
     "base_uri": "https://localhost:8080/"
    },
    "id": "-kYX27gJo1Gy",
    "outputId": "7157adb2-51e0-478f-8532-744fa3691615"
   },
   "outputs": [
    {
     "name": "stdout",
     "output_type": "stream",
     "text": [
      "Target Goal:  (1.098406507452637, 8.827523244580568)\n",
      "Target Goal:  (1.1019649714643116, 8.478831532089655)\n",
      "episode length = 144\n",
      "avg episode return: 1.0\n",
      "success rate: 1.0\n"
     ]
    }
   ],
   "source": [
    "IMAGE_HEIGHT = 1024\n",
    "IMAGE_WIDTH = 1024\n",
    "NUM_EPISODES = 1\n",
    "\n",
    "env = env_factory(np.random.randint(1e6))\n",
    "obs_dim = env.observation_spec().shape[0] // 2\n",
    "env.sim.model.geom_rgba[1:5] = 0  # Hide the lasers\n",
    "imgs = np.zeros([NUM_EPISODES, env._step_limit, IMAGE_HEIGHT, IMAGE_WIDTH, 3], dtype=np.uint8)\n",
    "episode_returns = np.zeros([NUM_EPISODES, ])\n",
    "\n",
    "\n",
    "timesteps = []\n",
    "for epi in range(NUM_EPISODES):\n",
    "  t = 0\n",
    "  env.seed(epi)  # use fixed seed for different methods\n",
    "  timestep = env.reset()\n",
    "  episode_return = 0\n",
    "\n",
    "  while not timestep.last():\n",
    "    # render images\n",
    "    img = env.render(mode='rgb_array', height=IMAGE_HEIGHT, width=IMAGE_WIDTH)\n",
    "    # # add a border if success\n",
    "    # img = Image.fromarray(img)\n",
    "    # orig_size = img.size\n",
    "    # border = (8, 8, 8, 8)\n",
    "    # if episode_return >= 1:\n",
    "    #   img = ImageOps.expand(img, border=border, fill=\"#008000\")\n",
    "    # else:\n",
    "    #   img = ImageOps.expand(img, border=border, fill=\"#FF3131\")\n",
    "    # img = img.resize(orig_size)\n",
    "    # img = np.array(img)\n",
    "    imgs[epi, t] = img\n",
    "\n",
    "    # Generate an action from the agent's policy and step the environment.\n",
    "    # if episode_return >= 1:\n",
    "    #   action = np.zeros_like(env.action_space.shape)\n",
    "    # else:\n",
    "    #   dist = networks.policy_network.apply(\n",
    "    #       trained_learner_state.policy_params,\n",
    "    #       timestep.observation\n",
    "    #   )\n",
    "    #   action = np.array(dist.mode())\n",
    "    dist = networks.policy_network.apply(\n",
    "      trained_learner_state.policy_params,\n",
    "      timestep.observation\n",
    "    )\n",
    "    action = np.array(dist.mode())\n",
    "    timestep = env.step(action)\n",
    "    timesteps.append(timestep)\n",
    "\n",
    "    # Book-keeping.\n",
    "    t += 1\n",
    "    episode_return += timestep.reward\n",
    "\n",
    "  # assert t == env._step_limit\n",
    "  print(\"episode length = {}\".format(t))\n",
    "  episode_returns[epi] = episode_return\n",
    "\n",
    "imgs = imgs.reshape([-1, IMAGE_HEIGHT, IMAGE_WIDTH, 3])\n",
    "print(\"avg episode return: {}\".format(np.mean(episode_returns)))\n",
    "print(\"success rate: {}\".format(np.mean(episode_returns >= 1)))\n",
    "\n",
    "imgs = imgs[:100]"
   ]
  },
  {
   "cell_type": "code",
   "execution_count": 36,
   "metadata": {},
   "outputs": [
    {
     "data": {
      "text/plain": [
       "TimeStep(step_type=<StepType.MID: 1>, reward=array(0.), discount=1.0, observation=array([ 5.37903792e-02, -1.85115748e-02,  7.85423570e-01,  9.89051477e-01,\n",
       "        9.02871088e-02, -8.92365227e-02,  7.52479668e-02, -6.94957108e-02,\n",
       "        4.76566763e-01, -8.64791210e-02, -4.73030004e-01,  2.30261461e-01,\n",
       "       -3.85560507e-01,  7.56884695e-02,  4.41144543e-01, -3.90015766e-01,\n",
       "       -6.96861007e-02, -7.37239661e-01,  3.71608097e-01,  1.69271170e-01,\n",
       "        3.39290173e-03, -2.83178101e+00,  6.23208608e+00, -2.68061660e+00,\n",
       "       -6.35716573e+00,  2.82062609e+00, -2.76891672e+00,  2.77131336e+00,\n",
       "        5.34961875e+00,  1.10196497e+00,  8.47883153e+00]))"
      ]
     },
     "execution_count": 36,
     "metadata": {},
     "output_type": "execute_result"
    }
   ],
   "source": [
    "timesteps[0]"
   ]
  },
  {
   "cell_type": "code",
   "execution_count": 40,
   "metadata": {},
   "outputs": [
    {
     "data": {
      "text/plain": [
       "<matplotlib.collections.PathCollection at 0x154d96d0b400>"
      ]
     },
     "execution_count": 40,
     "metadata": {},
     "output_type": "execute_result"
    },
    {
     "data": {
      "image/png": "[encoded data removed]",
      "text/plain": [
       "<Figure size 640x480 with 1 Axes>"
      ]
     },
     "metadata": {},
     "output_type": "display_data"
    }
   ],
   "source": [
    "points = []\n",
    "for timestep in timesteps:\n",
    "    points.append(timestep.observation[:2])\n",
    "    \n",
    "points = np.array(points)\n",
    "plt.scatter(points[:,0], points[:,1])"
   ]
  },
  {
   "cell_type": "code",
   "execution_count": 53,
   "metadata": {},
   "outputs": [
    {
     "name": "stdout",
     "output_type": "stream",
     "text": [
      "Target Goal:  (0.8724336625644329, 8.914668724571504)\n"
     ]
    },
    {
     "data": {
      "text/plain": [
       "EnvSpec(entry_point='d4rl.locomotion.ant:make_ant_maze_env', reward_threshold=None, nondeterministic=False, max_episode_steps=700, order_enforce=True, kwargs={'maze_map': [[1, 1, 1, 1, 1], [1, 'r', 0, 0, 1], [1, 1, 1, 0, 1], [1, 'g', 0, 0, 1], [1, 1, 1, 1, 1]], 'reward_type': 'sparse', 'dataset_url': 'http://rail.eecs.berkeley.edu/datasets/offline_rl/ant_maze_v2/Ant_maze_u-maze_noisy_multistart_True_multigoal_True_sparse_fixed.hdf5', 'non_zero_reset': False, 'eval': True, 'maze_size_scaling': 4.0, 'ref_min_score': 0.0, 'ref_max_score': 1.0, 'v2_resets': True}, namespace=None, name='antmaze-umaze-diverse', version=2)"
      ]
     },
     "execution_count": 53,
     "metadata": {},
     "output_type": "execute_result"
    }
   ],
   "source": [
    "env_name = 'offline_ant_umaze_diverse'\n",
    "\n",
    "env_factory = lambda seed: make_environment(\n",
    "  env_name, config.start_index, config.end_index, seed)[0]\n",
    "\n",
    "env = env_factory(np.random.randint(1e6))\n",
    "\n",
    "env.env.env.spec"
   ]
  },
  {
   "cell_type": "code",
   "execution_count": 85,
   "metadata": {
    "colab": {
     "base_uri": "https://localhost:8080/",
     "height": 501
    },
    "id": "fGavTj4h1fJT",
    "outputId": "9bf8b051-a95e-4c43-888f-7b045ba77bd3"
   },
   "outputs": [
    {
     "data": {
      "text/html": [
       "<video width=\"640\" height=\"480\" controls autoplay loop>\n",
       "  <source type=\"video/mp4\" src=\"data:video/mp4;base64,AAAAHGZ0eXBNNFYgAAACAGlzb21pc28yYXZjMQAAAAhmcmVlAABt6m1kYXQAAAKuBgX//6rcRem9\n",
       "5tlIt5Ys2CDZI+7veDI2NCAtIGNvcmUgMTU3IHIyOTgwIDM0YzA2ZDEgLSBILjI2NC9NUEVHLTQg\n",
       "QVZDIGNvZGVjIC0gQ29weWxlZnQgMjAwMy0yMDE5IC0gaHR0cDovL3d3dy52aWRlb2xhbi5vcmcv\n",
       "eDI2NC5odG1sIC0gb3B0aW9uczogY2FiYWM9MSByZWY9MyBkZWJsb2NrPTE6MDowIGFuYWx5c2U9\n",
       "MHgzOjB4MTEzIG1lPWhleCBzdWJtZT03IHBzeT0xIHBzeV9yZD0xLjAwOjAuMDAgbWl4ZWRfcmVm\n",
       "PTEgbWVfcmFuZ2U9MTYgY2hyb21hX21lPTEgdHJlbGxpcz0xIDh4OGRjdD0xIGNxbT0wIGRlYWR6\n",
       "b25lPTIxLDExIGZhc3RfcHNraXA9MSBjaHJvbWFfcXBfb2Zmc2V0PS0yIHRocmVhZHM9NiBsb29r\n",
       "YWhlYWRfdGhyZWFkcz0xIHNsaWNlZF90aHJlYWRzPTAgbnI9MCBkZWNpbWF0ZT0xIGludGVybGFj\n",
       "ZWQ9MCBibHVyYXlfY29tcGF0PTAgY29uc3RyYWluZWRfaW50cmE9MCBiZnJhbWVzPTMgYl9weXJh\n",
       "bWlkPTIgYl9hZGFwdD0xIGJfYmlhcz0wIGRpcmVjdD0xIHdlaWdodGI9MSBvcGVuX2dvcD0wIHdl\n",
       "aWdodHA9MiBrZXlpbnQ9MjUwIGtleWludF9taW49MTAgc2NlbmVjdXQ9NDAgaW50cmFfcmVmcmVz\n",
       "aD0wIHJjX2xvb2thaGVhZD00MCByYz1jcmYgbWJ0cmVlPTEgY3JmPTIzLjAgcWNvbXA9MC42MCBx\n",
       "cG1pbj0wIHFwbWF4PTY5IHFwc3RlcD00IGlwX3JhdGlvPTEuNDAgYXE9MToxLjAwAIAAACPJZYiE\n",
       "ABH//veIHzLLafk613IR560urR9Q7kZxXqS9/iAAAAMAAAMAAGVA3ylQf3lw3OAAAATwAMFYX+Ix\n",
       "/hxAT/RLEWWn6chgP1al6XRy2rK7NJrju9w2fQZsX0xQaAJBvMTQx/EuEVrtR5WEeGLf/s5hz/5w\n",
       "EEbC5p2uuGVUYJIL9AaeUdHDRf24kX1EIwddWPnrKYZL/ikHop0bECsuEoqYNFrslkXVOTM0RoBr\n",
       "nYVli4tGZaT7xmg+mTr5+kAL3Js3KB85F3xJT+jHYVpFRcUyDULhPrSC1SmnwanLUMlpfZ7zEcU4\n",
       "ykquJGBYS41dcUc99kqU8Dz57pqZfJi5LCKHu4CBXD2F6IY0WIHNeL+Z9FtCNX7Wx8ufLG0DR4hh\n",
       "un1yMcZzc8AesXQPsVARXv1B+uOQXV6v6lYg6vaKu2aLd6tpKMJjjy1ZFB5CAxqpF0K8tBtGbkWF\n",
       "idCe5qugz1xs4ZG80BPxaJw9iFLxoXeH+2lxLTn5BWTqvRrgYA/Gv5VT4aDupPaycBx+r5cRxbSM\n",
       "pWsi41xj7olhEc/b9CteWnTz1MKme8NG2rDTGSbfJDhvHHkTVAljW5gVQwHTh4Ul4Z9inSVoP7MB\n",
       "hQKIVcLBviSIu5YvcPQJSDuxbIUyvfS/KW3Umd9zoCxAe7HYVSAUax0k4SIQosKY6piMXBKlhtXK\n",
       "wdumGk46SIk7LRjOaEiBrdZPb/NobWXEjlqjM1dEkINFl5LB9TcBm6D2wGFUCXdNLZFhrzlG229j\n",
       "+1nA0NdYAa4W06wkmD3WlOp5AI2VJ8oFQXb88Q5MN9+dAlI0JPwoKMIQ2hsHC0lfNrEIq4R9xg/2\n",
       "XExdezTdMqk0yUXI8utod+ze3JBTo0AricG0eYtjvEpPnluACU28iyLj3Rgx/9eYesJYal8zY/1W\n",
       "qhWvEmCZV0mCIjadCJS/LOywTguI+QP781YYmttNSycTq5Y53W5qzcdPLtbT/YnrwHIowZIPO94e\n",
       "tsnG7jjm2ifA7CUBmqK7pyRv6lOZ9yK2MdatAaDufwXYiN+pkXFAD/IdnpVsaQjB8K3a0+2M70ko\n",
       "qPLW2/Uyl8CwoJ4RVpa8xr2SpPSlhy0WISZk0go4YTlqxZfMOGajDjSWKH9B1wtQ86x1r+gXLOWR\n",
       "KrF2vKFU9AhBk1tv5t/6x5iMK9jTGPflNMjLxs45LM/RYc9AQv4qzilDYksbI5cmhrEw6kdhMOB7\n",
       "XUrDhsnQSiWIP9RAX6/8knLrv+0GCWd2erV6DdcF/iUlRDg7gnDwb8/i5ADOjjyhJGYj7WVOfrj3\n",
       "/nf8FkDn0kW5qBZPGmb1yTa4JOmK4kobm00iYxhTWJBRdHsXVOkCwPSMmapnW55fEVsdln7+Z8pR\n",
       "soef4AvNQvSxKtwrDl/YkVxw2hPQeKulktcr8KxDxSuKaSdedn/lrxZyh1i0x+ukijlMjTmsJ81O\n",
       "L0ao4tjPTGaIVJrCgMgZNkQwSUZnKmwV5RUKu/9qSUT+3Fvz9LUU2JGU/DIMyM11G0QcZlZk5mYb\n",
       "O/5kCYU+pi4qLTla/+7f+8vRbeXtoAD7NhU6qqQ9JvM1raccJH0RMJAU7XCH0DFvX+09cfPBFIqa\n",
       "mDArHxyM+F0VssGTGlBMBIZROU5ptcaCC5tf8RfciSM3i6gtNCuXkILNA7isyQ1NS+jsZ8X0FnfZ\n",
       "8RBCpaS50mgl1aqUR8DS9s5lQQAtMExwByWV2CXSiKrjBFH4v3AkSZO7eAmaRUOryq/arKSOUYbE\n",
       "x5kOF3zEYzRO047GrmToqE6iw67MdZcXBQsSwTcaXHiv5COtv4F/uu6zqbKCXUwZRytLOy+2587P\n",
       "+Ggh9dF/+eKP853AkhtwQe0Lp6c9v+VR8suRu8Zh8imDPecLrP7f0Pn8e7ylZjRYitHKo/5fVYWj\n",
       "5g+s9vQQTxzcmMgg8lfvJ5tWOs/hlq1SeUGmAcKmZIVrR6dkC64KGnRG7FFCGIm+/nXlYfy/RCXE\n",
       "9vhRlH5MmVKXLPengFfIshyAURkUvfHxQyUI7XQehRv5pVOJsz3//3zdf3Rq+AgPNOUaElIOhKMe\n",
       "4Ca3zZr24QPHtqqGPNFSRNkPgEYhuixB4Wdipsb7ElrXijUBdPsGX1t1FTQMQRVvBlIuFCcLzaa0\n",
       "nQHZaapcaOhGSMJyWL3jfv0pnThQ1BZ6Whih5A76JXsP431/VTBEEntTu5StuPUOyUHcyhmmwAhM\n",
       "90PylV83u+H2McvGSPuR8cjrRJ1Y2t4hZwGJD3NXuuvPfNQZnMbj2fmEDGnMcegt/KX3ZokVHlYd\n",
       "HGOlYmtaVZlOgy8DS7s9iri1tR5uLYoA2Klk+RRQNtkQd3+/Qevr9wVuFEwESFpeD+HU1EFHcQ7F\n",
       "Zzp7729vvuZi8je7PYdWQbbQFKBu6GJPJnsTS8csC7QWeujDKcXG9W5zLhRb3DsL/VBfw4vN4pD6\n",
       "ejyAnI+Vyyfns752wJQ6xFwL0+KWmRF2hlyLFf8Dj3GaTLIi/7yuhbWunXaT0H2x3hOfZ9zl0HUk\n",
       "WHn+iRaPnFbeEgaVN+DnZW/EBH9V05/Ys3orJuNNL5n8clmxvnfEy+MUS4LsW+A5bAFPry1ZF1jY\n",
       "whXEBis+wn89Q04PPbf3+qyt/46A1v5WMRW3vkpG84zbAB2AF6aQ0VCrIvlxOSW+1W4tqFJnf1B/\n",
       "UnVcfhpG/TY8s1db/T1D6M17EkJeeF4m8yueyutFN3AMMV2zofgDQbgUEPvI6TmT1ffs6TmSf1BJ\n",
       "WtSYt72oNqCurL0XlznmD0Myq+P5wJ3Em2PF71JVkfQMXrKAUmJwh9xE6EijxdTf+l38PeUfRuAs\n",
       "D4k+x7XQI4HKCZotYKtMwt0QKynYjp9OFODehVbA3ju1GRQNGrZlaLJrTGD1NV50aNlUT82vb+iQ\n",
       "lUXfI42oKOS5D0fVtQedx33lTj14jD9EGTpNMzzmf/dt0lsW4HUbvPMLHw1kZ+rivVCVAI1J49Cd\n",
       "SQx+aGbmcoSg+0Ig8mJ7nlgJpoBp+aXYAACsNZzEas8p95dBFB4ns0UVHWN2+XkrhtLUQkf29kQI\n",
       "gAq1tmFU7SO9kSb974rPQU0yBC4FfbWogKVnhHaYH1sNmD22c0w/kG7oGfO/sl2SVtKFOQT22cIS\n",
       "kXpthKznr+8tJl2r0r4oefXwoM2I5/tTveqU2pGbmOOqwsid1s3MAqG0K3/yQ2dHkfOT5Zr/z+Su\n",
       "zNl7X1ZBf1ee9ajblrbDWl3h4ZzBPFhzFJ1gRnsR3IOAB5pgMU0te4xq3pmccvDaDD4GvIevuC6/\n",
       "wkd1GYzKjgcO3oLsd9EqVSxeq/vEE3sjAfBEugp57ooYe216Zs2Hwknh6f8lYIdzGHk/2hc/EmRX\n",
       "W/NgFl3EujWPdldXl6ZDJ3jVJmnPj1T9bO6U1nmtj7WKad5qJSY+1D5Y+x81fNciC5uvPtGCBrUB\n",
       "WIKM8NT2Gr+Irbuv2usO5hXUKQEqHUg4icPs7g9oO/TdVd+e+uEixxGhNFqMexty/y5TzT91G7IV\n",
       "mpN+Bg/0xgdpjXQeNulFVKjIDWHKM/WtwVpsPoJurGZdFZH3fU7gvkd8/8nhEPqIz7/fONJhekUs\n",
       "WZ5+EbfC3eLmK5oJDa/CKbeh6DpLR/1TJKXVKcDDyzfAm0ur/JItld34JATJcEc4UBsiT9FxRcg5\n",
       "tcNbF9BY8Ivi5TqYfl/78b0AjGwbWJNx8qEufMr9W8MFx3O3lxY3VQR0XwY4QkwJpSbItlL8JPQl\n",
       "l6fwtuL7DbP8ilHIYTNwTnxjZUqSgi17k5Cs4F4KKaXNqAnnaBnAxOLKqJWrUp9dh5Gz8ixHIbUY\n",
       "IgoAwxIW+g7M9k6nYfhy0A/qSxeKN1vP8z3xKHMBwl6RWfNW5eQ5cCF7DCtpCa3nciDI7jQwuC2X\n",
       "r60XJI2RvMMPXGw9uNgV6ZMPFPXBiXSQOOVnDgDL8z0xRFOj/Ju5pY/oS911xo9HQeza6VCEURmS\n",
       "2ataDn7gIlPhs99vluz82fWqQ4YFvobEvBa+z3TcjAHCP++6mXWw+me32fn7bpiugn1KP/oD+Sle\n",
       "QZvAGjCVREmdXDdd40+jW8wMKbnCx2ZBiXLrbutCOH3gam771UI3M4R+Hqn+xznwTxwzzuDlzQb+\n",
       "xHc4lcBwv8JA3c+e0avRlFltQ1m6MTu5mKRInqtEweq13ul3/MtDmwEUWEidF1v26+wPpfYM834P\n",
       "NDlMW69Mv0F9hNiBH+33RESpkhYQCvsJ4gNU+p36AJ5u9gnDmcurloOGT377xHn6x4vUxn/beykB\n",
       "MzEoa3Tcxe9xf7rXGkfmFvt3CHzBYa+a69RIX6KhxrhFMX6oHnoXLul2NaivgPhPmy2GzQQhP8xK\n",
       "yaYPU2ymHHMlUKkASBnyN6V3SZQBErQohOtEoc+5p9J4BY7Kw1sycbf/YFTMZbb4Wvl0Fs3O9cMj\n",
       "ltJE7klH0vJJApSkekO9qKhNodlLklNaSxvcYNhTvu0kEjw/DntC11i3AJE4aRGdRLho3LPxoLrU\n",
       "siG+plT5W4rq9zsMJDsoDJ802RkZhACI8bm5lTsqqW1X4ivpvZ1LxK9xp5Nkd8hgLLoHG/vFXHlE\n",
       "D2lbcCoBiSEDOvZxPTDpqb9c9w941YDUiaUTFr7LEYqQN2jMR339WHQ9cwkNJpHvOHs+P31dZaai\n",
       "wduESH7pGmODPxGMCMqEk1yesOwbm9I9nYsvYUWs47h3rzWB5V3KPaxmfw+T0Q7xEE6XLTVyCmIu\n",
       "oMuVSt51RbRbB6CWwrk+BOnHZN0WiKP108UzoNxKcfTsWR/e5BpDvZIV/8QgkeXI5ugKV2qtpGw1\n",
       "j0PmG3tfEVUvJfTen5uDRQ/lxuEo9QiiHGmCOD+xzzF7CH4m0tMPaUpt7UdJEbxH2JOrWNZxwUF7\n",
       "7drWTzK46H5s8vdCFyIAc5npF1QsclgLxF89Hp+8TEE/ZQ+W3xIL2y/rPC5NXUDo/hJ/bW/BU7fa\n",
       "u++JmzreCXHKqunfmdZoSBkg+H7zneIfsN65vFDsR9Bp+qov68eOgjj1pm8KeiL9SGbme//LIuFz\n",
       "ElT98nd6WbXUzUjbKw3FX8o+geOBDbW7ZJkOS0TRqHSeilWqC+jMYfjCsQCcI5ImJUy7zxCgXpSY\n",
       "mWriqr0/8oomsTRWGh0R2t2KnIH2/7br7ECAGUuUkcmNfw8f5Ege/kGMveIMWTA1k7lgCrUb72KX\n",
       "2vUxukkus5Em8P6S9S7Z3rmWbmFXmvJg+vfmMnQkWCjmQHupwzuZ4a7Lpy4680+L3T08JUdDAMEk\n",
       "7go6SXm341DbTgbjQi2VJZhrcG90Ytl1c/Eo1wHJcAOSPmdrhhFaWzcQV3wuFt8CB+84X0eHWw+C\n",
       "r7J5EEjtSjmCJ8BdBPxHAg/6vjGv45UxG8c157Uzdka/zmAxxDY7LFkMrgdhE8R6MI+lIENzfeuX\n",
       "j23N5KUlWXduKRWh1T/V09prvEOtmW/U/4+T75v1CaAhOo4F3JqrK4E1JtiDkgfiRV13hQKIfC7Q\n",
       "yFEcn36BAmYID2pTBBXFIydZsI5PjFlkeQh5dBq0kzul2mLRVLLiHMEHtYU5AyZdL0iJ/+DsG48f\n",
       "2yUQCirLUuDdy5e9UU5CvmWqfBsSUCe0Lfkv3wFlJPVS5RXcnwJIIyiVgugGrgi7Z1K0Zfcj3CVz\n",
       "niGSOxaEmGC5l9hBoSed8f//t94FtW4dEKdTCMsdYHFpB9hNnGu0vcWvrOA0Ajlppa7eUKMjNVRH\n",
       "Z1muhchAUYIRd/4cDvZYVGWvfiX5Rz2a7ctno3ird8TAsf7htA0rW6q/V4yXJmOd0lg2hAcBB8pP\n",
       "LCnrw3O0WsKYgCMpNY3UZPdqts9XpbNhi3eR8F713UmQ+V/tcVT0dsc18jWs7V3hEfn2jUMdnVUZ\n",
       "xFVMUasTwAG6EuLcDgxVnu2Nb9UwhsGdkzOQ7ljXS5qFjfaMl10sG3R4MWK2kcSELK/9yQVaqz41\n",
       "+qPLKMxowClDkVr6bES8RYxB8d4ldaI8UDfEN/phFM3ZRPWwdFiHYhzfJQoO+qNLtTCNxaZALL4r\n",
       "pQHr6WPxbxZQtb5VZIytvwnj9Dnm2/4k1hZS4V8rrCR6Ipaeo5w8/CVLKJp3NLsztyFhfo7f5Dzu\n",
       "PRnaCiIoOZ8SMu6h3lgRoTrKBI0AR+sus2bysZanMLkSLHxCiGOsRQazL1VWwz1iMxJ0VF8v8PTc\n",
       "Mal8rojptsaCEnkx8NncfCSM1YmStmvcgiPR8nM+94jUndw1nHjWu7aOCTNXj/OszRr8Q/zMzY+k\n",
       "LD4z5QdBFhFRTEKdroeWeMjXnRqj/rz0zqW48GNGn48liziGdhLp/jZWPvKXm7KpyHe167k89Kmp\n",
       "WfJbjkU3Ln8w5O4VSIIBPVuYZ3RgbxfVgfsbfK/WMkoEib/75taoZSUNeTyPx35tYtgLWcBcs/tA\n",
       "zZ8c+ndmkMkJ/UGWIb0k0+R/eYKrL3b0tUI7M3eh+t2re1bx43r3ZGbqEbq5wAAAAwF1meTpKzHJ\n",
       "ivuHW+SilgPtMcn1EmSatbdFlc3NFVGLST7cxmrzE9E/KlpsdWtvObW1l3UZ2mA0u+GL7UXIKxhO\n",
       "leCuts7hdL+aaF5kRfGV/bNodLAn/4mnxXDi3CMMCNRbmQ0D14Eux6IBNwRrMA3DmXHa8bF3Y6DP\n",
       "u+EPmX2+jM8tIWqHPIufO3XWfvoSn55SfC/yyxu2LzAyfeK6O7DGU/oZfbHE8rKgclqMVFKdZdVj\n",
       "sPd/S/RKWRR5JCF8h7n6Z6w5cvi8PCiqS+mf9tP08lKZvZTNk8zwgsyy6P6uBTfaE+rP3mVPfyEB\n",
       "i3usGgG0hfMR7HpiUwhbaFndaCCRKUiUpJi93rKreO7zl5Unjwm6jEd68bS03ZLvgDg266unfru1\n",
       "NEvr6HYoHZ72lEAAAfS9u4JH5mWETsib03DiAhP+/mxyy3UWNhMGNTjVz+TI+gWXGkbucMVe3Lvf\n",
       "Y+TW/1nkR61hBF9NQ7sTCnluEUT+Zq0LhbwahoqwDpnTrBnQdphxkChmkKwbDnxIWrgsiZe5j9FW\n",
       "nA7Dhum0GTKN4Va+CE9zv6bFSSZDZZlRC0pMViXIJiShDAHIw4FL9c1lCmw1moV4aiU7n9DS/WE0\n",
       "fYfz/3IIxD09LbDB6eNv7wEzU5lW/+VKlcXeDA9QB2AUSRLyOSUi0O08CFSbPyKJD5wSZg7iIPfh\n",
       "yv9pc4AAnuveYQWVVe8h8YzfbcK+VLZkuuTBqxUnG5/1rdfwBW6xlY3G4YUB+f9AAaW5HseKDNx9\n",
       "paPXAwPekbn0XLEdj7kWK8B+dynAVnFrkiLM8j8m5Wg8nlLu6HOkhHWxV560V/wCvwOnPM1WSze7\n",
       "pO44m1d/qd4i8uDp83ZjYkHYPwVu7nJgzc5Lfb9CFxO8Co5vV85t8iD6+wwWnS4reSJKqtf2fGVl\n",
       "RnH80exi82b8HA8941qX+KqRaJ7R3Hu/uoOcTReMqhlJ2UjhWlmpRPSyNMCcT/pEBkQpl/dzrWaU\n",
       "q2SQI3cpVBO2bnaLuClqWO5TsfIhIGERR4rs85ykqdBqk3P0kA0lLX06K240kXZWOt2JcQrwBPv+\n",
       "MhhB3VB6ueWnnJEBv6MDGc2dZtpobtLBUdDvbXaCSaupuvcjJeN7UPanKye/5S1VqseTgIiw0xXN\n",
       "vS4TaQ+tG+Djt8SgbY2+pJm0Iz6wRE4XAA6k17+2505a9oPgH1bQokafrHvuc6SbmbKzc48aJGsw\n",
       "AiM7COSZfRZZCpL3wO4j0//a/N+R8RiwSX+sUSEUsjhB7EhAQEvDzMplrENAYCA1Yu953D0MIta/\n",
       "L5zmTlWGW9h4WjW3n3Dm2hHv+vc51bL3W2rK/hxdA9nq+M61DaINoBTBN8NwwlXvC8KmIrFRYWuD\n",
       "+ANM10zvWuAkP/0VXJSO7m7dpfr2an+adGN9/viK+PByYz/d8xbAfoorl5EK3diFbSdBeE9nA+0u\n",
       "yW/f3sAXtsxDc8UsnNlkAAzu/RJCmJWrnpbCdA5cIurfP3d1arSq4q1FJfuFI18rY1J1sXW+83QA\n",
       "VsqC5CXJHeGxQGdFDFFB0HNsAbjIhdl7as3JCaNh0BqBNTO3DQyA1q5jNblbgP41Q4jneDWvUw7u\n",
       "GFObnNfB0u2W4ghmTm3JDtUkh0ObOJbyWXHgAck3iL3IkWyyNDqq6Qzb208lKlKoZ+r1V7RpWnnI\n",
       "f2M5Lm32pPCMA2SPQ+438iucY1QZHx/pTrhlJbieq4TAkjlhfBfmETnOJLWA0Kw+4z5vr1/+UFTr\n",
       "/BndT98BlMgGJ4w2LrhoDp3DcUqQBUMBsKWrytrgSwatHY/R7YiOePukrVsbd7BxymxMTIBDoGTk\n",
       "iZmZw9PYrVBMwS5oWSv7EByf1CefmYlpJO3Cgt0KjAkgsmtqWIgFaVbVg304DSHA03jTiHz9FMA2\n",
       "gWyXuTLIWevxkI51XZBVWdV0MLBWSc5CLEy4izEueaVT46DfYpQIYP7qP/IMM1/bLqgXsTBtMzTS\n",
       "9hHZb4DIa97u7TyZYD0tpDRPvveeugS1rJ5yu9zt3k334qs1CEDIEqslaxGEPw9JJlFJwIYs9JUl\n",
       "eH8/q/YQvBIz7YA47kVp2lbkwM9MX/ZQ1sMCXYpYMfWsCjEbZ87jklBy7aBGS/pf7clzLhW/bFoQ\n",
       "zbKKui7dIXy0DzhCsCkApC9CDR5TKFaoyvfHWIVTcw+uRQWkP8KbSmlR1HU+v7iDou5Bd4ew6gGi\n",
       "tebMBYWHk2UyPwCo68WfSpggp4iIXq08MXL7CZ02H2rM64w/d0PEvSLl2836NSYzaHcgS1JsLhZQ\n",
       "uNYkFqzKmPon1kIxaMgLb+H6ZvD5YMMX1++Ug/8WrnFGBAY067nKieTrg+Dm8W37GABx4XAxBnNf\n",
       "dPZtef/b4TJLEJ7//5ToghH76GrMbJ1pe9fZ3e9ZcTv/jiPjv0TMDkW+mwsXufLV9XfykTfal8JM\n",
       "uAYx2VxTW7WbKZ3t9LJDY5zmjI12nISSQnxJph5r9ueuSvK443q59tR/cPs45SNymrRVwB1AvBQh\n",
       "ZW8NuXNrPGXkANrtRuD5WIB7ixp9WCslvdqYS7L6dpOrM3atoORhJHWGE3EIlKY/oq50jVSTgNsn\n",
       "/n/xrz5ApmnHoFs7D9yJQQk2c1bBcILmXB8Ks48XKec+v0FIAqFbdsjOpND4FJdcPPgmWIWfoutF\n",
       "IyF4N/OFsRsKqjEeH6Kufc2a21/QRYQYuYHSSb94/I1JTkUhKkoGGNjO1DCwGYTdcrNjYF93bHUB\n",
       "mkKTA8XYRGnxnQhiKhWAIhWVEnwAIEqiE7Ey3Wsm3OBwEqbidiZlsTFCL6Qp0MMPus3A0oGY27Re\n",
       "iIVU4g36DzN9+Uc2dvAHM7xhCaUazyFdr95C18sDQ9JgAy2kDuc+Maveb4X/2jHsCWBZtL3Sn5rL\n",
       "qfyS5yn5lwxLduJFEPJdzphRYwJovX83esetPnW8Ju7+LB18XEMOQdTLFSyl6vaSstrR5a2kPGtZ\n",
       "49lOA4rqT6qE25gEtdpZO2IzixlAIuF76QiCxC17JvrQ65JBw3IXrYSknXa1d/8ukmTfrJkP/w1g\n",
       "3D1fC8peNYzYjeCRM/b9Kx6Z3hC5wkb6/Z79ceRNNEdTCUbzZwQAH0NKkSe5i28GCBkUf7IB68J1\n",
       "AzuWNtu4wuKoxOheReYlHzXhqglWpmzGMX+tBRwlv6MaQrmKgaJLrxAYnrz0iT75D6yhxBCiksAq\n",
       "G9KafSdh6jhdRQuTZI2GCAk10kCiGX+Zj6Lzv2ZhwR4PKBP/VHJJzaYRw+gZG4JGVZXJ1PfIZs9M\n",
       "MqYX/qU9YkpTkSZYDXtMhFuoslCGqs5Vlc1iVeX3TOVdNwJgNzeNgZFM8e9fZKtGh1fLu1x8hW29\n",
       "UUlYg5xmDRzL4C39H18dJozt10/HE7/YDgjI+BvVjQ0xUfAGwHDgN/x4Av+5SgkemqDYp8qZ4icD\n",
       "Xam3oduNOPJsL+A7slXsaRFM0gYHQcqApsdU1MvC4U10YPDjNTjrv0ISJK3ySwUoHgNlWq/CvubJ\n",
       "K5pzr6CiZgiBCvnu2M97r+xnr6CLoEJ//X7QMFaNAnSNTdSh7d7POUf/4YW77tAXJEbeTmS3NONn\n",
       "OVfv/AFFE8OZarWpGhW1XyJ3wZEOmcd3NopvnQSm2b/FaKmUh0VUpAb8EFMpkljTlsdVvdkGdExj\n",
       "x4/K+Bzm5oGAizZsXFit/2KJQyeh7YqEWPpGOD1KlHeXnzOCXyURi3+pcubIJiRlN+q/4RIkzyYM\n",
       "l9bsBJ2tv7I/Grw1rDp6PIC0xO4zCaquuICw18eD55l6SeRN3KOA6Z560KzAGCqK+Izh7Zau53L1\n",
       "UQkrhQSz8p43iuccbY61vgw646q73eOEysLBq1c/6/GRSzD+zhgz5DDSAxJlDI+44Y3yjxy/DHcW\n",
       "JPkpsHr1R5++H2zEODc/RBSJk6BSORzbBJ4vAKnwjSXdj5+lSpbAZHJYKX/evifPI21PQMSC6ABA\n",
       "ZBf2IvcZ63KeHGcBGS7Vt82BzIFtvVZOx5hprahSdL5kaLyI0mTS6ir/K4beS6o0wmI6rP2f6oNy\n",
       "WbYdh+qBLlCoV+HgXdowDtQaLyShfGgmJ7jBmEEwuRnWPk8O+UGdcCtGxwxxE5P9qcDfCAjxaqGr\n",
       "2tbbux+wJ/+wXVoPRXpdkoJZlumuoTvuWpfygDVeUTYone/HPu801vViXjg+ZIK6zzJEWFOSYQmN\n",
       "mGexClmlnDAYSh7AF+FJCgGYYfKon0zso1omNza/d7vz3vlD81kzap1tLC+OGMxK5VIi0XEkl+CM\n",
       "5oAr8ukkh2iytikDKvZpL/2Gff88OZ4b9o2H9viRAqdtdCyPq/KheeEYLLqinUHmF/ukxRyCldFU\n",
       "jsMZF5lEOtIVqF9j+MahXeKRDnUGIlCOd8WyOVVgMhoiUMfc20vPqPRmE55tl6Md/rNk7j8aLCcP\n",
       "iCSOjBm8ZPt4OEYQEr8973QlJ+yHc3Y/BnexIIeZ89DgYn+MTaiNBxHbbHEgpI1W0IPBcliVX88H\n",
       "EtYAKXtLCksQPXhhwDL/1c6r+NXEV6azBxsA1Sr4LAA9F0wuv2GJ7K92vOwUFC1h25MaULxb6ZRV\n",
       "w6o6hjkri7oOnt5sfJlVGR0hvM6kvG4ZCSAZxj0T+eB1WmyxhKcfNyVeu890qNdlxz3jskROOKoU\n",
       "qbDVddM9LJytfSEwcGS64fIetJUSxFNkACo3eKsXEAu6gSYTUchu5/faob1wWO/EyrjphF0Z2Gbf\n",
       "UuM26xfKa1u9cQnGLcqAVSC9NT1b46uNT30Q531esn0UWHZ076zD3D6ImIKNvBlMsYj+yUFVoKG1\n",
       "aghiLxPCFWhijnoKShHwAeHRj/JuW5dNaApD0DY7zQBYHz12RDqLzNmm4BS8lY0Oi5UC71YKUSJs\n",
       "Ny9kD8StfN5URm+wreEzDYn/8Xof9qH38xtt7fEftZ6LmCmDlVqz3pmIwTWC0IEuqTua5UbkMgjF\n",
       "a4/5JITY7C7pOG7zKUaGaOxyEOGKN46rUNLqVXQ8dHpbtr9OMRApYXIcuK9hDmWQNo+ehPrJEpXX\n",
       "LQKEJqs5veebgRrwQJX51qjT3PeiBUvMu6Fwa2CUxmADMpvGMS2oHwd4+2HsPkB5ww1koczdIW39\n",
       "gHrLNKT/1uQWdZ/SAwRYH0WlsDUoRbC4dp8KrmW7YcvUXXKOORjiGIrM5aWXCxJLYNpEkjp3N82S\n",
       "xEN8kUAcWaU8KCQkp8t5cCcVe4gBvVlgDwL8Zr97EtnENYTMkgW56Y+n6hptyXRmdLFZt1TZBYK2\n",
       "1jyN5TXXkFtdpOKK5s9ZJ+ATYNPlgKTMeeTlIN7ahkM+iWgWVMXjwoTke1caFbrM4uhfQN3AyVzE\n",
       "mafoYwqyPKLmRTPuoAhkZM5VC4q+PUMIMCnjaRTJbRImf0RcivBsHfgFBlCAzD0x+FFn6oWjLZjM\n",
       "ZwbPDtKx325rZbUr0b+Bhs416BFO9c3IJ04b+8hByPE6E7RogWFZh8NzXvMpTkJlHh6dYU82HcWv\n",
       "2UVGD47KdN2umbWM3TY6KXW7tjsIPz0wc7FBdXxXZdpCBUznTqUHz6xGiL0hd2qdYo0YJTuE+f5z\n",
       "XOTWDCMXPhyNtT4Kf1F8VwpQ7Jg9gjGmYk4HjH+7/p/YK09eN4wWaWJYPyiM3Xz+EPxVcMPVO30B\n",
       "muUlMHPTDJjuzuEO16DqmcYe6ZeWeOzAZR/zFQkr/LB/t1GEwXlG0/BzukwYEyHF5ZK8of5ybmHJ\n",
       "54KLhWUfAPb0hpdcf4X4AEb/q14wwmQB3foCHWfFmDQyQAAABq0AAAPNQZokbEEf/rUqgARhkPAB\n",
       "LLetPYrPccot3FY6m4ESIC2/RcP+MBZymXGhAMU1pBdJDzGhRx5p8gryO4c4MFqNNLxuqDS7hKaQ\n",
       "SKqPVmmcCXKY7xUo/9536ZXEuKyFqks5N7VgBQBelCR1VuH50eMaHXXVef4rpvCI8QrSz53UpVgW\n",
       "EnAJAHkyHLa66EQCtCOkXa5E03mLwf1oXZ+hkHw3+qJWrg+RGjonoqwWmnAPX87z9Ezsz/pasDQ9\n",
       "KEMMB3Fz48C4zCeLSskND8X/sywFqpoA0Lzwkmk/75ZmFLCr5HW+KfUl2vp5QxGdTdCdA2tvqzOU\n",
       "GRK9bhkx/Z8n4yfLgL1HmMZF8uQmqpJ34kOYI7EMoMa4D0r/PDha7UA85Vd+O5Ymis9y9ahz2icp\n",
       "m6qGwb4RDgzvcA1h1XD9OnTexpzWR0RNYcNWJIPtPyiwYGwRZ0SWXOEyUVqd8n3LepYsLnmJivRA\n",
       "HSTyYBa1JZGiFg4+OVXzBNV66DlIPWmTSM2F3GCZywCxu5QC/IBzgAcmOeZ0JBzwcKW1uNUbClb9\n",
       "dZ5Wyh3F1R6EY+g4UD/vMtOdrOSRspt1JpAfAKurWaYQbMs/TVD5/paBiQAZ9EoeXs9EGSMeFED1\n",
       "s3w643Oe3gSYMsI5WYAeh3oiU8jT9Wr/gDtrgEtUYBReQOsvKU1D+P9aF2ILZhQ9iFMqdfqA1IXV\n",
       "FbCo8yT07Q7oTVv3sWIpq50+6pqxdwVzUEbVMjt8UnUOE0zXfAaFa6jSi4s9ahd3+8S6Ikuys84R\n",
       "iuDkyPZ3uHV10MdUfup/4FeBS2hvt6cwnihCw4PkNEpv1IRBGIIhAdp6spM/eTUgJTD/ngLfJAVb\n",
       "RM0xQ879UInlrhOjAlzimzg//+AP/25IE+jQhglH14nnBXdyv/fEaMJtBEk9YmjDeUGCtNt+xVq2\n",
       "4WW8LrKy68IsP5ZJbT+LOWxwz0riLLT4NfEhMg/w6VJaU1e+kPkxmWFTbG+Ogk0HYU0PeVuCvoUC\n",
       "Nk8zecILVcQJDESW/4Dnb55/0/04XXcYnw3m3iXC7Bt2ZTK8ayGzo/jsRwnv4VDyljM23HqPVhra\n",
       "c5XirtTgdsrrMq7/bvZiIYj2c1rNPcBqvWnYdqAIMQBEGGeYVhRNC8DIw2Gyah5O7R7yvXAIJYPp\n",
       "q8WSX+yJ5cuTJ5/8et6yBD3//V5VOH7zrjJa3roIgghi5t1UpK5Br8uNiloeM73i/KlHIYzbWQZG\n",
       "5cVKBjU7ecfpa/JPaMhYE7rFc6ecfz6N+vkM/Bmbiq/JynQTnekd/kLMP8BWkAAAAd9BnkJ4h38A\n",
       "AAMAGA2s9MRt45mT8AR8ha0E79AFa3oTWGdsshnPw2SrE7X6muXHWFKHXDs+tmROV/pf3xER/D5m\n",
       "ONhQw8jpGQQD31timv1ZsrWgUqudJfJ12Re9K+4vL/mGPk/RdLINcolKbHwNG7pZL6w7Rq/d6S6L\n",
       "bE1RvaLce1kkdLz4EIm0BAqo+wOJ2IxNTN5rSb2kMzmQSRx7T5CaFxouKaOecHHi/8khpXyeA4qk\n",
       "LdcLVrH8XgVutQ6d40NypKR4r0EwBvBGLt8lTXV4SacyVRMYJjDrQ28D/udbsdCgD0IHXX9cX3W8\n",
       "ieSDhorcCdSOel9dpnrVZCXgFCC4bPgLmF901gUwFc0sKlJtyapdJSt3MvZGsxXlVhKR25zLyEOI\n",
       "B6oZeR8czl90dagCkUpuO7VKm6sj0o1EIeiCfwwzS52/DTVzuUaTGQ+h5bJ/1geTLZnPzJTily4T\n",
       "FrKmqNxOOwa2/SQe9J47CFA7L280m+/Bu9vqzrIZY/iYOAMD2qG2UV+J7BEbQIvIDpxVL3abP/KR\n",
       "WPHu87zHsBv3m9QsulkBmvMez42q3bPGpxqWdY6Z4yn8AL4m+pk1iHCb/GeDDQeqriMbTwPmwkpX\n",
       "BY949Q27wui9zwKN+3eUwQAAAeQBnmF0Q38AAAMAEFfQqDWMCHZZgBbn/9WtTJA1kM04K74+lVoh\n",
       "JQ2Diz9NaAujLADG5r9WwKiKQSkgxvbUW93yAi4MOyj1dFN4B9gRn0DWlU+k0f9anG62Yl5fbdlh\n",
       "2096LHEinQDaUYzmnaEL7AbIaxGWhXPJIEj+lQmlg10bmwuKx5mc1jIS6dYobBusv/amRw4z6dbK\n",
       "47HK0io3mR9aC54dN/fQ1KnW/ZTUiH71efoKgHpjkNJ2KFoj7dHL46xoYhEouQ2DhAVQq2gCe16b\n",
       "j4JSF+mzgSp9BLB0Xnh5KiFhmLZr888UQNxPsAjlVIxUWWobbfGyMlKaYPdcZymdzjfEvXkdq2Es\n",
       "kBkl6CfUxJjLIlNmgMqPfylUNQVZODdPKJpVx+04xneZ5za+3CmBf9mgix3fnNgPecx4qulvbsZ9\n",
       "thkCDiWqjcGRdY4LTrJniqrg6Zf9j+mPctXNCYcp/yUkIsuQNH/roYGUzdG8scjiCERwEgI31D+K\n",
       "lO5XAXp0ih8ATA+NHvN2x9aSf0uDJZ9nMiRosn3ebjsryVB9Do7Dac06NzG+HWWpR6yNmcySXB7S\n",
       "r6C1ykqTCHjr1BDw0rSMl1g1GXLcburb7rYLeE0NDrZkVYpsFsAzCtQm/hCGlwu4AAABQgGeY2pD\n",
       "fwAAAwAPh3U/0xDbOwCqcYAIfqu+s4n8YASPgViuWOerd1qjHfJam8P6zYtAC8KRF14WHaNQg/7t\n",
       "ANCC9b+0Xd7dK3urwG3hiaKYzHVddcN5zQGTeJiZWp1JkoxJFZmEvDc/76AJCX1NPoUIALx5zlI/\n",
       "aeOi7v1/kwpbZDvRNU5hirZNfuSAHhCuXKmLu6uQFDxzr6Bhz4rPpgXPYedGtTsim2rjcSP+yf3f\n",
       "l4EgVWtEKp0YUcq0paM72zC5i/yifrfKq7AXWdSjk5JTHyWcSNNN4+NA63Ran4VXLDBRvtHhbwZv\n",
       "b8CZtUjuLm15RHopyfzzEDKBWRt6FBaIt3En3ewNZNyv4+u4FrwRL8WyrLBQuQ+Ig6A8em3DeuID\n",
       "ycDjKjPcQT4aqgtSksXEorSbdLurAHKWffOHCG5T0EEAAAPjQZpoSahBaJlMCCP//rUqgAAAB3X1\n",
       "fUETgATNHUbZIpswAMbUAi2CZeR+2Oft+XVSbTXAqotdscL1n8kBzUhjtZnWWnpSSvcD+leNweLO\n",
       "bYgVEzltCPASSvdiatz1nn4ahlDVtA7/QoV2W1LKV6rXzR3eoc7/4GR2HLr332cGhYxyfdc1my+8\n",
       "ZvFgWgFezpaXYyVnpRQSGaCOidZVDJ4b+z4KwPjgXEnm7kZ1C+aDtdinwLMI/keMDkr/kI0ZR6X1\n",
       "pyFan0Q60MEa/X8KYW/KOdPu7sXSAKxtpqurmBl89pGCjInW8wuKD0Ma4OHbQc8d6IVhGaMr8LSf\n",
       "KkODUjlbse+KaGqJNKyaziEzvGwVvU2qmOZh5Fh3bmJZmqiZC+znsayTZvcWOgLp6fZyfDwI6dOT\n",
       "mhkdJAMhWllbz0HIBvpo/QiXkvsiPmJRGAlLlOxVDtk0XVaihBps0vYADQcXVV6+GwMTPTXXzSVY\n",
       "iGRsXG1jJcXhAgfJrWbXmj4dgiSdJVdQUTmkfNNLFCAXFQizsVJ5Ue4i0dAtcomv7b6NV0BAtkmB\n",
       "wNTz3Vpt6eUlUCx/FAXFrjtwaItVusbV+mLKCEBsCsGCzypVPbG4klpKmz40Sby7D1sEcraTRElv\n",
       "bY8h2SS/om8w9RaD/AFwTqbyJf8jLZq4w6EZ2HEdc5L/LWollG/yAjLyKFjs54vqDZI2JRSbLpE4\n",
       "YDHjx8vWgBbRBPu+9T2ZXeGc6MtoKxgDy8lHd63zirHo/XnF4cfss2z5R2VcpaobAfEqyu3rCqiY\n",
       "1KRI36yeMmYCRAUXyBal4DhwZzo107QL0E2UPXEZPmnfanN4dRwtjaiaygNL7IehHW6kgXAKjpux\n",
       "8lX3+H7UJwzcjEdjN5NtAVprf54yksLfeVu9kv+itfR0DXUvsWKM5yXFT17FWUXBaeoK07t27faV\n",
       "eFi1rVcmKq/lcNX0DBD7wn0X1kMRkjhKJnrThfj1Z84MtKkifnYSceI4BWqFrRfXg/V4Qpo7/9RD\n",
       "r4mOsIIfg/NHwDl1boHJO1+KQTXCklpCBbofCx9yGWPiN3MAm4vKzBH1gbI/URbJh7iibH2ZJA1+\n",
       "EUdB4lxuAJk9lLmjwX+Zueo7IdU74JDZGhwogwMcT8nSC8/9UibMTefLiLYQnt8hbmRLkmoKy4sc\n",
       "glJTumCaHFDV0mdmw8C8iN4ILjUqeRef1i1WN9hLvDuAiNHP5i/k7Mhr3pBa2UDpBrpkgqA4dh+R\n",
       "SEk4NUeJhXpoqfXzu9xv/Ytg3J/STwKtXPfdJzNhFrlhBeRvmjcNqBAEzIdqbYMNY8UCwIjZRxfK\n",
       "fsi0BF0AAALoQZ6GRREsO/8AAAMACpmJUOpimsgASn/j5Uqkc4KA/bOwsgD1HHGHFNhMvg6CKeww\n",
       "dmCK2yydAcdHPLSVTrjAQojh5xBAb24QWVSxkA4613eo87DMgCKKRRE9VfcHx7sMU0NU2QvpngCn\n",
       "xcbN6mQp/Kqi4BEKBO8Ons2tXdYj3jv2U7WNBsk3H2ycqnyDa4qTCITjjUGpDoqr6fR32rDssnBa\n",
       "ReOJ+kqMIiVbTTdN93jqtsa6vsWEdXX6uK9SLhUfuvj2hBO0uOk+VO1VLaY/jwUqrunDm9d/aN34\n",
       "7PJO6gOQHtlx/KjoRLhZGjNia2Cc+6qjwUNo/KatZ1DlDvZDjoj8PTsCFBNOzrSZuW/qr0ELUJeD\n",
       "jCxeXGkXatYtlNuUQlyKQJDMfqOcvxDLBN5+/T7dMbg269dnvN/Kbj7C8uqJ2hjljRavmRH2xpa2\n",
       "41WsakeyHvnUwBQ5ybdPM0XqAo9Xaq1tdTHEUqd5gQ75A4h0tHbroYIqb7COE1q2i4SUxAA0WsEc\n",
       "k9PX0zYZzh5HLaUbUzq41mmn+Tp/XKOUsvV1r1LVSJk4LuoY44/QU4flzS3nQyyjAfQQvvtZVUY2\n",
       "JAait2ijJQ31bXyDiOlq3jVeSO5+CHJhmgRrJhAVjNKwKEmwU34MdKupQ9RFrrGmSHuL1bevZBz7\n",
       "/u+dhXwV++XOG9tpTEi1uKG4viy5LhoRGS6XbfhmJvuPyTPx0Dg0W6xjpdhE1NAnZoZonCSc8HnS\n",
       "PJqd85MSdkC0WEY8j7J25QgmO7bVGLzCMsIjuQaF+TcnenjZBKsv37O/YJuL26/0TLk3L6Iz3WRM\n",
       "RJG05wCkKUDFURNPO9U3LOxd2gfZTEkXBUbCuqNossCYWVWW6C/Xvwm3m4etK84qpJ8BJbJuDPaB\n",
       "HRCmZEZaV1kVKpDS1lmLQO7of518tCsAq+acy4TP/oCDfcV2DIuyGzEaAyFsnQieMOPQ0m0Nqytt\n",
       "MfDlsUAvXvCK3PqDAAACDgGepXRDfwAAAwAO2DaCACMrfnJooOW+sVPMOoD96b+3w3MkZ2VDTlQY\n",
       "OVZHJTKix60d9PQMycLyPxl7jJsmrEQJM7Z+NKgpdInz7bJcnpNcrhGNCaPFd8gSVjzTWk7iQxmY\n",
       "bs7awhXccVCsecMcNKvxw/FsyjOXRMI1j8WmEXcL34Y+z/ArWtQ4v58/3reVvxYX5VBBS92dlbC/\n",
       "YaSIF4+YPrikPAsDS1ef6Urnon/9DCxedeT4a4KdMGLUcCLayoq5puwXrWdtV2XErEWKJ20Kb/ju\n",
       "kGh2rvrEgO9EIgMy8HLvtqo1+rqcaOZZ26/1FPfqDZlu4ethiasbvptXdbWab/Ry5F2zhFN6iwrf\n",
       "9mzFM1BTDOwrYJOOHMLbZ3HcjOKWU7QihIi1I1GmIHM8eoP1DcDYMDkTn6SldPjtvNoilAZKbYuL\n",
       "ONkl+gOoYwwB/ZwKX7Oupzjk5PZi6tbW7X4n002ADJqxspYbtXapRotzEJw9/2oRjpQVaQ7u1Nz9\n",
       "BL7Bx+dF9TsdKn90P6gjoMB7kdPALBrWCccZ7gy2wHpbEvqfBliQvreyT5BeebMCsC6/pi1JpnAM\n",
       "ebgq00HrM0uvbo3gRc2vaReF4FOQ1Bb4uoX3FSGQrrrcscrtLZwmpi5cbqs14ktLe3/etstYT836\n",
       "F8WCSsiwnusSVyxuOEUjxSo6NY6RHlx0mEdrmRcAAAG1AZ6nakN/AAADAA5a0qu93VG41mgBUkxr\n",
       "cS9o50pma1mSku5ue8+mamrQ3D2Phksb/hKh2jg6R+VpvWPYSQXzKJ6kbmYIW8W83zih1cuCpgDu\n",
       "jQXYcZeln/YyDhitwuT8ZHMV7VSD6cNkvMiqjHm+ejrbH2zK5Uq46A51dVfS0hfoUVjWteTJrA48\n",
       "9QQPumRhCkRhb8xrIiq9BxIDM7xuYTfmxAgDirY4U59MQc23nTLx3xrzrPFGdUi8i0lRcsGqRAoQ\n",
       "9pHDuh2m5Kv/tMudKbNZbH6cW6XAjQSSlixzaHcx5CbyyCjW7yfk+qzuSbPHwTOeyPHjL/ngx0AL\n",
       "QbXLBGn7nolyIkpX3EQvyY645QAhUpmxOoIPRq+7VZl8z9AoUCIRtfBXqBb1MN73fv25wkgkQWPb\n",
       "AJsZ43UACLx8PBPHePKMUI5mTQbnQvcc7EQ1CRuaoSjnuQaewAjdPa32eKnOtiMTyjwkfvsOoKL+\n",
       "rqF5ZCDKkPsho+vTUbMJKrwSqQf4sweSecQ5u4WNYxzyoOPwd75MzE4d1wYF4MTe6sEG6R2dNGQa\n",
       "triTs4YphnRcAWuMpBAAAAL0QZqsSahBbJlMCCP//rUqgAAABvtwfbfzIIAAvm4YuveztXj1D1xs\n",
       "DhUwOC+XYNDSMiIlz1O1fDr2gWEY7fBQYkoJxiE0kZO16k+Ku50ky+UL6RkYRkc3CDUC7o0tvyvN\n",
       "ez5Bdru1E9ISJDlUpOny9w+8g4kEJkUqoUvEbIS9qbx1UOWg09au83z+BNUqwfpZCSYZ/D8tKFTs\n",
       "zlRuz5bBOzJJgddY5vtvZY3r01yd6E7gbd+uz5dvAfBuwewqlQ2XRV3hl5JgSE/eJXcUpOToulaB\n",
       "/qWMdKNHXTMZeFStfF3wfxxe1OO5bmFAKiodkqICm/uODrcSUV1hJep/WMKdGFSXA06QBJNL6pWL\n",
       "VgZ30BBaCcgyqCNjCr+/V0zhd7JFmoECo13S2LZoyxnRXZcG83swVqUmUyTIkdED44qtcY+W9RVo\n",
       "Qc3W/gyKLXBI0oCn0lHlf3Hbdn+XufPBfn7WRLFMgIZhhTGdFDaoo77WaPKwKNnQIFb/Tk6IRNMF\n",
       "DuUKKbYlCr286kWAxhfjza04UzC9b/e4m7x3Mgu9kqjzOsElfgIgh4MO11CMtPD7joYhp0cD6UVI\n",
       "3YoqC+yb9OZh98ovZzlol9bDzBjAc8APkcVZnQ17b/RKwXvXv3q9rPjHySLwlYosut8BnhdTmLF4\n",
       "2ce+PZKQR8LK7l4Z/6op5lqKTuR72Lw/nt2aXTO5xZPdbU8ivz2g1gPJNkZei+WnJfDaVsaAtnqe\n",
       "AslWUZy/Jvxz1Lq7FHp5/Wq9u9VX9ob786dzk8cFzQd9U+/ILQ4pUQV5tjajNcbnJfv9AGsRIc/w\n",
       "1PLZnyzfGnPVxoqxhwo5OejswbjM39/3o4ZUsvgnmZIRZmzgDAYOwiMF0R59m74OkY4T54CQsEKk\n",
       "xz0zm1/XqoWna7abkyyGC6uK/TSqRGyVwaQncwV/dwfHZQG+DpdNNPxPgad3jUgeB6+7K4yQ1NZy\n",
       "1kr5A+//+g/CoDUndIcLAQGozS5Y+4IqPDethaZ06AMaAAACYUGeykUVLDv/AAADABshjnp6HRN/\n",
       "w6zCAG3y2vsejDKeO2zNj3n9mPwlaJZ0xzdtq5ny9p1vYDIzUBWAOYQx9AbNkWmyUztTWBp8OzUp\n",
       "jh38Tf72zTGsDP4gdhFHGeryZ7vqZwyIuqSMBG2McRE1vPeRwDG3HzlMqCisYkYPYLSnKK9eckMT\n",
       "b8B2U9oqnyQQKMAtlAat3URIvyUfTZE+ZibiHUL2nx9kRE9SCEgnhfyG9C8CVKApi1ugH3sHTAUI\n",
       "WLGwz/BqdoAaEp2V+FbCUK5hzXk61vVWUj+JtoD2AEtCFKHKQHiCcNma8bPy7AdT0APq+WivdxoU\n",
       "iPOg0PdlZQVgsm9yF01IUL8O51F2ccxF/r4nqDopbVL5LL3hkAdIXIQKGL9PcTZibKM1Mw5n1gbr\n",
       "5XJivWTe1Lhfgeu9IwK4FUrkp1ppO8UwzlFytDdYsWknPWCXEMrVChQ2bAsvnJzrpQsw1Tl/dXkO\n",
       "Mjd8i13OLVeXvCSfkTKu8I6cs9VwrCMxmwFNSy6SPhlYHTVBh8XWZMgso5F/fhjI0BFSvdH8HxDz\n",
       "9ROr0o0PRBet3NYLLiHieeT4Ood0R2W31husEx/psZSCgnmjFHMXk7OstAY7CF2tS69KlFThnyBU\n",
       "Vxfa7ee8rzor9+N6S6dotv6+6kav0Y5UXJ4CACpoCJ1j1CbILszC4Pe++Jvom4QpwZjz2GsygZiA\n",
       "YIRVgmCcwYhvcv1JrMVSVTjjwbCL3MmhywYPXvvakXt+LfJ+taaFnGxQ3eKj9zFHhF+gN+yBLb1o\n",
       "X+TSH54r8lfrdWhaPy4Ijumt4QAAAY0Bnul0Q38AAAMADswNHMOBqAFP7WC57u4RABxRfG2bvG3h\n",
       "6Ukmbt8khoSuxLxLENuv088iDcXfgPowiuP5G7zpOLIjRXkmds9JKDmC2RViH45ZePPGRnf/y+5o\n",
       "CVXlNdFKY04D2q166xV8OQQJlWfgSZbPBmGaKdkWAeefB7hEsHs72EjqA9DSBP/B96QT+r5rFWyF\n",
       "haBP1N0g+yO+wUmHnSvIA82SJqNjJksMXb0XkGeyyOfJjjDWO2+J7wFB2aM1G7tede2pvHmcErSN\n",
       "dyl9QU0c1AJ+WHi4yEj+TtGIJMLeq7YK4DBZ9RAkkzWoNnPfz9S+cJn620gUG9Kx+AN9Krl4xhan\n",
       "0gXyt8raf5WBXC/2CtlObVqUhkg8vpZSIYHB8u7xijs3MsxpS+HRQjWiuf3FQxgFqPLZOvfJyYtw\n",
       "fXQqhu0XBtmhSHOPiDCTtH37xpbO+4LhPs7cYba4Qe7ZYsW1pOXdbXL2OSP2fSjae51DSYkVEz5q\n",
       "qcplFoV3JLKx6PLwscvVvEFkXaJgAAABZwGe62pDfwAAAwAnumaQu2wADjg+JYmNlsvcC6F+OZ41\n",
       "ZbvXqwW5Z17+xDCKRumJSD0mVkEOurP03vAj0O5+R7uVLWSWniR6X5blNBrBtMO6FaSYNMSQwcIn\n",
       "68Bvj2W4zd2byIbLUr/FV6tc8XOKi77OAn3tb2Y4H6fNW6EUaKu63I8wVyX/RONvlYmqYqHKGw+n\n",
       "31iawQcibopUhbkAhHoc8TzbJbSMD5m+I8Om9tSPpXerSWvh+CkXH63Z0+BlBgzlRo/ooOQbOwga\n",
       "L5zEAuKi2YWJ/HBu2Ud+0TVNv5m9uk3xObU9LQdtEVQo6NK+Uys6OpCmE7MvpmBfz6fgdukkP0LI\n",
       "wg97SkKIFiZpKFIppAb48b9Vi8gQ52sqJdnSOOl/54HyYxzNE/0buKaInMPyhCaEDsrgLxZ8KPaz\n",
       "QWsY+q2+Yz+PyEuJn1g2789W0r1BNpoZKV+VmgWCvT6WQO9hPsB21wKUAAADA0Ga8EmoQWyZTAgj\n",
       "//61KoAAAAcd7WUEGQh5tJPtx1cZro8Gm3zuXMYVhY40EAukzwlhzzbxwQpDy0MBsAw+SYD7xumE\n",
       "aXu4jnpffyvMP35Dofkr+WnospIf/PSj80WkpQSwLU9WbMjkbq2qtmk6IntmTPcZi0rkV7w9xwj/\n",
       "OvPbkgp5aZuqWC5RjVtBueXOsLM+oSnRh9Xvm6DhNc4Ab/pS5vUkR+YY/fp6nCli530D/F0TBZKu\n",
       "hT0HZRJQVKWwIOe/KKyCJoF3O/RDJHDVPMv8gkH7K4WYJJF12k9qe+HfDBH6ZNWRt2BJqX2Aer9y\n",
       "1xTAXUi3vyLtBIDtDQcuweFDwc7NNyDwnsEzXcl3xhg4OkBl+nOp5IXPwD2aNxKvdTIRKWZNAoUz\n",
       "tHuo0Jpnd+4O9UC29l8d3+1vM14hPm8oiXMojtL7L+nTf60pO8eobcFtQscGW48mXBm9v4/6wag2\n",
       "eTbsILk1piKr2/ywVwWeeJlZji4JoVKGYxO/d5i0BO3WWQsnQ3thx5tSO3l938TrZ0CEmEOEt9kl\n",
       "cQ2OFbsFGdFNE5D71/kzyadSQEjWwO8GFH+dAleOsXBRsRzZ0keESZQTDVuG6pKp8/83cSyNTVlL\n",
       "Mld+/qSFXcE18RuPaLhCxu2d+vEVqdOP8qzsxhU5zL74jaqttOXwwnx3HsQ44TWpYk80fbn6rv6W\n",
       "77HNU8K0z9lHI1wSDF+oofy02YX/MQt/sOO6xQbYUbkWklU1rcNYs2dRyAJHsnjPHovDIS9UNedo\n",
       "1Xg1hNr6rTzaTzkYHtJB4WrG490rDBHNCQiTDr3hZ/lA0DGTizX42TaZezTZrMDDqgD4B26QlIVs\n",
       "LTRH5jooXmEmi/WJtZ5Y/iGqKvwP8t2LoP93q0Yw62eQ3JcrE6k3mypTnyEHCKlwyl7urokcv19C\n",
       "9mSb6GSblQ4zMfuF0bO6+9GHTrpJuCldiyr+6m5/Tys/950qoJNbN9NABICl7AbGc0lj0iik4icy\n",
       "2ME6iSHrcLoFgCeqDTaUmsAEfQAAAmVBnw5FFSw7/wAAAwAbMj7R0BrAAAnR4bOtueL8CD9s7K8a\n",
       "WoKBII51kJurDYD7WB5s3yF9hA6n9zEkvJyFF1zjb0fVYGsDTZbIgHuM7A+IoLJ850xEwEdpu3p7\n",
       "wcu3txwHnuxcpCq9rmTmJx6J71VyKFVnR9Ismf5Xgxc3qN5sULf5kzYX1sThBVy1p+bMqWPNXIpb\n",
       "7qtfngBQDFdxPmKJydIb2UwVjZZOCvUo8Klh2HB0CfY+mptkN72E2T2rf3a2SKt8/ehdUEw/bXUf\n",
       "Esdecv/4S0L18mp62//2B2XTUeS+NEx4vZOQUNuimqduPa4ecqpIUBohkCeZnlKN54wTjuJCkGEl\n",
       "FwYCzXc8b4n+1RGNQhPOyrl45ztpqSuPbNJEhy8hfedSDie26V8r427D+hWvuKraujNT0+7VS83g\n",
       "jhZb5oZadc5FM7D4CJabyHQkjbY9f88LpI54DTbyam+qL+VYQIpPhnawsJocqtDiWjxYjGoU31KN\n",
       "PiRwkH84+n99vb2KQ4G09CBxAfljWexHyjZkXffbFR4Qkf2MuJxy3QdgHmIAEX6S+Zr4NcZfefpD\n",
       "MVdTG0G3FR38vAUyYLM74w+8FuG+q6xeVBM7DUf4zxJD2FlyX7vUqaUHvRONoZ6ZKTr9u/o+9ah4\n",
       "c9/7//3+lfWSOVSnPtqa/kjczVQZJAo2iUsFH4I+p+5d8azwdV2QG7/K1ktOrYQXllJ+IzpP1O/B\n",
       "axwR3HxIeLdpfccud4H4NnF6grU/HAYyEqZC56qTbAIA/GSSwtlOY1wISutIYrn7mBgNG45Hh7Uh\n",
       "IQ6NIkFdHTmBAAAB5QGfLXRDfwAAAwAmWde2u28F8AJq8uicKSM3GD1Y6mvQ6mfM2Fg9pEUj1pv/\n",
       "TBYb8GpKcMVlQF6CsUjUK+ouWZzV1Oc3z2MTv6J4osR8PSmO8cODMgSqpwnq7Sbw7pS7RciEXzG+\n",
       "d3URP1b7XdsmtwcVXBr6r0aNYAkHMWfCBe+DpPQecD07OFvHa8PWfKGM2cTOM8/OxKSkqXeH7IYb\n",
       "/rf8bSYA2gNmg8Hk9N1mmJb5CxlUXi+OxAjPygf+n4yvMtLreeK9gBRId3wWALrobEer4NzGZY1h\n",
       "P2NfkHjJfDJSyXx4xCGW341qT+3OLTzm30ivt+QML3uuMdPM6DPyEggN+MSUz65dU2k/9HNtsLl3\n",
       "oR6upVNMnkVhybToumNSNo7noFeERvypY2B1m2VDM9hZnbhhxFrsDf6JfetHytCH2rCA5ui6Mvis\n",
       "IqhcfuT/iuZzw/ZxFZtyv3afLxdmStiQFE+NwaILu8On8oUCDdbAUTMwuLB6dtC/Mp7x+FDlwhiz\n",
       "0UkGHfltdUkBYIcKkkT9R44I7apWV0lCATbgWTgxRP+/66ssGmDdqd+QFLQGfaod4JNWeC1lNIEL\n",
       "xlUW9yfCpRZBVRvKjA6ZA8I8pSAOBVzNGT8dBwlOw+O6w95lTkBz7GK/AAAB8gGfL2pDfwAAAwAl\n",
       "qKioMwgAjC6HzW4dBap8md2g2LqMTswBP6THJkfxeo7FTdrbz3lZtF9V7cmbdacG+wpclCYVwQuO\n",
       "Tu+QhUGCiDrZMh5TLDqY8fS4x8EddW4/d9KKXdfq2L5/yzkDVMvBUa914SRVZZCYid5dzDgEqJ2e\n",
       "OECrOXKrYbGOzYcB2xee7CLM6jx5seKNIYgbkduZBhqk38wlqSEjgMxW7pMDu3z7521oxgRQoZP3\n",
       "XsjDsoTpWeudVW8Ac8wEUgL/9wGXX/emE8FVIj/6+9C9WWas6QQtM9P5Upqkuqj/extawdRjAvvm\n",
       "nOaKmn2CWqIbBu2BGHlHS1WnlgGOEj5/GAsTADyqR+h4Q82JsQR2OWW7n0la78ViJe/esn0LN6rH\n",
       "apF9RTsglSnI5+QFPG1eeHR8wpje3dtS8zjh38e9gZ1ppdDlCpOctZrMP3BPdKYuYY/FfgZjDJq1\n",
       "iY/as9j+0LCpaB9ePz9MZ+2xlq02JZ2MXz6PbA+K1Qrkv/1H+kFkcV3MFG1EMgVCJLPZZyhgd6iN\n",
       "pmbHrxZrR+oSO3a1KLT0i8mn0pAhwKyxDqmpwgpgKbzc0eh9A4t3nBdwQOxXDh0KqcGy/P/nyh5l\n",
       "KEl+CCVJXNGAk0SDz7kx/HE513kjnFiwYebA7UeS8AAAA1dBmzRJqEFsmUwII//+tSqAAAAHJlaa\n",
       "zL3ka1b7O2iIq2oACclQxXcEedQRni3lDtSEAkiWhe/z08hbg0KshB9nd6N4jMVnTS5VADaaaKhN\n",
       "QPuG+kMH57VKHlYbyOpkX89OijUlQz5e0Ke87wAIVS4lHOJ8etFAuylYKQrnQQo444oU3eXohfjM\n",
       "uSHT5ODMiu7Yu22pl6pJXDcSklQjppW7kLmLo42NC4U5tLtXuQek8NOYlpStOc85cFbqbKA4i0he\n",
       "fiY6SDn1X7m3FkxQTI9jnCoRax+vKBs8YdEpk2BEVYBJkStH2tyuxZ2nlfHXQMeNTHc33qXJ0SQ5\n",
       "b73wOwKTkSf2FW3Rq4Q1YX5HBYmmMTistcIlUtcKiEW7FSs88JmLRmWRRcWrQ9nDY0UGWi2mYh+n\n",
       "6UJdQ04S7WAaD0+1TBf87d4/+DnCdTDLuSJHoPdXcdSvIRX07oaYSzSt4upVYQr3G6p0k25CXffM\n",
       "RNFCpJTSK1oZDoORcTi0OHdQQMBHanZ9NZt8NyR0yY+E7n60/2F+j9Xqj6pnnK2q8yuX2k6LCDgt\n",
       "kYxspzDyiPckSDCbt0665lklaJCDo9juFArYENCTOvEg7LnOSZPaqyZWN+J8adU7oIShfF7dQVEj\n",
       "5XrGO94HHEGyMcOB14/4pfVCNSB9TGYxBjMpMTOmoojYUQhNfFcuIlBi+cfhQkdeb/zyAL7UaVuo\n",
       "v5tt5EtCOPwjGSJi10kgDfz5JqXTHIO95QgjFkKHZtqJR+KcSd7DfxG5GOadvrNjHXcVMocDPJHH\n",
       "pGCKlF06TYkty+qUKLZCMxqdyXVg1A/W+KVoNFc+PC5wz6jxDjm7PjlPJz4l8mE70NKwhOUYQQuf\n",
       "uEqV2JutGXN4HrdOXwCoP8nvUyDqPf0QvL1VAkNnuY4OpXBSe93RrZOnDQ5elL4Zm9J081OCRsa5\n",
       "JZFsSwrCoS69xiRlC3rWyFwtuVcKZNs1O8ZYk5It8+YZQ6AHwuXORElN7ohwIOlS3kNRwkfk955u\n",
       "uKA0rdZAR1q6VJYVM+yYo/9PAkPJML9pQEokbzdFq0OlmLBwBLp/EodcHeSRvAz75Ce23kTD9b3Z\n",
       "rM4eSWmhxdyXythIOOYVZxLQ6T5sCkeq2+4T8zSLX4IAM+AAAAH3QZ9SRRUsO/8AAAMAQiQAcst4\n",
       "AKDdGRaqOwFpf8AfhD5Kk3BNfPn1JozgiyJEwWpGSyXw9pbDoMcNa8rcqI6LR993Q9QzH0rCXGt5\n",
       "QScoJiV3oRCNz6//P2POCKtxWiT1t9o3lkMSNiwEh283JuyQ1BSGx7VF1Tf7cbYL5xfZjS4bl8Uz\n",
       "AJr5q/cHQ6Pbd/uLW55YGq1kCsSDIozcf08Lz64bWL5dpZJGwqVpxhVf7JOXI4g0uDTy8dBWruqI\n",
       "yij8hL2EUCpqfBBAuwT13n6FC26JKvhGCU6QRQc4TAsnrMLOhLHMzh+woaz0kejKugo0NtEppUHy\n",
       "a/Og9UJAffM9qVE1orddYXLrD/zTagalzPdPJwwx3+uLE4W/opBc4Hzc6fx//QEGoyn9Iifx/afx\n",
       "Uv6YpMkn7wm45SXuUY4uSklnALo8p9iivikb6gBMUlXQdzh2jeOKTw5WboWS6iFP0qntggTYOatA\n",
       "3oSSmp10o+SjtpnQAAV5YV4sjH1n9UMUhmEJZ6pqNAd1Z7ZcgvhWzxNBa7NcMzSKR1+dQbWirAg8\n",
       "G7eWqwqOU8fzn8cQb6+Fpe9wGbazlT8Y2GUH+dFyDgNvvibR4xsM8xv3nloBnSa6kt0Y+q5xgUBY\n",
       "N5XrzMAYB4iM0p6yyUap5TI8bZxyaayVZDY4S0UAAAIbAZ9xdEN/AAADAGmQvoO1+SLgBxj10Kob\n",
       "YLHU16SFnfBirw705GMn2QugVqVnY3MtuOPLPMZctvFspjbtlDUJYr1ul70g9cG9SRCMNf0k5j2C\n",
       "nBFto0BxIRRHn6a8d0C+hjAVXRyIdr9PaAS+LK2xuR1J0bEo57mJ/ZSE9v8DZCXB4EKoO1wt4iCf\n",
       "FUs9Pa7D1DI4Rf4dxoOtIywts8/8ReMmwUtcg6bILhHoLFTfZrGLjjRmx2bq+HscfE4BrzarGRv0\n",
       "NEgEHC2Ad1yjPjLr6BHGS+PuPTXg+nLeubFdlL1CVNXMbvaseFqS9vZpkPsl4+iv9s7mKgojVmrZ\n",
       "ovBr/npZlcrBPZ1qy4MdXorymx7t/rvqDp1PuTyecJm11iOKrYBDSWKtZW91DHLI7bfeIvu+qHyK\n",
       "uIBlL2VvBpC6yFZFlBof43y4SY1amoQ3uZdhANEARgZCyapdxlH5GPnrYMIEYfPFRcJE/HyCNYGO\n",
       "KoLcHR7AwHFsmkPFy5eyR+n2BzpPuceEaw/2mlyL/OHiWQFN24UQ9EXgZkdaLGwOzbZbnvZifzi+\n",
       "F7n5JqGKN/7FtxnqxMC4+Ao8wDxXCPrt+5ZDr22Qw2Rg6CEpqZiksISYhn62B+podCMyWayYPFYD\n",
       "SBohEVFVTpp+3GqDXTk2mfstiOoq8ccKoT3yE3TdVWCZ72fA+DJhz2Smg9UM8EgSDktRNSa2vD46\n",
       "NFgAAAFYAZ9zakN/AAADAGmAUBTeawCnR8HPkuNje9zQ2pUjf1jX43nqVmpKnzeOXu2/UzigMn/n\n",
       "nG41v61yIx/mZuCfCw/2mgxNm3z/ikO3/t+MBwaNahnpbi3R67ubcaglG4N1khcLlZDPX2KsUdYz\n",
       "Ls2oxIOQjJBzy/zvqDvKGlA+DxgtBz5dQmWl+8BBIi3bQkcqe1l9LwJlgd2Wt0jGwcArIM6Mamoj\n",
       "6Ck8q+9OlKZDqpFwPDE9duDuYHhQjfNuDpnDJzs//xSWNNpJ5/sLmODxsLpJKxQH+VWMElwKrH/n\n",
       "IRAX3EaOFBUBPbVRXhJpApQyfixaBiam5jPTuGFZk/NdBFc5qgJWxfyB4VGgBptr9Sc70Uu+O+wl\n",
       "oJh2fVsELlOTt2tMXDq36ykPU1tj4TFD+0PkCGyPQkjfrQZ+XC3NpM+Nx5upPLdrAN7vOyvNNBRp\n",
       "onDIMLW0ZeAAAALaQZt4SahBbJlMCCP//rUqgAAABqtwfanJUcATCNJjPG7jEkO7W3AjoqfUtrzA\n",
       "GeaagJGrsJawm4uRVa46+XZOszGu2dRklD1BUUKsCxAf0YhIOMuC2AbPqLBEEzUK4OBsFcR53Vsb\n",
       "k87+C481YfW3txFCaCyK0nPrmkMeRe7HqLONgHojIGjlulCdRR09XRLtYv35RiRcHNzCtZVGJrl6\n",
       "jzaY3a+R0K6cy1eJFy27Za6YimjfDBwY2gb9joA6w7jLpyl/JNXeaEkD2hdu8ieN1ttJQiqRhUlz\n",
       "RYy1R9SAHJOvR90EdwIxkKUZuLJn/GxCJP9+xb0OZkmlyGMF/PeFRv/UL/eL979S3D9jV6LoGw7Y\n",
       "eNowA8kcpKYXmY0DWlted0O/tfSPmchRp177e7K1RwmeMNjBJF1DLUGdZ0J/VtnW1j4LSZix/dbk\n",
       "7JkLpuczQKkk7F3aEj2IDXfuaHREQoh1TXggosgPmV5tIW/KgfhhqBYRKUPBPvUckg9L0h0hTGR7\n",
       "h1DC0Mm9lf4YlDU4rRxN+OrIx8dyiyoY/cra3/DYzfJ+wN1iuHx/QJvbHx+6gjo7obujqQDRc9hx\n",
       "yUgb7sUo96/kqf7HIfOu/dJj3guFZM2k/iMvQ+FlyK/XYeGZCWMvD74n2XJp2djvBYyAY8L/vSZx\n",
       "Q1P7i/+OMIalSfBWnYGU4c+fR8KFwnT96KX8WXsfX+eX461FSfXRCMPypInFT0TQZfWyBNyA7Qe1\n",
       "+tiEPJYZ1TZEnr00b6GAg16fpW2eWRAoa9t7DRDMTyQ92tJOLGOpEqMUlB6scwFeNXzIkD6C048C\n",
       "0pc7EQWa3cv39vDdjeyOsrUc3e2RggvnF0ejRK6lWY8/+V0kBWz9zpaboo5DHlO3RSkZ33q+OP8p\n",
       "JpRj6VOVSLNQiBJTDFD2NLDt83gOc4B5eESAcFF9MiO6tvF41/ID6lDeyyvKaMgH9HoRBOk8ENEB\n",
       "AwAAAp9Bn5ZFFSw7/wAAAwBCHKDZUM9cAFh8+mhnVrTKulR6OeDMXu5K+tAhtK/vBCDD/Ww34vyW\n",
       "fIExTyfySrvxUSDhqYFTG71sUjLCDTSmbWUh2mD1PMn99j6m3A0yb1no6RFCbvYqg5BRciNA58qt\n",
       "QZGQ4CkQwEo6va+Qi07e2sQLNv4JHX6av8g2ODli3R/lBBL1uui+hC23Oeh5a7RAy85B+51UzL8B\n",
       "N7e+1evbvtYESejeLPbQwS1NUvqf7nSxOxyQdl+Xiyk2Hp74iQEuG6qDVSDprXc7LBku7N5934GQ\n",
       "GyhlPMM4ogiFZtuFoSMTgY5kWGZm6YQ8x4n7X7v3f43bR+zGw3ytFAUvQoKXmfijXDzwiLjNYh3K\n",
       "mtHPzGNlxbaLBYrz1TdzT5mEoPBmw330Uu4ga/LlYIbj5L8CoWIqheo9I6fhG4IHNbaDTMSku/NP\n",
       "SP1lVZ0uUgw1+Znak+GnRQD/MwFBa/1OnF1t0fA56fhLIC20AEiBWh2wtMcMGzDe1haJQlC2qDLT\n",
       "zVKi12i0VzyX7rEpoOvKROOb73KGdirETX3/20KticINCuorOlVwbzq33QRbDWh3+vyTBvlGEZlK\n",
       "ETihj84VA+d3NkTfMj4Lvwk2GsWpiSecJh/uvKeHxNM+dGximuGvBJbD9hmQK1QKEyBofb/qspdi\n",
       "FGcL9IoKaBm/8JCeuy+6A9JkXW5W7eUdqQ00BKUUvsLEE5Ai7xY0HL0qzA0ZrPh4HTrGfIlDtdTn\n",
       "jQDvnNmOZIw0/UgleiV7aid6PcZhiDu1TZY2und5SgPXqJtZQPGJhBS1P8m9ipm+kC8nwtbbCq9Z\n",
       "OeDnd7+2Mnxh4eYpAOl+YPPVRZEIh43pqKqtMrUsLA+I3zoNouE3FmdgLETz4VrugAAAAfYBn7V0\n",
       "Q38AAAMAJK+sof0pSAE0lwRnu/3UjudxfQVO0jogJg5QnX+SRtvi7pvAQf4fQ28LNYBeiFtCZJyg\n",
       "PV+ugzcfBKhxm3Nv3z5nfzjAzMt1l9ycyJ+au4K7cGkeZmu4ZLB91MTeG1MTtB82qE+Bm8WxIm0l\n",
       "CV3p7lBWTFltOJ8yT9UmLwX0mTWhY05TxI0eooq8vI7Ak63j8hIWcVu4qngm68jbHKwobDB+1lrB\n",
       "5xV3V6UGbZwqurInIKRx+7lYFbQ5lc62p4YWElHeJp/AO2RD7sX3hHBdNLUjMkyy8zhecFqXhLk7\n",
       "Ync6hfRdVJm7M2rB+twx+6U1o5jGzDjK6YMQWH7Ve7lh+jiNowA/nISlpSkLpdZ2sioLsdvxqpnE\n",
       "8GBXr7QZK7lJ84l/0J/BpjnHWLsFvZO5wDeYEHASJzYB/is3vxKuKitE7eNd9IZ6qLkJ8cqyiIR/\n",
       "T6mhW8qcZuDt74WSHpiISgXWbL8mK6JYIujRoWUaZzmZzMwHeBfLqUzCexN+Ku5lLlqVCuS0cs0b\n",
       "6xyfX8Kig9gfFA/MTCDdMQNqT9GwoxHZ5dd3c9DD9eZk9mxU/z3qnyHnNrhHv4RG6gDeUXsNg7wS\n",
       "ZVcZA3auUvI6sadx4G+SgBCHzBLDKWC+m4Zb4A8u53CLKKrIiQH7xSthAAABiAGft2pDfwAAAwAj\n",
       "sXKOCm6/HQom68xAATI4a+Sq4P0AwaijA5R2dCrRnqowinTOsOLS0E5PjzRDggtq3mOGF/Z9htYQ\n",
       "KdjhJ8LTn4BTbnkN8xye8Z2nodWn2dwODvnY9v6zDVjCL6M63mpruKyz3+P0TvodyXFYWCREqeLX\n",
       "82ze9fgSxP09SvYjgP6Tre9SFZaAIjYUBTJTNRD6TgueX+w1BZAK/WS+3zapYyUWubu+KLTZWNtD\n",
       "VY8l7eC3BeKpTQEQHamSjSb31NDURDbkfKijwZE6e3UtT9GxdTY+Yl7kNYxXOy3zGGQqlnDb47PA\n",
       "HD0IX/rZ9/LL9bhF7YC5Retcsx4XxT9re/XnegXC03Mkpdso8AaQdBooXBTINsD9kzU/OaWPFade\n",
       "RsZV3VeqE1jFsz5OVIhXs4OEZUf2Mnp17tUOydW+osTVdaOVnhsgaqvsU+oXcU6h8dWIXa8IiunT\n",
       "jaobcAG6EYbuUCfTlDCbV3/cqRo7PZk4G3l8lCGDh8NnHZBW+1ExAAACFkGbukmoQWyZTBRMEf/+\n",
       "tSqAAAAGUo3InpaAZPumbl6IImRwsMEvNyavM8Qd8Y6TVesX8uirhZgyyFhrvAGt0cyQFqvdr/+W\n",
       "RFditIVo4P3cgU9gyhBJBTFPrwClVRpU2d58LDJlQ07oJqgeb6IStpqID49NCGoIov1axZbSX6sS\n",
       "20eedkzC7mfJzhmCs/GarSmAdUXp2bV2dCR3dlyIKV/l5FAkMKtdPna1pAVjwxUwwt2YzGwNiiui\n",
       "mIcYwwVOOTQ7GvULtxwmQ+X8nvRZ8JIPEOpTVoxZcPlvostI2BzlO8jTh1Libgr5n06yFKoXERkF\n",
       "5UgQbTGPTkF7yCeI5Vv6BXjH+2y7rYMlM8S0mGeu9/ARMDWaBC5/rrhx611BMSCziq0ffUAhYUvi\n",
       "J9QxTP/FaO6xjwSCPGHXRh8GSHPLMIYOd0AWKoMuxQcFZ4QvAF67Qcj6LdOrs4MHIMZkPLnl43VV\n",
       "XpJAG8EVGbcGXPZO7JFvOBaO6vYzTc1bawqscuHKVHqc6iAe3XqD0wGy0s034U8jE68+e+ia3kY9\n",
       "w2gHXM8ijHyBO2jR+f6hXZB1WxcdIq0oU17drhnOQ1zaIeQqzVUyJ4xUh/qeBseQ52HsYBFJ+UKQ\n",
       "gK+saGWmHNpHLCfQtfUrEvb2b93d+I+qsqS7DykVCb7nGOgKKP7Z6y8G2rhQzK0TAS6z7ziIRd8h\n",
       "kU/7HIAJeAAAAUoBn9lqQ38AAAMAIrC3owSbulgAnWgqN2DIukaNEo/MZwQGlQhceMkoZrH3a8cO\n",
       "GywUrDGpylqv+xWMm6lh5kyjiC8lFljlNvabwzIMpm5ENDwgNOdkFDFqLhlmOnjABJbNFFUr7cZ0\n",
       "Z2IM7nvcQ/cDcOz8+eqQrvkHepg6ZmoA3MzXvdyKJxmI1ClQiqjz0AOJ9UM038M0wLOO7GO2HNv2\n",
       "nWPb3Oi14bQXhnOn5Omez57KDxFQ9XDBX4Fv8XlDULb7NiaQQv7D5ZhGrHgeui8BtrDTJp/3G9t+\n",
       "9tfmDAnqkwngP0PXgFIC2CFlv4hCjr42zW3tkQoono0qGQRPRfRyEr3u0v6jnWLDKsX4jno0vPzm\n",
       "9SVTso16APYv94Y7IjhJIJunxKGwKYZ3z3Ec1vx+jsi+MPk++/X5Ug2QJklWQLuvwDBuWw/ZcssA\n",
       "AAFAQZveSeEKUmUwII///rUqgAAABjNwfanJSWAe36xQIl4mA2esMedN4UjsjW0ww5pwvTjUa43y\n",
       "sXfnKqkgcbs4b0aKRrY0D896vukJgH4amecwpy0ARM/wrAUlnTNI+Cb76RjnrNSFEUVmCsHXPh9q\n",
       "pJx/4L1hWYDz1epFzbBvtv1cW31FVD6IuXbDK1e0DzX0tmLv8UUJN0xSkNEis+RGB1ep0h/0SnEs\n",
       "In7oH1Aw8R9LnAhopHV3NBIUqk9tac8IRNRdEHW8YQkdTvJvg7B9rB2I2FYEjzPViFxpvbGA97PF\n",
       "LtNvAltp9BJ3wwZ3ijxnOYITtWtLgqxCVIerYGh24ZoMRv6LMq6q+kVw3q2QCX+UlCvDXv9ntelf\n",
       "n68WwMFiZzsED0YpDzAfW1t83S3GIuWPNxdftQq+viA1WjwAKCAAAAGTQZ/8RTRMO/8AAAMAGA2l\n",
       "ybgBE1xyq3DW9sOVkjPvXveSPJzO/FzyZQY7QuwYCM0rhlYLcmjBAhPpF9e8c5G4ArXx+ryLOw5I\n",
       "3b1daoe3x90m7Ny4wuz/BqFr4uf6Vf/l1q7Ka2CZ9SbV0smxJxbcLaEQo7/+b7tgH6IUF9AqyC23\n",
       "XQjTrb5sibe3MypCSbCMmqM6xYcSuTtz4eVizvnMRCde40BlhjI88vCVVqRIKeIq1LCiF/nuaZJS\n",
       "/zoJX57IXgnLHTPkJaNBNwFgzQxnIMFLmm6+bN+V6OOhOtdJZfXiwbl5f93hu6jwdvRH0jHSXtYY\n",
       "zL5tAuDO8X7Z+UnjCO72aSX7j2tqxy6664IUwRx9j1MI1zelhNFHTx8oaqv74ea+ubmu/kU9ptrh\n",
       "vL0k4bE9B+qpdl2Z41gudBnWfibOcqdEFHTG1QwIACEQtk25nO+5ngsrNjvux6zt4HVZ9u+wo8Gl\n",
       "A3E+0vW7jFQi8JGW4prwXTDInd3/Ko+gtjjJ0uFPNUQ/3sToPBfMeKXiTWgkYQAAAXgBnht0Q38A\n",
       "AAMAIcxoAEZSHQeiOwtkVSoCck4y++Nq3oNNBaNi00DDvXTdwALBKZi9lonNHSJQDfKj/69RNVcY\n",
       "PFWy1I98UXWUI02AU9hTqfh7vh3O595gw1bUvQlieHfvGO1HEWWnUsRGE9uatSg0LVrYHqI6D456\n",
       "TkjXbhD6Upxv8YRGf5vtr66TgrIxFJz9Wt9NeTnNlwuytESx+48L3X+OmYRN3IzbznhgtmAVD1rZ\n",
       "s0nejjCigR6wJBrL3HqLUh4YbwiRpa4LhHZLyA0K4QFljnQ+X11faD2cadPyh2PUX64qDUaX8fu/\n",
       "MigDEaqmd/dWaRyJ/8cOqTtTGF/QLDP6LebKWteJZVVUY78OcW8Ahq0PhCMGi+Zj+JwrjZw3RqiW\n",
       "7VKBGLfbTw3EnvIQcPk6DJfrL4+LJW53izNSyvH0AdiDnANv/Dl2A20qjuv63+7yQs2qiEkh6zNL\n",
       "EZUebdkQGp9l+2f/X3AWlkHsg1Msd6Ap/JOLAAAArwGeHWpDfwAAAwAgsZRppEKABxVRKijQFdit\n",
       "GfQdf27snq4QSMmQCxHwgpisw1DwkYXFwhdL555K5s6VdVAStkafqcnW2VRQTWfBMPuHXUwzt2pP\n",
       "lma87RPlJZ5yyHnjNOOzpXXXZK1hMFEEZ156vwKRrTIe4LMdqZjS/z2bXIk5V5dn3RLzUdFn9t1B\n",
       "qoYH2BikS1Nv/OVRJ/nHt/Q98avKIR1MFP3MTL8ZAio4i4AAAABsQZoCSahBaJlMCCP//rUqgAAA\n",
       "BeOI/tB8uIAYMY9kin0/F5KXWD+xDVyQ7QwCoiNPVuknusTxor2vj4uu9lzejT+poZmxSkuO+y+s\n",
       "anxpU4mnJHm+kJfQ892e3yEElkwvnUf/mYggIjPDYAMCAAAAJEGeIEURLDv/AAADABbjFOC2QpRR\n",
       "pBQvEqAYy8+/wPlwEJTgfQAAAFUBnl90Q38AAAMAH8+5ADjsU+6CrigNY9E3i0VbuCl7FHBI9Ynb\n",
       "4AP1Qmb4P3nGoYzQeu345xji/pyOoaqxODOPcV+7APar8NejyPXvOOB/ZQwtLrWwAAAAFAGeQWpD\n",
       "fwAAAwAAo70HjA3RWx5xAAAAIUGaRkmoQWyZTAgj//61KoAAAAMCIN4NwMJ/sohlAAAFbAAAABpB\n",
       "nmRFFSw7/wAAAwAAcgjXHGGdNIUEhhbjcQAAABQBnoN0Q38AAAMAAKOd75ATBlY84QAAABQBnoVq\n",
       "Q38AAAMAAKO9B4wN0VsecQAAABlBmopJqEFsmUwII//+tSqAAAADAAADAAXFAAAAGkGeqEUVLDv/\n",
       "AAADAAByCNccYZ00hQSGFuNwAAAAFAGex3RDfwAAAwAAo53vkBMGVjzgAAAAFAGeyWpDfwAAAwAA\n",
       "o70HjA3RWx5xAAAAGUGazkmoQWyZTAgj//61KoAAAAMAAAMABcQAAAAaQZ7sRRUsO/8AAAMAAHII\n",
       "1xxhnTSFBIYW43AAAAAUAZ8LdEN/AAADAACjne+QEwZWPOEAAAAUAZ8NakN/AAADAACjvQeMDdFb\n",
       "HnEAAAAZQZsSSahBbJlMCCP//rUqgAAAAwAAAwAFxQAAABpBnzBFFSw7/wAAAwAAcgjXHGGdNIUE\n",
       "hhbjcAAAABQBn090Q38AAAMAAKOd75ATBlY84AAAABQBn1FqQ38AAAMAAKO9B4wN0VsecQAAABlB\n",
       "m1ZJqEFsmUwII//+tSqAAAADAAADAAXEAAAAGkGfdEUVLDv/AAADAAByCNccYZ00hQSGFuNwAAAA\n",
       "FAGfk3RDfwAAAwAAo53vkBMGVjzhAAAAFAGflWpDfwAAAwAAo70HjA3RWx5wAAAAGUGbmkmoQWyZ\n",
       "TAgj//61KoAAAAMAAAMABcUAAAAaQZ+4RRUsO/8AAAMAAHII1xxhnTSFBIYW43EAAAAUAZ/XdEN/\n",
       "AAADAACjne+QEwZWPOAAAAAUAZ/ZakN/AAADAACjvQeMDdFbHnEAAAAZQZveSahBbJlMCCP//rUq\n",
       "gAAAAwAAAwAFxAAAABpBn/xFFSw7/wAAAwAAcgjXHGGdNIUEhhbjcQAAABQBnht0Q38AAAMAAKOd\n",
       "75ATBlY84QAAABQBnh1qQ38AAAMAAKO9B4wN0VsecAAAABlBmgJJqEFsmUwII//+tSqAAAADAAAD\n",
       "AAXEAAAAGkGeIEUVLDv/AAADAAByCNccYZ00hQSGFuNxAAAAFAGeX3RDfwAAAwAAo53vkBMGVjzg\n",
       "AAAAFAGeQWpDfwAAAwAAo70HjA3RWx5xAAAAGUGaRkmoQWyZTAgj//61KoAAAAMAAAMABcQAAAAa\n",
       "QZ5kRRUsO/8AAAMAAHII1xxhnTSFBIYW43EAAAAUAZ6DdEN/AAADAACjne+QEwZWPOEAAAAUAZ6F\n",
       "akN/AAADAACjvQeMDdFbHnEAAAAZQZqKSahBbJlMCCP//rUqgAAAAwAAAwAFxQAAABpBnqhFFSw7\n",
       "/wAAAwAAcgjXHGGdNIUEhhbjcAAAABQBnsd0Q38AAAMAAKOd75ATBlY84AAAABQBnslqQ38AAAMA\n",
       "AKO9B4wN0VsecQAAABlBms5JqEFsmUwII//+tSqAAAADAAADAAXEAAAAGkGe7EUVLDv/AAADAABy\n",
       "CNccYZ00hQSGFuNwAAAAFAGfC3RDfwAAAwAAo53vkBMGVjzhAAAAFAGfDWpDfwAAAwAAo70HjA3R\n",
       "Wx5xAAAAI0GbEkmoQWyZTAgj//61KoAAAAMCy6q60A9hGusi0n5VuAoZAAAAGkGfMEUVLDv/AAAD\n",
       "AAByCNccYZ00hQSGFuNwAAAAFAGfT3RDfwAAAwAAo53vkBMGVjzgAAAAFAGfUWpDfwAAAwAAo70H\n",
       "jA3RWx5xAAAAGUGbVkmoQWyZTAgj//61KoAAAAMAAAMABcQAAAAaQZ90RRUsO/8AAAMAAHII1xxh\n",
       "nTSFBIYW43AAAAAUAZ+TdEN/AAADAACjne+QEwZWPOEAAAAUAZ+VakN/AAADAACjvQeMDdFbHnAA\n",
       "AAAiQZuaSahBbJlMCCP//rUqgAAAAwLKTV6AVD1QKN0TcdwFDQAAABpBn7hFFSw7/wAAAwAAcgjX\n",
       "HGGdNIUEhhbjcQAAABQBn9d0Q38AAAMAAKOd75ATBlY84AAAABQBn9lqQ38AAAMAAKO9B4wN0Vse\n",
       "cQAAABlBm95JqEFsmUwIIf/+qlUAAAMAAAMAAAuIAAAAGkGf/EUVLDv/AAADAAByCNccYZ00hQSG\n",
       "FuNxAAAAFAGeG3RDfwAAAwAAo53vkBMGVjzhAAAAFAGeHWpDfwAAAwAAo70HjA3RWx5wAAAAGUGa\n",
       "AkmoQWyZTAh3//6plgAAAwAAAwAALOAAAAAaQZ4gRRUsO/8AAAMAAHII1xxhnTSFBIYW43EAAAAU\n",
       "AZ5fdEN/AAADAACjne+QEwZWPOAAAAAUAZ5BakN/AAADAACjvQeMDdFbHnEAAAAZQZpDSahBbJlM\n",
       "CG///qeEAAADAAADAABZQAAAB95tb292AAAAbG12aGQAAAAAAAAAAAAAAAAAAAPoAAAnEAABAAAB\n",
       "AAAAAAAAAAAAAAAAAQAAAAAAAAAAAAAAAAAAAAEAAAAAAAAAAAAAAAAAAEAAAAAAAAAAAAAAAAAA\n",
       "AAAAAAAAAAAAAAAAAAAAAAACAAAHCHRyYWsAAABcdGtoZAAAAAMAAAAAAAAAAAAAAAEAAAAAAAAn\n",
       "EAAAAAAAAAAAAAAAAAAAAAAAAQAAAAAAAAAAAAAAAAAAAAEAAAAAAAAAAAAAAAAAAEAAAAACgAAA\n",
       "AeAAAAAAACRlZHRzAAAAHGVsc3QAAAAAAAAAAQAAJxAAAAgAAAEAAAAABoBtZGlhAAAAIG1kaGQA\n",
       "AAAAAAAAAAAAAAAAACgAAAGQAFXEAAAAAAAtaGRscgAAAAAAAAAAdmlkZQAAAAAAAAAAAAAAAFZp\n",
       "ZGVvSGFuZGxlcgAAAAYrbWluZgAAABR2bWhkAAAAAQAAAAAAAAAAAAAAJGRpbmYAAAAcZHJlZgAA\n",
       "AAAAAAABAAAADHVybCAAAAABAAAF63N0YmwAAACzc3RzZAAAAAAAAAABAAAAo2F2YzEAAAAAAAAA\n",
       "AQAAAAAAAAAAAAAAAAAAAAACgAHgAEgAAABIAAAAAAAAAAEAAAAAAAAAAAAAAAAAAAAAAAAAAAAA\n",
       "AAAAAAAAAAAAAAAY//8AAAAxYXZjQwFkABb/4QAYZ2QAFqzZQKA9oQAAAwABAAADABQPFi2WAQAG\n",
       "aOvjyyLAAAAAHHV1aWRraEDyXyRPxbo5pRvPAyPzAAAAAAAAABhzdHRzAAAAAAAAAAEAAABkAAAE\n",
       "AAAAABRzdHNzAAAAAAAAAAEAAAABAAADMGN0dHMAAAAAAAAAZAAAAAEAAAgAAAAAAQAAFAAAAAAB\n",
       "AAAIAAAAAAEAAAAAAAAAAQAABAAAAAABAAAUAAAAAAEAAAgAAAAAAQAAAAAAAAABAAAEAAAAAAEA\n",
       "ABQAAAAAAQAACAAAAAABAAAAAAAAAAEAAAQAAAAAAQAAFAAAAAABAAAIAAAAAAEAAAAAAAAAAQAA\n",
       "BAAAAAABAAAUAAAAAAEAAAgAAAAAAQAAAAAAAAABAAAEAAAAAAEAABQAAAAAAQAACAAAAAABAAAA\n",
       "AAAAAAEAAAQAAAAAAQAADAAAAAABAAAEAAAAAAEAABQAAAAAAQAACAAAAAABAAAAAAAAAAEAAAQA\n",
       "AAAAAQAAFAAAAAABAAAIAAAAAAEAAAAAAAAAAQAABAAAAAABAAAUAAAAAAEAAAgAAAAAAQAAAAAA\n",
       "AAABAAAEAAAAAAEAABQAAAAAAQAACAAAAAABAAAAAAAAAAEAAAQAAAAAAQAAFAAAAAABAAAIAAAA\n",
       "AAEAAAAAAAAAAQAABAAAAAABAAAUAAAAAAEAAAgAAAAAAQAAAAAAAAABAAAEAAAAAAEAABQAAAAA\n",
       "AQAACAAAAAABAAAAAAAAAAEAAAQAAAAAAQAAFAAAAAABAAAIAAAAAAEAAAAAAAAAAQAABAAAAAAB\n",
       "AAAUAAAAAAEAAAgAAAAAAQAAAAAAAAABAAAEAAAAAAEAABQAAAAAAQAACAAAAAABAAAAAAAAAAEA\n",
       "AAQAAAAAAQAAFAAAAAABAAAIAAAAAAEAAAAAAAAAAQAABAAAAAABAAAUAAAAAAEAAAgAAAAAAQAA\n",
       "AAAAAAABAAAEAAAAAAEAABQAAAAAAQAACAAAAAABAAAAAAAAAAEAAAQAAAAAAQAAFAAAAAABAAAI\n",
       "AAAAAAEAAAAAAAAAAQAABAAAAAABAAAUAAAAAAEAAAgAAAAAAQAAAAAAAAABAAAEAAAAAAEAABQA\n",
       "AAAAAQAACAAAAAABAAAAAAAAAAEAAAQAAAAAAQAAFAAAAAABAAAIAAAAAAEAAAAAAAAAAQAABAAA\n",
       "AAABAAAUAAAAAAEAAAgAAAAAAQAAAAAAAAABAAAEAAAAAAEAAAgAAAAAHHN0c2MAAAAAAAAAAQAA\n",
       "AAEAAABkAAAAAQAAAaRzdHN6AAAAAAAAAAAAAABkAAAmfwAAA9EAAAHjAAAB6AAAAUYAAAPnAAAC\n",
       "7AAAAhIAAAG5AAAC+AAAAmUAAAGRAAABawAAAwcAAAJpAAAB6QAAAfYAAANbAAAB+wAAAh8AAAFc\n",
       "AAAC3gAAAqMAAAH6AAABjAAAAhoAAAFOAAABRAAAAZcAAAF8AAAAswAAAHAAAAAoAAAAWQAAABgA\n",
       "AAAlAAAAHgAAABgAAAAYAAAAHQAAAB4AAAAYAAAAGAAAAB0AAAAeAAAAGAAAABgAAAAdAAAAHgAA\n",
       "ABgAAAAYAAAAHQAAAB4AAAAYAAAAGAAAAB0AAAAeAAAAGAAAABgAAAAdAAAAHgAAABgAAAAYAAAA\n",
       "HQAAAB4AAAAYAAAAGAAAAB0AAAAeAAAAGAAAABgAAAAdAAAAHgAAABgAAAAYAAAAHQAAAB4AAAAY\n",
       "AAAAGAAAACcAAAAeAAAAGAAAABgAAAAdAAAAHgAAABgAAAAYAAAAJgAAAB4AAAAYAAAAGAAAAB0A\n",
       "AAAeAAAAGAAAABgAAAAdAAAAHgAAABgAAAAYAAAAHQAAABRzdGNvAAAAAAAAAAEAAAAsAAAAYnVk\n",
       "dGEAAABabWV0YQAAAAAAAAAhaGRscgAAAAAAAAAAbWRpcmFwcGwAAAAAAAAAAAAAAAAtaWxzdAAA\n",
       "ACWpdG9vAAAAHWRhdGEAAAABAAAAAExhdmY1OC4yOS4xMDA=\n",
       "\">\n",
       "  Your browser does not support the video tag.\n",
       "</video>"
      ],
      "text/plain": [
       "<IPython.core.display.HTML object>"
      ]
     },
     "execution_count": 85,
     "metadata": {},
     "output_type": "execute_result"
    }
   ],
   "source": [
    "# record video\n",
    "# visualize trajectories\n",
    "fig = plt.figure()\n",
    "im = plt.imshow(imgs[0, :, :, :])\n",
    "\n",
    "plt.close() # this is required to not display the generated image\n",
    "\n",
    "def init():\n",
    "    im.set_data(imgs[0, :, :, :])\n",
    "\n",
    "def animate(i):\n",
    "    im.set_data(imgs[i, :, :, :])\n",
    "    return im\n",
    "\n",
    "anim = animation.FuncAnimation(fig, animate, init_func=init, frames=imgs.shape[0],\n",
    "                               interval=100)\n",
    "HTML(anim.to_html5_video())"
   ]
  },
  {
   "cell_type": "code",
   "execution_count": 203,
   "metadata": {
    "id": "GgcwQC1E5yRT"
   },
   "outputs": [
    {
     "data": {
      "text/plain": [
       "<matplotlib.image.AxesImage at 0x14b371e14a30>"
      ]
     },
     "execution_count": 203,
     "metadata": {},
     "output_type": "execute_result"
    },
    {
     "data": {
      "image/png": "[encoded data removed]",
      "text/plain": [
       "<Figure size 640x480 with 1 Axes>"
      ]
     },
     "metadata": {},
     "output_type": "display_data"
    }
   ],
   "source": [
    "plt.imshow(imgs[23])"
   ]
  },
  {
   "cell_type": "code",
   "execution_count": null,
   "metadata": {},
   "outputs": [],
   "source": []
  }
 ],
 "metadata": {
  "colab": {
   "provenance": []
  },
  "kernelspec": {
   "display_name": "contrastive_rl [~/.conda/envs/contrastive_rl/]",
   "language": "python",
   "name": "conda_contrastive_rl"
  },
  "language_info": {
   "codemirror_mode": {
    "name": "ipython",
    "version": 3
   },
   "file_extension": ".py",
   "mimetype": "text/x-python",
   "name": "python",
   "nbconvert_exporter": "python",
   "pygments_lexer": "ipython3",
   "version": "3.9.19"
  }
 },
 "nbformat": 4,
 "nbformat_minor": 1
}

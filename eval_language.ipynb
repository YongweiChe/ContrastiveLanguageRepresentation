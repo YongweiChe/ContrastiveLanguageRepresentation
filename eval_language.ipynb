{
 "cells": [
  {
   "cell_type": "code",
   "execution_count": 529,
   "id": "b0dd0910",
   "metadata": {},
   "outputs": [],
   "source": [
    "import copy\n",
    "import functools\n",
    "import os\n",
    "\n",
    "from matplotlib import pyplot as plt\n",
    "from matplotlib import animation\n",
    "from mpl_toolkits.axes_grid1 import make_axes_locatable\n",
    "from IPython.display import HTML\n",
    "\n",
    "import jax\n",
    "import optax\n",
    "import numpy as np\n",
    "import tensorflow as tf\n",
    "\n",
    "from acme import specs\n",
    "from acme.tf.savers import SaveableAdapter\n",
    "\n",
    "import contrastive\n",
    "from contrastive.config import ContrastiveConfig\n",
    "from contrastive import utils as contrastive_utils\n",
    "from contrastive import make_networks\n",
    "from contrastive.utils import make_environment\n",
    "from contrastive import ContrastiveLearner\n",
    "from contrastive.builder import create_maze_dataset_iterator\n",
    "from tqdm import tqdm\n",
    "import point_env\n",
    "import ant_env\n",
    "# disable tensorflow_probability warning: The use of `check_types` is deprecated and does not have any effect.\n",
    "import logging\n",
    "logger = logging.getLogger(\"root\")\n",
    "\n",
    "class CheckTypesFilter(logging.Filter):\n",
    "    def filter(self, record):\n",
    "        return \"check_types\" not in record.getMessage()\n",
    "\n",
    "logger.addFilter(CheckTypesFilter())"
   ]
  },
  {
   "cell_type": "code",
   "execution_count": 530,
   "id": "1185957a",
   "metadata": {},
   "outputs": [],
   "source": [
    "def getConfig(env_name, ckpt_dir, ckpt_num=None):\n",
    "    params = {\n",
    "      'use_random_actor': True,\n",
    "      'entropy_coefficient': None if 'image' in env_name else 0.0,\n",
    "      'env_name': env_name,\n",
    "      # For online RL experiments, max_number_of_steps is the number of\n",
    "      # environment steps. For offline RL experiments, this is the number of\n",
    "      # gradient steps.\n",
    "      'max_number_of_steps': 1_000_000,\n",
    "      'use_image_obs': 'image' in env_name,\n",
    "    }\n",
    "    if 'ant_' in env_name:\n",
    "        params['end_index'] = 2\n",
    "\n",
    "    # 2. Select an algorithm. The currently-supported algorithms are:\n",
    "    # contrastive_nce, contrastive_cpc, c_learning, nce+c_learning, gcbc.\n",
    "    # Many other algorithms can be implemented by passing other parameters\n",
    "    # or adding a few lines of code.\n",
    "    alg = 'contrastive_nce'\n",
    "    if alg == 'contrastive_nce':\n",
    "        pass  # Just use the default hyperparameters\n",
    "    elif alg == 'contrastive_cpc':\n",
    "        params['use_cpc'] = True\n",
    "    elif alg == 'c_learning':\n",
    "        params['use_td'] = True\n",
    "        params['twin_q'] = True\n",
    "    elif alg == 'nce+c_learning':\n",
    "        params['use_td'] = True\n",
    "        params['twin_q'] = True\n",
    "        params['add_mc_to_td'] = True\n",
    "    elif alg == 'gcbc':\n",
    "        params['use_gcbc'] = True\n",
    "    else:\n",
    "        raise NotImplementedError('Unknown method: %s' % alg)\n",
    "        \n",
    "    if 'ant_' in env_name:\n",
    "        params['end_index'] = 2\n",
    "        maze = None\n",
    "        if 'ant_umaze' in env_name:\n",
    "            maze = ant_env.U_MAZE\n",
    "        elif 'ant_medium' in env_name:\n",
    "            maze = ant_env.BIG_MAZE\n",
    "        else:\n",
    "            maze = ant_env.HARDEST_MAZE\n",
    "\n",
    "        params['maze_shape'] = tuple(np.array(maze).shape)\n",
    "\n",
    "    if 'point_' in env_name:\n",
    "        name = env_name[6:]\n",
    "        maze = point_env.WALLS[name]\n",
    "        params['maze_shape'] = tuple(np.array(maze).shape)\n",
    "        \n",
    "    if env_name.startswith('point'):\n",
    "        params['scaling_factor'] = 1.\n",
    "    else:\n",
    "        print(f'scaling factor set to 4.')\n",
    "        params['scaling_factor'] = 4.\n",
    "\n",
    "    # For the offline RL experiments, modify some hyperparameters.\n",
    "    if env_name.startswith('offline_ant'):\n",
    "        params.update({\n",
    "            # Effectively remove the rate-limiter by using very large values.\n",
    "            'samples_per_insert': 1_000_000,\n",
    "            'samples_per_insert_tolerance_rate': 100_000_000.0,\n",
    "            # For the actor update, only use future states as goals.\n",
    "            'random_goals': 0.0,\n",
    "            'bc_coef': 0.05,  # Add a behavioral cloning term to the actor.\n",
    "            'twin_q': True,  # Learn two critics, and take the minimum.\n",
    "            'batch_size': 1024,  # Increase the batch size 256 --> 1024.\n",
    "            'repr_dim': 16,  # Decrease the representation size 64 --> 16.\n",
    "            # Increase the policy network size (256, 256) --> (1024, 1024)\n",
    "            'hidden_layer_sizes': (1024, 1024),\n",
    "        })\n",
    "        print('hi')\n",
    "        \n",
    "    config = ContrastiveConfig(**params)\n",
    "    config.critic_learning_rate = 0.001\n",
    "    obs_dim = make_environment(env_name, config.start_index, config.end_index, seed=0)[1]\n",
    "    print(config.maze_shape)\n",
    "    network_factory = functools.partial(\n",
    "      contrastive.make_networks, \n",
    "        obs_dim=obs_dim, \n",
    "        repr_dim=config.repr_dim,\n",
    "      repr_norm=config.repr_norm, \n",
    "        twin_q=config.twin_q,\n",
    "      use_image_obs=config.use_image_obs,\n",
    "      hidden_layer_sizes=config.hidden_layer_sizes,\n",
    "      maze_shape=config.maze_shape\n",
    "    )\n",
    "\n",
    "    env_factory = lambda seed: make_environment(\n",
    "      env_name, config.start_index, config.end_index, seed)[0]\n",
    "    dummy_seed = 1\n",
    "    environment_spec = specs.make_environment_spec(\n",
    "        env_factory(dummy_seed))\n",
    "    random_key = jax.random.PRNGKey(np.random.choice(int(1e6)))\n",
    "    networks = network_factory(environment_spec)\n",
    "    policy_optimizer = optax.adam(\n",
    "      learning_rate=config.actor_learning_rate)\n",
    "    q_optimizer = optax.adam(\n",
    "      learning_rate=config.critic_learning_rate)\n",
    "    l_optimizer = optax.adam(\n",
    "        learning_rate=config.critic_learning_rate\n",
    "    )\n",
    "\n",
    "    trained_learner = ContrastiveLearner(\n",
    "      networks=networks,\n",
    "      rng=random_key,\n",
    "      policy_optimizer=policy_optimizer,\n",
    "      q_optimizer=q_optimizer,\n",
    "      l_optimizer=l_optimizer,\n",
    "      iterator=None,\n",
    "      counter=None,\n",
    "      logger=None,\n",
    "      config=config,\n",
    "      obs_to_goal=None,\n",
    "      l_iterator=None\n",
    "    )\n",
    "\n",
    "    ckpt = tf.train.Checkpoint(learner=SaveableAdapter(trained_learner))\n",
    "    ckpt_mgr = tf.train.CheckpointManager(\n",
    "        ckpt, ckpt_dir, 1)\n",
    "    \n",
    "    if ckpt_num:\n",
    "        ckpt.restore(os.path.join(ckpt_dir, f'ckpt-{ckpt_num}'))\n",
    "    else:\n",
    "        ckpt.restore(ckpt_mgr.latest_checkpoint)\n",
    "\n",
    "    trained_learner_state = trained_learner._state\n",
    "\n",
    "    print(\"Model loaded from: {}\".format(ckpt_dir))\n",
    "\n",
    "    return config, trained_learner, env_factory, networks, environment_spec"
   ]
  },
  {
   "cell_type": "code",
   "execution_count": 583,
   "id": "e9d652c2",
   "metadata": {},
   "outputs": [
    {
     "name": "stdout",
     "output_type": "stream",
     "text": [
      "scaling factor set to 4.\n",
      "Target Goal:  (5.021817427036397, 9.267891617973081)\n",
      "(5, 5)\n",
      "Target Goal:  (9.061247034903547, 9.432077617000731)\n",
      "maze_shape: (5, 5)\n",
      "q_params: dict_keys(['sa_encoder/~/linear_0', 'sa_encoder/~/linear_1', 'sa_encoder/~/linear_2', 'g_encoder/~/linear_0', 'g_encoder/~/linear_1', 'g_encoder/~/linear_2'])\n",
      "l_params: dict_keys(['g_encoder/~/linear_0', 'g_encoder/~/linear_1', 'g_encoder/~/linear_2', 'l_encoder/~/linear_0', 'l_encoder/~/linear_1', 'l_encoder/~/linear_2'])\n",
      "merged_params: dict_keys(['g_encoder/~/linear_0', 'g_encoder/~/linear_1', 'g_encoder/~/linear_2', 'sa_encoder/~/linear_0', 'sa_encoder/~/linear_1', 'sa_encoder/~/linear_2', 'l_encoder/~/linear_0', 'l_encoder/~/linear_1', 'l_encoder/~/linear_2'])\n",
      "Model loaded from: /home/yongweic/acme/9e6e3f8a-4a25-11ef-abe0-70b5e8f00aac/checkpoints/learner\n",
      "4.0\n"
     ]
    }
   ],
   "source": [
    "env_name = \"ant_umaze\"\n",
    "ckpt_dir = \"/home/yongweic/acme/9e6e3f8a-4a25-11ef-abe0-70b5e8f00aac/checkpoints/learner\"\n",
    "\n",
    "# env_name = 'point_FourRooms'\n",
    "# ckpt_dir = '/home/yongweic/acme/f0beb494-49ef-11ef-a142-70b5e8f06ca6/checkpoints/learner'\n",
    "\n",
    "config, trained_learner, env_factory, networks, env_spec = getConfig(env_name, ckpt_dir, ckpt_num=34)\n",
    "iterator = create_maze_dataset_iterator(config)\n",
    "trained_learner_state = trained_learner._state\n",
    "\n",
    "scaling_factor = config.scaling_factor\n",
    "sf = int(scaling_factor)\n",
    "maze_shape = (config.maze_shape)\n",
    "\n",
    "print(scaling_factor)"
   ]
  },
  {
   "cell_type": "code",
   "execution_count": 584,
   "id": "fb1c96a0",
   "metadata": {},
   "outputs": [
    {
     "name": "stdout",
     "output_type": "stream",
     "text": [
      "Target Goal:  (8.608946350744189, 4.560753015819709)\n",
      "new goal: (9.059218801861716, 0.5023269340544132)\n",
      "(1, 31)\n",
      "cur: [[0.3027843  0.79479724]], goal: [[8.948223  0.6046634]]\n"
     ]
    }
   ],
   "source": [
    "# example usage\n",
    "env = env_factory(np.random.randint(1e6))\n",
    "action_dim = env.action_space.shape[0]\n",
    "obs = env.reset().observation[None,:]\n",
    "print(obs.shape)\n",
    "obs_dim = obs.shape[1]\n",
    "print(f'cur: {obs[:,:2]}, goal: {obs[:,-2:]}')\n",
    "\n",
    "q_params = trained_learner_state.q_params\n",
    "\n",
    "action=np.zeros((1, action_dim))\n",
    "\n",
    "sa_repr, g_repr, (state, goal) = networks.repr_fn(q_params, obs=obs, action=action)"
   ]
  },
  {
   "cell_type": "code",
   "execution_count": 585,
   "id": "fe5ab86a",
   "metadata": {},
   "outputs": [
    {
     "data": {
      "text/plain": [
       "4.0"
      ]
     },
     "execution_count": 585,
     "metadata": {},
     "output_type": "execute_result"
    }
   ],
   "source": [
    "config.scaling_factor"
   ]
  },
  {
   "cell_type": "code",
   "execution_count": 586,
   "id": "31c764c9",
   "metadata": {},
   "outputs": [
    {
     "name": "stdout",
     "output_type": "stream",
     "text": [
      "[[ 3.943976   12.347174  ]\n",
      " [15.545404    7.736578  ]\n",
      " [ 0.45771456  3.9492116 ]\n",
      " [10.147547    8.010874  ]]\n",
      "[[0. 0. 0. 0. 0. 0. 0. 0. 1. 0.]\n",
      " [0. 0. 0. 1. 0. 0. 0. 0. 0. 0.]\n",
      " [1. 0. 0. 0. 0. 0. 0. 0. 0. 0.]\n",
      " [0. 0. 1. 0. 0. 0. 0. 0. 0. 0.]]\n"
     ]
    },
    {
     "data": {
      "text/plain": [
       "<matplotlib.image.AxesImage at 0x149b489c81c0>"
      ]
     },
     "execution_count": 586,
     "metadata": {},
     "output_type": "execute_result"
    },
    {
     "data": {
      "image/png": "[encoded data removed]",
      "text/plain": [
       "<Figure size 640x480 with 1 Axes>"
      ]
     },
     "metadata": {},
     "output_type": "display_data"
    }
   ],
   "source": [
    "sample = next(iterator)\n",
    "print(sample[1][:4,:])\n",
    "print(sample[0][:4,:])\n",
    "\n",
    "g_repr, l_repr, outer = networks.l_network.apply(trained_learner_state.q_params, sample[1][:32,:], sample[0][:32,:])\n",
    "\n",
    "dummy_obs = np.zeros((32, obs_dim))\n",
    "dummy_obs[:,-2:] = sample[1][:32,:]\n",
    "\n",
    "# outer = g_repr @ l_repr.T\n",
    "plt.imshow(np.exp(outer))"
   ]
  },
  {
   "cell_type": "code",
   "execution_count": 587,
   "id": "3b4e6c29",
   "metadata": {},
   "outputs": [
    {
     "data": {
      "text/plain": [
       "<matplotlib.image.AxesImage at 0x149b8adaf700>"
      ]
     },
     "execution_count": 587,
     "metadata": {},
     "output_type": "execute_result"
    },
    {
     "data": {
      "image/png": "[encoded data removed]",
      "text/plain": [
       "<Figure size 640x480 with 1 Axes>"
      ]
     },
     "metadata": {},
     "output_type": "display_data"
    }
   ],
   "source": [
    "_, g_repr, _ = networks.repr_fn(trained_learner_state.q_params, dummy_obs, np.zeros((32,action_dim)))\n",
    "\n",
    "# outer = g_repr @ l_repr.T\n",
    "plt.imshow(np.exp(outer))"
   ]
  },
  {
   "cell_type": "code",
   "execution_count": 588,
   "id": "f03541c0",
   "metadata": {},
   "outputs": [],
   "source": [
    "import jax.numpy as jnp\n",
    "\n",
    "def l_loss(l_params, \n",
    "          l_data):\n",
    "    language, goal = l_data\n",
    "    batch_size = language.shape[0]\n",
    "\n",
    "    I = jnp.eye(batch_size)  # pylint: disable=invalid-name\n",
    "    _, _, logits = networks.l_network.apply(l_params, goal, language)\n",
    "\n",
    "    def loss_fn(_logits):  # pylint: disable=invalid-name\n",
    "        if config.use_cpc:\n",
    "            return (optax.softmax_cross_entropy(logits=_logits, labels=I)\n",
    "                  + 0.01 * jax.nn.logsumexp(_logits, axis=1)**2)\n",
    "        else:\n",
    "            return optax.sigmoid_binary_cross_entropy(logits=_logits, labels=I)\n",
    "\n",
    "    loss = loss_fn(logits)\n",
    "    loss = jnp.mean(loss)\n",
    "\n",
    "    # correct = (jnp.argmax(logits, axis=1) == jnp.argmax(I, axis=1))\n",
    "    # logits_pos = jnp.sum(logits * I) / jnp.sum(I)\n",
    "    # logits_neg = jnp.sum(logits * (1 - I)) / jnp.sum(1 - I)\n",
    "\n",
    "    return loss"
   ]
  },
  {
   "cell_type": "code",
   "execution_count": 589,
   "id": "921081c2",
   "metadata": {},
   "outputs": [
    {
     "name": "stdout",
     "output_type": "stream",
     "text": [
      "LOSS: 0.004276360385119915\n"
     ]
    },
    {
     "data": {
      "text/plain": [
       "31"
      ]
     },
     "execution_count": 589,
     "metadata": {},
     "output_type": "execute_result"
    }
   ],
   "source": [
    "# sanity check\n",
    "loss = l_loss(trained_learner_state.q_params, next(iterator))\n",
    "\n",
    "print(f'LOSS: {loss}')\n",
    "\n",
    "obs_dim"
   ]
  },
  {
   "cell_type": "code",
   "execution_count": 590,
   "id": "cc69bacc",
   "metadata": {},
   "outputs": [
    {
     "name": "stdout",
     "output_type": "stream",
     "text": [
      "(20, 20)\n",
      "[[ 0.30265653  0.10788638  0.41921324 -0.4134728  -0.08780643  0.25554508\n",
      "  -0.46024182  0.04696933  0.38245833  1.2423086   0.34155673  0.86640966\n",
      "   0.11014479  0.17211872  0.34633878  0.47445208 -0.12792376 -0.12950838\n",
      "   0.30622745 -0.00766178  0.69015115  0.03584637 -0.6380462   0.29545537\n",
      "   0.1340377   0.0072005   0.14252415 -0.17772974 -0.31378084 -0.04644775\n",
      "   0.32221016 -0.27055204  0.7194926  -0.21022063 -0.32364514 -0.09258062\n",
      "  -0.45423335 -0.560583   -0.22128099  0.08667861 -0.29162866  0.09132791\n",
      "  -0.5499714   0.18045314 -0.48853523  0.10163698 -0.12068714  0.34873638\n",
      "   0.26246372  0.32310507 -0.56181645  0.5224315  -1.4353205  -0.49574465\n",
      "  -0.10286414  0.04968549 -0.6698041   0.2929174  -0.04831849  0.30833572\n",
      "   0.07802349 -0.28892863  0.14716882  0.1565412 ]]\n"
     ]
    },
    {
     "data": {
      "text/plain": [
       "<matplotlib.image.AxesImage at 0x149b4ab3c430>"
      ]
     },
     "execution_count": 590,
     "metadata": {},
     "output_type": "execute_result"
    },
    {
     "data": {
      "image/png": "[encoded data removed]",
      "text/plain": [
       "<Figure size 640x480 with 1 Axes>"
      ]
     },
     "metadata": {},
     "output_type": "display_data"
    }
   ],
   "source": [
    "def get_maze(env_name):\n",
    "    maze = None\n",
    "    scaling_factor = 1.\n",
    "    \n",
    "    if 'ant_' in env_name:\n",
    "        if 'ant_umaze' in env_name:\n",
    "            maze = ant_env.U_MAZE\n",
    "        elif 'ant_medium' in env_name:\n",
    "            maze = ant_env.BIG_MAZE\n",
    "        else:\n",
    "            maze = ant_env.HARDEST_MAZE\n",
    "        scaling_factor = 4.\n",
    "\n",
    "  \n",
    "    if 'point_' in env_name:\n",
    "        name = env_name[6:]\n",
    "        maze = point_env.WALLS[name]\n",
    "        scaling_factor = 1.\n",
    "      \n",
    "    maze = np.array(maze)\n",
    "    return maze\n",
    "\n",
    "def visualize_language_activation(env_name, category):\n",
    "    maze = get_maze(env_name)\n",
    "    activations = np.zeros(np.array(maze.shape) * sf)\n",
    "    print(activations.shape)\n",
    "    \n",
    "    valid_indices = np.argwhere(maze != 1)\n",
    "    \n",
    "    one_hot = np.zeros(np.sum(maze_shape))\n",
    "    one_hot[category] = 1\n",
    "    one_hot = one_hot[None,:]\n",
    "    _, l_repr, _ = networks.l_network.apply(trained_learner_state.q_params, np.zeros((1, 2)), one_hot)\n",
    "    print(l_repr)\n",
    "    # print(l_repr @ )\n",
    "    \n",
    "    \n",
    "    scaled_rows = maze.shape[0] * sf\n",
    "    scaled_cols = maze.shape[1] * sf\n",
    "    for i in range(scaled_rows):\n",
    "        for j in range(scaled_cols):\n",
    "            if maze[i // sf,j // sf] == 1:\n",
    "                continue\n",
    "            \n",
    "            N = 100\n",
    "            rand2d = np.array([[i, j]]) + np.random.uniform(0, 1, (N, 2))\n",
    "            obs = np.zeros((N, obs_dim))\n",
    "            obs[:,-2:] = rand2d\n",
    "            # print(obs)\n",
    "            _, g_repr, (s, g) = networks.repr_fn(q_params, obs=obs, action=np.zeros((N, action_dim)))\n",
    "            # print(s)\n",
    "            activations[i, j] = np.mean(np.exp(l_repr @ g_repr.T))\n",
    "    \n",
    "    return activations\n",
    "\n",
    "acts = visualize_language_activation(env_name, 5)\n",
    "plt.imshow(acts)"
   ]
  },
  {
   "cell_type": "code",
   "execution_count": 591,
   "id": "7a0cefdc",
   "metadata": {},
   "outputs": [
    {
     "data": {
      "text/plain": [
       "(1, 31)"
      ]
     },
     "execution_count": 591,
     "metadata": {},
     "output_type": "execute_result"
    }
   ],
   "source": [
    "obs.shape"
   ]
  },
  {
   "cell_type": "code",
   "execution_count": 592,
   "id": "c4b04d17",
   "metadata": {},
   "outputs": [
    {
     "data": {
      "text/plain": [
       "array([[12.85188086,  7.8645334 ],\n",
       "       [ 8.70490656,  2.80129883],\n",
       "       [14.48253602,  0.90119755],\n",
       "       [13.89562964, 13.21282423],\n",
       "       [10.31185677,  2.16412558],\n",
       "       [14.59150128, 10.45253169],\n",
       "       [19.98815627, 13.86623508],\n",
       "       [14.63787726, 11.19621529],\n",
       "       [17.97672631,  3.22218208],\n",
       "       [19.96186698, 19.1668916 ]])"
      ]
     },
     "execution_count": 592,
     "metadata": {},
     "output_type": "execute_result"
    }
   ],
   "source": [
    "def sample_goals(env_name, num_goals=10):\n",
    "    maze = get_maze(env_name)\n",
    "    \n",
    "    valid_indices = np.argwhere(maze != 1)\n",
    "    \n",
    "    rand_noise = np.random.uniform(0, 1, (num_goals, 2))\n",
    "    rand_index = np.random.randint(0, len(valid_indices), (num_goals,))\n",
    "    point = valid_indices[rand_index] + rand_noise\n",
    "    \n",
    "    return point * sf\n",
    "\n",
    "sample_goals(env_name, 10)"
   ]
  },
  {
   "cell_type": "code",
   "execution_count": 593,
   "id": "8a31483d",
   "metadata": {
    "scrolled": false
   },
   "outputs": [],
   "source": [
    "import matplotlib.pyplot as plt\n",
    "import numpy as np\n",
    "\n",
    "def plot_trajectory(points, goal):\n",
    "    plt.figure(figsize=(10, 10))\n",
    "    start = points[0]\n",
    "    end = points[-1]\n",
    "    \n",
    "    # Plot the trajectory\n",
    "    points = np.array(points)\n",
    "    plt.plot(points[:,0], points[:,1], 'b-', alpha=0.5, linewidth=1)\n",
    "    \n",
    "    # Plot all trajectory points (smaller and more transparent)\n",
    "    plt.scatter(points[:,0], points[:,1], color='blue', s=10, alpha=0.3)\n",
    "    \n",
    "    # Plot goal point\n",
    "    plt.scatter(goal[0], goal[1], color='purple', s=100, label='Goal', zorder=3)\n",
    "    \n",
    "    # Plot start point (above trajectory)\n",
    "    plt.scatter(start[0], start[1], color='green', s=100, label='Start', zorder=4)\n",
    "    \n",
    "    # Plot end point (above trajectory)\n",
    "    plt.scatter(end[0], end[1], color='red', s=100, label='End', zorder=4)\n",
    "    \n",
    "    plt.xlim((-0.5, 21.))\n",
    "    plt.ylim((-0.5, 21.))\n",
    "    plt.legend()\n",
    "    plt.title('Agent Trajectory')\n",
    "    plt.xlabel('X coordinate')\n",
    "    plt.ylabel('Y coordinate')\n",
    "    plt.grid(True, which='both', linestyle='--', alpha=0.7)\n",
    "    plt.show()\n",
    "\n",
    "# Usage:\n",
    "# plot_trajectory(points, goal)\n",
    "\n",
    "def grid_search_action(env, networks, q_params, obs, num_samples=5, category=None, LSE=True, LSE_dim=1000):\n",
    "    random_states = sample_goals(env_name, num_goals=num_samples)\n",
    "    \n",
    "    #print(f'obs: {obs.shape}')\n",
    "    obs_random_goals = np.tile(obs, (num_samples, 1))\n",
    "    obs_random_goals[:,-2:] = random_states\n",
    "    #print(obs_random_goals.shape)\n",
    "    \n",
    "    dist = networks.policy_network.apply(\n",
    "          trained_learner_state.policy_params,\n",
    "          obs_random_goals\n",
    "        )\n",
    "    action_grid = np.array(dist.mode())\n",
    "    # print(f'actions: {action_grid}')\n",
    "\n",
    "    # print(action_grid)\n",
    "    best_action = None\n",
    "    best_dot_product = -np.inf\n",
    "    \n",
    "    # compute goal representation\n",
    "    if category:\n",
    "        one_hot = np.zeros(np.sum(maze_shape))\n",
    "        one_hot[category] = 1\n",
    "        one_hot = one_hot[None,:]\n",
    "        _, g_repr, _ = networks.l_network.apply(trained_learner_state.q_params, np.zeros((1, 2)), one_hot)\n",
    "    else:\n",
    "        _, g_repr, _ = networks.repr_fn(q_params, obs=obs, action=np.zeros((1, action_dim)))\n",
    "\n",
    "    # compute set of intermediate representations\n",
    "    \n",
    "    if category and LSE:\n",
    "        dummy_obs = np.zeros(obs.shape)\n",
    "        # print(dummy_obs.shape)\n",
    "        dummy_obs = np.tile(dummy_obs, (LSE_dim, 1))\n",
    "        # print(f'dummy obs shape: {dummy_obs.shape}')\n",
    "        intermed_states = sample_goals(env_name, num_goals=LSE_dim)\n",
    "        # print(f'intermed_states shapes: {intermed_states.shape}')\n",
    "        dummy_obs[:,-2:] = intermed_states\n",
    "        # print(dummy_obs)\n",
    "        _, i_reprs1, _ = networks.repr_fn(q_params, obs=dummy_obs, action=np.zeros((LSE_dim, action_dim)))\n",
    "        i_reprs2, _, _ = networks.l_network.apply(trained_learner_state.q_params, \n",
    "                                                    intermed_states, np.zeros((LSE_dim, np.sum(maze_shape))))\n",
    "        # print(i_reprs.shape) # LSE_dim x repr_dim\n",
    "    # pass through network now to get representations\n",
    "    \n",
    "    \n",
    "    for action in action_grid:\n",
    "        # Compute representations\n",
    "        action = np.array(action, dtype=np.float32)\n",
    "        sa_repr, _, _ = networks.repr_fn(q_params, obs=obs, action=action[None, :])\n",
    "        \n",
    "        if category and LSE:\n",
    "            p_sas = sa_repr @ i_reprs1.T\n",
    "            p_ls = g_repr @ i_reprs2.T\n",
    "\n",
    "            p_tot = p_sas + p_ls\n",
    "            exp_tot = np.exp(p_tot)\n",
    "            # print(f'exp_tot: {exp_tot.shape}')\n",
    "            dot_product = np.mean(exp_tot)\n",
    "        else:\n",
    "            dot_product = np.dot(sa_repr.flatten(), g_repr.flatten())\n",
    "\n",
    "        if dot_product > best_dot_product:\n",
    "            best_dot_product = dot_product\n",
    "            best_action = action\n",
    "\n",
    "    # Step the environment with the best action\n",
    "    transition = env.step(best_action)\n",
    "\n",
    "    return best_action\n",
    "\n",
    "def run_episode(env, networks, q_params, n_steps=1, num_samples=1, categorical=False, LSE=True):\n",
    "    obs = env.reset().observation[None,:]\n",
    "    \n",
    "    category=None\n",
    "    if categorical:\n",
    "        category = np.random.randint(0, np.sum(maze_shape))\n",
    "    \n",
    "    \n",
    "    total_reward = 0\n",
    "    done = False\n",
    "    \n",
    "    print(f'start: {obs[0,:2]}, goal: {obs[0,-2:]}')\n",
    "    \n",
    "\n",
    "    points = []\n",
    "    for step in tqdm(range(n_steps)):\n",
    "#         print(f\"\\nStep {step + 1}/{n_steps}\")\n",
    "#         print(f\"Current observation: {obs[:,:2]}, Goal: {obs[:,-2:]}\")\n",
    "        \n",
    "        if DEBUG:\n",
    "            dist = networks.policy_network.apply(\n",
    "                      trained_learner_state.policy_params,\n",
    "                      obs\n",
    "                    )\n",
    "            best_action = np.array(dist.mode())[0]\n",
    "        else:\n",
    "            best_action = grid_search_action(env, \n",
    "                                            networks, \n",
    "                                            q_params, \n",
    "                                            obs, \n",
    "                                            num_samples, \n",
    "                                            category=category,\n",
    "                                            LSE=LSE\n",
    "                                           )\n",
    "        \n",
    "        transition = env.step(best_action)\n",
    "        obs = transition.observation[None,:]\n",
    "        # print(obs[:,:2])\n",
    "        points.append(obs[0,:2])\n",
    "        \n",
    "        cur = obs[0,:2]\n",
    "        goal = obs[0,-2:]\n",
    "        \n",
    "        \n",
    "        if categorical:\n",
    "            # print(f'category: {category} and position: {cur}')\n",
    "            cond1 = category < maze_shape[0] and category == int(cur[0] / sf)\n",
    "            cond2 = category >= maze_shape[0] and category == (int(cur[1] / sf) + maze_shape[0])\n",
    "            if cond1 or cond2:\n",
    "                done = True\n",
    "                break\n",
    "        else:\n",
    "            if np.linalg.norm(cur - goal) < 1.0:\n",
    "                done= True\n",
    "                break\n",
    "        \n",
    "    print(f'end state: {cur}, category: {category}')\n",
    "    # plot_trajectory(points, goal)\n",
    "    return done\n"
   ]
  },
  {
   "cell_type": "code",
   "execution_count": 594,
   "id": "1022648d",
   "metadata": {},
   "outputs": [
    {
     "name": "stdout",
     "output_type": "stream",
     "text": [
      "new goal: (9.32182937659, 0.4841573575030551)\n",
      "start: [0.5786974  0.41188368], goal: [8.501244   0.47686878]\n"
     ]
    },
    {
     "name": "stderr",
     "output_type": "stream",
     "text": [
      "100%|██████████| 700/700 [00:11<00:00, 62.32it/s]\n"
     ]
    },
    {
     "name": "stdout",
     "output_type": "stream",
     "text": [
      "end state: [ 6.687186   -0.57518464], category: None\n",
      "new goal: (4.307803250731139, 8.705618899232373)\n",
      "start: [0.18589102 0.93997407], goal: [3.9612718 8.709267 ]\n"
     ]
    },
    {
     "name": "stderr",
     "output_type": "stream",
     "text": [
      "100%|██████████| 700/700 [00:11<00:00, 61.92it/s]\n"
     ]
    },
    {
     "name": "stdout",
     "output_type": "stream",
     "text": [
      "end state: [ 3.5914502  -0.04451904], category: None\n",
      "new goal: (9.15254248351639, 0.7112602996655664)\n",
      "start: [4.654885 8.669876], goal: [9.226067   0.84332377]\n"
     ]
    },
    {
     "name": "stderr",
     "output_type": "stream",
     "text": [
      "100%|██████████| 700/700 [00:11<00:00, 62.12it/s]\n"
     ]
    },
    {
     "name": "stdout",
     "output_type": "stream",
     "text": [
      "end state: [6.781319  7.4479656], category: None\n",
      "new goal: (8.30977489346625, 5.061326544704971)\n",
      "start: [4.345977  1.2875662], goal: [8.307778  5.0566726]\n"
     ]
    },
    {
     "name": "stderr",
     "output_type": "stream",
     "text": [
      "100%|██████████| 700/700 [00:11<00:00, 61.87it/s]\n"
     ]
    },
    {
     "name": "stdout",
     "output_type": "stream",
     "text": [
      "end state: [4.860401  1.0522888], category: None\n",
      "new goal: (8.791784001315188, 0.7574109214091389)\n",
      "start: [4.828958 9.441061], goal: [8.64172   0.8638058]\n"
     ]
    },
    {
     "name": "stderr",
     "output_type": "stream",
     "text": [
      "100%|██████████| 700/700 [00:11<00:00, 60.11it/s]\n"
     ]
    },
    {
     "name": "stdout",
     "output_type": "stream",
     "text": [
      "end state: [8.534533 4.408674], category: None\n",
      "new goal: (9.01187041263625, 4.3533142295972205)\n",
      "start: [0.6221473  0.36025968], goal: [8.924643  4.5057898]\n"
     ]
    },
    {
     "name": "stderr",
     "output_type": "stream",
     "text": [
      "100%|██████████| 700/700 [00:11<00:00, 59.80it/s]\n"
     ]
    },
    {
     "name": "stdout",
     "output_type": "stream",
     "text": [
      "end state: [ 5.1556     -0.23598833], category: None\n",
      "new goal: (8.542186470958589, 8.429773447663004)\n",
      "start: [0.30893672 0.09864844], goal: [8.687565 8.422136]\n"
     ]
    },
    {
     "name": "stderr",
     "output_type": "stream",
     "text": [
      "100%|██████████| 700/700 [00:11<00:00, 62.03it/s]\n"
     ]
    },
    {
     "name": "stdout",
     "output_type": "stream",
     "text": [
      "end state: [ 3.7863765  -0.30230996], category: None\n",
      "new goal: (8.34347690098386, 1.0602763504203954)\n",
      "start: [0.9042305  0.06711199], goal: [8.295922   0.85658497]\n"
     ]
    },
    {
     "name": "stderr",
     "output_type": "stream",
     "text": [
      "100%|██████████| 700/700 [00:11<00:00, 61.94it/s]\n"
     ]
    },
    {
     "name": "stdout",
     "output_type": "stream",
     "text": [
      "end state: [ 2.469294  -1.2759562], category: None\n",
      "new goal: (0.8297804301338593, 9.045698794827308)\n",
      "start: [0.7226399 8.60092  ], goal: [0.7742811 8.829839 ]\n"
     ]
    },
    {
     "name": "stderr",
     "output_type": "stream",
     "text": [
      "  0%|          | 0/700 [00:00<?, ?it/s]\n"
     ]
    },
    {
     "name": "stdout",
     "output_type": "stream",
     "text": [
      "end state: [0.7101726 8.592002 ], category: None\n",
      "new goal: (0.32702270604000355, 8.261826394376902)\n",
      "start: [0.8190595 0.5361288], goal: [0.37533325 8.098371  ]\n"
     ]
    },
    {
     "name": "stderr",
     "output_type": "stream",
     "text": [
      "100%|██████████| 700/700 [00:11<00:00, 61.95it/s]"
     ]
    },
    {
     "name": "stdout",
     "output_type": "stream",
     "text": [
      "end state: [0.43653697 0.1430139 ], category: None\n",
      "success: 0.1\n"
     ]
    },
    {
     "name": "stderr",
     "output_type": "stream",
     "text": [
      "\n"
     ]
    }
   ],
   "source": [
    "DEBUG = True\n",
    "# Example usage:\n",
    "NUM_TRIALS = 10\n",
    "success_rate = 0\n",
    "for i in range(NUM_TRIALS):\n",
    "    done = run_episode(env, \n",
    "                       networks, \n",
    "                       q_params,\n",
    "                       n_steps=700, \n",
    "                       num_samples=100, \n",
    "                       categorical=False,\n",
    "                       LSE=False\n",
    "                      )\n",
    "    success_rate += done\n",
    "print(f'success: {success_rate / NUM_TRIALS}')"
   ]
  },
  {
   "cell_type": "code",
   "execution_count": 595,
   "id": "50eadaee",
   "metadata": {},
   "outputs": [
    {
     "name": "stdout",
     "output_type": "stream",
     "text": [
      "new goal: (8.370459676761959, 1.021575809459827)\n",
      "start: [8.931455 8.117456], goal: [8.551589  1.1554781]\n"
     ]
    },
    {
     "name": "stderr",
     "output_type": "stream",
     "text": [
      " 81%|████████  | 81/100 [00:40<00:09,  1.99it/s]\n"
     ]
    },
    {
     "name": "stdout",
     "output_type": "stream",
     "text": [
      "end state: [7.912205  6.8036847], category: 1\n",
      "new goal: (8.770291397224964, 0.3546528693933632)\n",
      "start: [0.44803998 0.46192607], goal: [8.868793   0.21629325]\n"
     ]
    },
    {
     "name": "stderr",
     "output_type": "stream",
     "text": [
      "  0%|          | 0/100 [00:00<?, ?it/s]\n"
     ]
    },
    {
     "name": "stdout",
     "output_type": "stream",
     "text": [
      "end state: [0.5055559  0.44733042], category: 5\n",
      "new goal: (5.000531558394639, 8.955052909337146)\n",
      "start: [0.7954524  0.85646784], goal: [5.0066867 8.85885  ]\n"
     ]
    },
    {
     "name": "stderr",
     "output_type": "stream",
     "text": [
      "100%|██████████| 100/100 [00:49<00:00,  2.01it/s]\n"
     ]
    },
    {
     "name": "stdout",
     "output_type": "stream",
     "text": [
      "end state: [ 5.0838995  -0.06988744], category: 8\n",
      "new goal: (8.721768902413663, 5.052480114978838)\n",
      "start: [0.73413205 0.36782104], goal: [8.686329 5.148192]\n"
     ]
    },
    {
     "name": "stderr",
     "output_type": "stream",
     "text": [
      "100%|██████████| 100/100 [00:49<00:00,  2.01it/s]\n"
     ]
    },
    {
     "name": "stdout",
     "output_type": "stream",
     "text": [
      "end state: [1.6933589  0.24319953], category: 8\n",
      "new goal: (9.15857858771967, 0.5733099492891918)\n",
      "start: [1.120854 8.658637], goal: [8.925565   0.62239254]\n"
     ]
    },
    {
     "name": "stderr",
     "output_type": "stream",
     "text": [
      "100%|██████████| 100/100 [00:49<00:00,  2.01it/s]\n"
     ]
    },
    {
     "name": "stdout",
     "output_type": "stream",
     "text": [
      "end state: [-0.31340522  8.615816  ], category: 6\n",
      "new goal: (4.835625126074777, 1.0485931106244193)\n",
      "start: [0.3750101  0.01718355], goal: [4.7610464 1.1752667]\n"
     ]
    },
    {
     "name": "stderr",
     "output_type": "stream",
     "text": [
      "100%|██████████| 100/100 [00:49<00:00,  2.01it/s]\n"
     ]
    },
    {
     "name": "stdout",
     "output_type": "stream",
     "text": [
      "end state: [3.5395424  0.43573397], category: 8\n",
      "new goal: (4.140093871764778, 9.350148613922643)\n",
      "start: [4.5593824 0.6766684], goal: [4.2639704 8.7702265]\n"
     ]
    },
    {
     "name": "stderr",
     "output_type": "stream",
     "text": [
      "  0%|          | 0/100 [00:00<?, ?it/s]\n"
     ]
    },
    {
     "name": "stdout",
     "output_type": "stream",
     "text": [
      "end state: [4.6336856 0.6607757], category: 5\n",
      "new goal: (8.641954229584858, 9.295572589147001)\n",
      "start: [0.6917359 0.7743714], goal: [8.519844 8.173057]\n"
     ]
    },
    {
     "name": "stderr",
     "output_type": "stream",
     "text": [
      "100%|██████████| 100/100 [00:49<00:00,  2.01it/s]\n"
     ]
    },
    {
     "name": "stdout",
     "output_type": "stream",
     "text": [
      "end state: [0.7616265  0.42041734], category: 3\n",
      "new goal: (9.104847371677865, 4.846205552570744)\n",
      "start: [8.699959   0.44686326], goal: [9.145989  4.7502093]\n"
     ]
    },
    {
     "name": "stderr",
     "output_type": "stream",
     "text": [
      "100%|██████████| 100/100 [00:49<00:00,  2.02it/s]\n"
     ]
    },
    {
     "name": "stdout",
     "output_type": "stream",
     "text": [
      "end state: [8.567002  1.5783038], category: 9\n",
      "new goal: (5.244949044694624, 8.631266907995805)\n",
      "start: [0.49536553 8.406304  ], goal: [5.449949 8.515116]\n"
     ]
    },
    {
     "name": "stderr",
     "output_type": "stream",
     "text": [
      "100%|██████████| 100/100 [00:49<00:00,  2.01it/s]"
     ]
    },
    {
     "name": "stdout",
     "output_type": "stream",
     "text": [
      "end state: [0.8830184 9.057746 ], category: 2\n",
      "success: 0.3\n"
     ]
    },
    {
     "name": "stderr",
     "output_type": "stream",
     "text": [
      "\n"
     ]
    }
   ],
   "source": [
    "\n",
    "DEBUG = False\n",
    "# Example usage:\n",
    "NUM_TRIALS = 10\n",
    "success_rate = 0\n",
    "for i in range(NUM_TRIALS):\n",
    "    done = run_episode(env, \n",
    "                       networks, \n",
    "                       q_params, \n",
    "                       n_steps=100, \n",
    "                       num_samples=100, \n",
    "                       categorical=True,\n",
    "                       LSE=True\n",
    "                      )\n",
    "    success_rate += done\n",
    "print(f'success: {success_rate / NUM_TRIALS}')"
   ]
  },
  {
   "cell_type": "code",
   "execution_count": 596,
   "id": "f35fa22f",
   "metadata": {
    "scrolled": true
   },
   "outputs": [
    {
     "name": "stdout",
     "output_type": "stream",
     "text": [
      "new goal: (5.0468660633330895, 0.977730571722234)\n",
      "start: [0.53610873 0.72766006], goal: [4.922506  1.0032237]\n"
     ]
    },
    {
     "name": "stderr",
     "output_type": "stream",
     "text": [
      "100%|██████████| 100/100 [00:42<00:00,  2.34it/s]\n"
     ]
    },
    {
     "name": "stdout",
     "output_type": "stream",
     "text": [
      "end state: [2.204548  0.7379682], category: 6\n",
      "new goal: (4.912668854608478, 0.8285878029027085)\n",
      "start: [0.17081071 0.6541181 ], goal: [4.7633142 0.8112528]\n"
     ]
    },
    {
     "name": "stderr",
     "output_type": "stream",
     "text": [
      "100%|██████████| 100/100 [00:42<00:00,  2.34it/s]\n"
     ]
    },
    {
     "name": "stdout",
     "output_type": "stream",
     "text": [
      "end state: [3.1561365 0.5877366], category: 8\n",
      "new goal: (1.034687317207361, 9.058138948300126)\n",
      "start: [0.18447031 0.06717885], goal: [0.9882493 8.906193 ]\n"
     ]
    },
    {
     "name": "stderr",
     "output_type": "stream",
     "text": [
      "100%|██████████| 100/100 [00:42<00:00,  2.34it/s]\n"
     ]
    },
    {
     "name": "stdout",
     "output_type": "stream",
     "text": [
      "end state: [0.49054876 0.3725748 ], category: 3\n",
      "new goal: (4.427668543243051, 0.7749648579645729)\n",
      "start: [0.2657243  0.97333264], goal: [4.622106   0.74413365]\n"
     ]
    },
    {
     "name": "stderr",
     "output_type": "stream",
     "text": [
      "100%|██████████| 100/100 [00:42<00:00,  2.34it/s]\n"
     ]
    },
    {
     "name": "stdout",
     "output_type": "stream",
     "text": [
      "end state: [3.1548324  0.08104862], category: 6\n",
      "new goal: (9.077446427863842, 8.332599004534336)\n",
      "start: [5.0881553  0.24549165], goal: [9.061455 8.318594]\n"
     ]
    },
    {
     "name": "stderr",
     "output_type": "stream",
     "text": [
      "100%|██████████| 100/100 [00:42<00:00,  2.34it/s]\n"
     ]
    },
    {
     "name": "stdout",
     "output_type": "stream",
     "text": [
      "end state: [ 5.6262503  -0.46788234], category: 2\n",
      "new goal: (9.072696291789239, 8.661355663530367)\n",
      "start: [0.7501887  0.76733035], goal: [9.105452 8.669905]\n"
     ]
    },
    {
     "name": "stderr",
     "output_type": "stream",
     "text": [
      "  0%|          | 0/100 [00:00<?, ?it/s]\n"
     ]
    },
    {
     "name": "stdout",
     "output_type": "stream",
     "text": [
      "end state: [0.76733816 0.743773  ], category: 0\n",
      "new goal: (4.999217874984193, 9.039125837935568)\n",
      "start: [4.272714 0.753308], goal: [5.116929 8.843666]\n"
     ]
    },
    {
     "name": "stderr",
     "output_type": "stream",
     "text": [
      "  0%|          | 0/100 [00:00<?, ?it/s]\n"
     ]
    },
    {
     "name": "stdout",
     "output_type": "stream",
     "text": [
      "end state: [4.220143  0.7624699], category: 1\n",
      "new goal: (0.6590987559311925, 8.098974423201401)\n",
      "start: [8.467396   0.25683612], goal: [0.65991896 8.312759  ]\n"
     ]
    },
    {
     "name": "stderr",
     "output_type": "stream",
     "text": [
      "100%|██████████| 100/100 [00:43<00:00,  2.32it/s]\n"
     ]
    },
    {
     "name": "stdout",
     "output_type": "stream",
     "text": [
      "end state: [ 8.909768  -0.8716178], category: 6\n",
      "new goal: (9.070535008879238, 0.6521603044274293)\n",
      "start: [8.325247 8.928783], goal: [9.065469 0.422851]\n"
     ]
    },
    {
     "name": "stderr",
     "output_type": "stream",
     "text": [
      "100%|██████████| 100/100 [00:42<00:00,  2.33it/s]\n"
     ]
    },
    {
     "name": "stdout",
     "output_type": "stream",
     "text": [
      "end state: [7.5914307 8.620904 ], category: 5\n",
      "new goal: (8.801145525278384, 0.9398043810028086)\n",
      "start: [0.94511694 0.9457109 ], goal: [8.973198   0.94478506]\n"
     ]
    },
    {
     "name": "stderr",
     "output_type": "stream",
     "text": [
      "100%|██████████| 100/100 [00:42<00:00,  2.33it/s]"
     ]
    },
    {
     "name": "stdout",
     "output_type": "stream",
     "text": [
      "end state: [0.689865   0.88487965], category: 2\n",
      "success: 0.2\n"
     ]
    },
    {
     "name": "stderr",
     "output_type": "stream",
     "text": [
      "\n"
     ]
    }
   ],
   "source": [
    "DEBUG = False\n",
    "# Example usage:\n",
    "NUM_TRIALS = 10\n",
    "success_rate = 0\n",
    "for i in range(NUM_TRIALS):\n",
    "    done = run_episode(env, \n",
    "                       networks, \n",
    "                       q_params, \n",
    "                       n_steps=100, \n",
    "                       num_samples=100, \n",
    "                       categorical=True,\n",
    "                       LSE=False\n",
    "                      )\n",
    "    success_rate += done\n",
    "print(f'success: {success_rate / NUM_TRIALS}')"
   ]
  },
  {
   "cell_type": "code",
   "execution_count": null,
   "id": "84830d6b",
   "metadata": {},
   "outputs": [],
   "source": [
    "p = np.array(points)\n",
    "plt.scatter(p[:,0], p[:,1])"
   ]
  },
  {
   "cell_type": "code",
   "execution_count": null,
   "id": "221b30f0",
   "metadata": {},
   "outputs": [],
   "source": [
    "p.shape"
   ]
  },
  {
   "cell_type": "code",
   "execution_count": null,
   "id": "f9bfa5a3",
   "metadata": {},
   "outputs": [],
   "source": [
    "sa_repr, g_repr, (state, goal) = networks.repr_fn(q_params, obs=obs, action=action)"
   ]
  },
  {
   "cell_type": "code",
   "execution_count": null,
   "id": "dea77d70",
   "metadata": {},
   "outputs": [],
   "source": [
    "NUM_EPISODES = 25\n",
    "\n",
    "env = env_factory(np.random.randint(1e6))\n",
    "obs_dim = env.observation_spec().shape[0] // 2\n",
    "episode_returns = np.zeros([NUM_EPISODES, ])\n",
    "\n",
    "timesteps = []\n",
    "for epi in range(NUM_EPISODES):\n",
    "    t = 0\n",
    "    env.seed(epi)  # use fixed seed for different methods\n",
    "    timestep = env.reset()\n",
    "    episode_return = 0\n",
    "    \n",
    "    # print(f'start state: {timestep.observation[:2]}, goal: {timestep.observation[-2:]}')\n",
    "    # goal = [5.9277008955091254, 8.699144684746049]\n",
    "\n",
    "    while not timestep.last():\n",
    "        obs = timestep.observation\n",
    "        # print(obs.shape)\n",
    "        # obs[-2:] = goal\n",
    "        dist = networks.policy_network.apply(\n",
    "          trained_learner_state.policy_params,\n",
    "          timestep.observation\n",
    "        )\n",
    "        action = np.array(dist.mode())\n",
    "        # print(action)\n",
    "        timestep = env.step(action)\n",
    "        timesteps.append(timestep)\n",
    "\n",
    "        # Book-keeping.\n",
    "        t += 1\n",
    "        episode_return += timestep.reward\n",
    "\n",
    "    # assert t == env._step_limit\n",
    "    # print(\"episode length = {}\".format(t))\n",
    "    episode_returns[epi] = episode_return\n",
    "\n",
    "print(\"avg episode return: {}\".format(np.mean(episode_returns)))\n",
    "print(\"success rate: {}\".format(np.mean(episode_returns >= 1)))"
   ]
  },
  {
   "cell_type": "code",
   "execution_count": null,
   "id": "0aaead1d",
   "metadata": {},
   "outputs": [],
   "source": []
  },
  {
   "cell_type": "code",
   "execution_count": null,
   "id": "95586d18",
   "metadata": {},
   "outputs": [],
   "source": [
    "points = []\n",
    "for timestep in timesteps:\n",
    "    points.append(timestep.observation[:2])\n",
    "    \n",
    "points = np.array(points)\n",
    "plt.scatter(points[:,0], points[:,1])"
   ]
  },
  {
   "cell_type": "code",
   "execution_count": null,
   "id": "dad358d6",
   "metadata": {},
   "outputs": [],
   "source": [
    "points"
   ]
  },
  {
   "cell_type": "code",
   "execution_count": null,
   "id": "52cf7358",
   "metadata": {},
   "outputs": [],
   "source": []
  }
 ],
 "metadata": {
  "kernelspec": {
   "display_name": "contrastive_rl [~/.conda/envs/contrastive_rl/]",
   "language": "python",
   "name": "conda_contrastive_rl"
  },
  "language_info": {
   "codemirror_mode": {
    "name": "ipython",
    "version": 3
   },
   "file_extension": ".py",
   "mimetype": "text/x-python",
   "name": "python",
   "nbconvert_exporter": "python",
   "pygments_lexer": "ipython3",
   "version": "3.9.19"
  }
 },
 "nbformat": 4,
 "nbformat_minor": 5
}

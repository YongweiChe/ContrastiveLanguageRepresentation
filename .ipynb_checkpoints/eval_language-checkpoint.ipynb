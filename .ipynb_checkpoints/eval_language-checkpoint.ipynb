{
 "cells": [
  {
   "cell_type": "code",
   "execution_count": 456,
   "id": "b0dd0910",
   "metadata": {},
   "outputs": [],
   "source": [
    "import copy\n",
    "import functools\n",
    "import os\n",
    "\n",
    "from matplotlib import pyplot as plt\n",
    "from matplotlib import animation\n",
    "from mpl_toolkits.axes_grid1 import make_axes_locatable\n",
    "from IPython.display import HTML\n",
    "\n",
    "import jax\n",
    "import optax\n",
    "import numpy as np\n",
    "import tensorflow as tf\n",
    "\n",
    "from acme import specs\n",
    "from acme.tf.savers import SaveableAdapter\n",
    "\n",
    "import contrastive\n",
    "from contrastive.config import ContrastiveConfig\n",
    "from contrastive import utils as contrastive_utils\n",
    "from contrastive import make_networks\n",
    "from contrastive.utils import make_environment\n",
    "from contrastive import ContrastiveLearner\n",
    "from contrastive.builder import create_maze_dataset_iterator\n",
    "from tqdm import tqdm\n",
    "import point_env\n",
    "import ant_env\n",
    "# disable tensorflow_probability warning: The use of `check_types` is deprecated and does not have any effect.\n",
    "import logging\n",
    "logger = logging.getLogger(\"root\")\n",
    "\n",
    "class CheckTypesFilter(logging.Filter):\n",
    "    def filter(self, record):\n",
    "        return \"check_types\" not in record.getMessage()\n",
    "\n",
    "logger.addFilter(CheckTypesFilter())"
   ]
  },
  {
   "cell_type": "code",
   "execution_count": 459,
   "id": "1185957a",
   "metadata": {},
   "outputs": [],
   "source": [
    "def getConfig(env_name, ckpt_dir, ckpt_num=None):\n",
    "    params = {\n",
    "      'use_random_actor': True,\n",
    "      'entropy_coefficient': None if 'image' in env_name else 0.0,\n",
    "      'env_name': env_name,\n",
    "      # For online RL experiments, max_number_of_steps is the number of\n",
    "      # environment steps. For offline RL experiments, this is the number of\n",
    "      # gradient steps.\n",
    "      'max_number_of_steps': 1_000_000,\n",
    "      'use_image_obs': 'image' in env_name,\n",
    "    }\n",
    "    if 'ant_' in env_name:\n",
    "        params['end_index'] = 2\n",
    "\n",
    "    # 2. Select an algorithm. The currently-supported algorithms are:\n",
    "    # contrastive_nce, contrastive_cpc, c_learning, nce+c_learning, gcbc.\n",
    "    # Many other algorithms can be implemented by passing other parameters\n",
    "    # or adding a few lines of code.\n",
    "    alg = 'contrastive_nce'\n",
    "    if alg == 'contrastive_nce':\n",
    "        pass  # Just use the default hyperparameters\n",
    "    elif alg == 'contrastive_cpc':\n",
    "        params['use_cpc'] = True\n",
    "    elif alg == 'c_learning':\n",
    "        params['use_td'] = True\n",
    "        params['twin_q'] = True\n",
    "    elif alg == 'nce+c_learning':\n",
    "        params['use_td'] = True\n",
    "        params['twin_q'] = True\n",
    "        params['add_mc_to_td'] = True\n",
    "    elif alg == 'gcbc':\n",
    "        params['use_gcbc'] = True\n",
    "    else:\n",
    "        raise NotImplementedError('Unknown method: %s' % alg)\n",
    "        \n",
    "    if 'ant_' in env_name:\n",
    "        params['end_index'] = 2\n",
    "        maze = None\n",
    "        if 'ant_umaze' in env_name:\n",
    "            maze = ant_env.U_MAZE\n",
    "        elif 'ant_medium' in env_name:\n",
    "            maze = ant_env.BIG_MAZE\n",
    "        else:\n",
    "            maze = ant_env.HARDEST_MAZE\n",
    "\n",
    "        params['maze_shape'] = tuple(np.array(maze).shape)\n",
    "\n",
    "    if 'point_' in env_name:\n",
    "        name = env_name[6:]\n",
    "        maze = point_env.WALLS[name]\n",
    "        params['maze_shape'] = tuple(np.array(maze).shape)\n",
    "        \n",
    "    if env_name.startswith('point'):\n",
    "        params['scaling_factor'] = 1.\n",
    "    else:\n",
    "        print(f'scaling factor set to 4.')\n",
    "        params['scaling_factor'] = 4.\n",
    "\n",
    "    # For the offline RL experiments, modify some hyperparameters.\n",
    "    if env_name.startswith('offline_ant'):\n",
    "        params.update({\n",
    "            # Effectively remove the rate-limiter by using very large values.\n",
    "            'samples_per_insert': 1_000_000,\n",
    "            'samples_per_insert_tolerance_rate': 100_000_000.0,\n",
    "            # For the actor update, only use future states as goals.\n",
    "            'random_goals': 0.0,\n",
    "            'bc_coef': 0.05,  # Add a behavioral cloning term to the actor.\n",
    "            'twin_q': True,  # Learn two critics, and take the minimum.\n",
    "            'batch_size': 1024,  # Increase the batch size 256 --> 1024.\n",
    "            'repr_dim': 16,  # Decrease the representation size 64 --> 16.\n",
    "            # Increase the policy network size (256, 256) --> (1024, 1024)\n",
    "            'hidden_layer_sizes': (1024, 1024),\n",
    "        })\n",
    "        print('hi')\n",
    "        \n",
    "    config = ContrastiveConfig(**params)\n",
    "    config.critic_learning_rate = 0.001\n",
    "    obs_dim = make_environment(env_name, config.start_index, config.end_index, seed=0)[1]\n",
    "    print(config.maze_shape)\n",
    "    network_factory = functools.partial(\n",
    "      contrastive.make_networks, \n",
    "        obs_dim=obs_dim, \n",
    "        repr_dim=config.repr_dim,\n",
    "      repr_norm=config.repr_norm, \n",
    "        twin_q=config.twin_q,\n",
    "      use_image_obs=config.use_image_obs,\n",
    "      hidden_layer_sizes=config.hidden_layer_sizes,\n",
    "      maze_shape=config.maze_shape\n",
    "    )\n",
    "\n",
    "    env_factory = lambda seed: make_environment(\n",
    "      env_name, config.start_index, config.end_index, seed)[0]\n",
    "    dummy_seed = 1\n",
    "    environment_spec = specs.make_environment_spec(\n",
    "        env_factory(dummy_seed))\n",
    "    random_key = jax.random.PRNGKey(np.random.choice(int(1e6)))\n",
    "    networks = network_factory(environment_spec)\n",
    "    policy_optimizer = optax.adam(\n",
    "      learning_rate=config.actor_learning_rate)\n",
    "    q_optimizer = optax.adam(\n",
    "      learning_rate=config.critic_learning_rate)\n",
    "    l_optimizer = optax.adam(\n",
    "        learning_rate=config.critic_learning_rate\n",
    "    )\n",
    "\n",
    "    trained_learner = ContrastiveLearner(\n",
    "      networks=networks,\n",
    "      rng=random_key,\n",
    "      policy_optimizer=policy_optimizer,\n",
    "      q_optimizer=q_optimizer,\n",
    "      l_optimizer=l_optimizer,\n",
    "      iterator=None,\n",
    "      counter=None,\n",
    "      logger=None,\n",
    "      config=config,\n",
    "      obs_to_goal=None,\n",
    "      l_iterator=None\n",
    "    )\n",
    "\n",
    "    ckpt = tf.train.Checkpoint(learner=SaveableAdapter(trained_learner))\n",
    "    ckpt_mgr = tf.train.CheckpointManager(\n",
    "        ckpt, ckpt_dir, 1)\n",
    "    \n",
    "    if ckpt_num:\n",
    "        ckpt.restore(os.path.join(ckpt_dir, f'ckpt-{ckpt_num}'))\n",
    "    else:\n",
    "        ckpt.restore(ckpt_mgr.latest_checkpoint)\n",
    "\n",
    "    trained_learner_state = trained_learner._state\n",
    "\n",
    "    print(\"Model loaded from: {}\".format(ckpt_dir))\n",
    "\n",
    "    return config, trained_learner, env_factory, networks, environment_spec"
   ]
  },
  {
   "cell_type": "code",
   "execution_count": 477,
   "id": "e9d652c2",
   "metadata": {},
   "outputs": [
    {
     "name": "stdout",
     "output_type": "stream",
     "text": [
      "scaling factor set to 4.\n",
      "Target Goal:  (5.021817427036397, 9.267891617973081)\n",
      "(5, 5)\n",
      "Target Goal:  (9.061247034903547, 9.432077617000731)\n",
      "maze_shape: (5, 5)\n",
      "q_params: dict_keys(['sa_encoder/~/linear_0', 'sa_encoder/~/linear_1', 'sa_encoder/~/linear_2', 'g_encoder/~/linear_0', 'g_encoder/~/linear_1', 'g_encoder/~/linear_2'])\n",
      "l_params: dict_keys(['g_encoder/~/linear_0', 'g_encoder/~/linear_1', 'g_encoder/~/linear_2', 'l_encoder/~/linear_0', 'l_encoder/~/linear_1', 'l_encoder/~/linear_2'])\n",
      "merged_params: dict_keys(['g_encoder/~/linear_0', 'g_encoder/~/linear_1', 'g_encoder/~/linear_2', 'sa_encoder/~/linear_0', 'sa_encoder/~/linear_1', 'sa_encoder/~/linear_2', 'l_encoder/~/linear_0', 'l_encoder/~/linear_1', 'l_encoder/~/linear_2'])\n",
      "Model loaded from: /home/yongweic/acme/cd5021e2-4a0c-11ef-8a87-c84bd67bf260/checkpoints/learner\n",
      "4.0\n"
     ]
    }
   ],
   "source": [
    "env_name = \"ant_umaze\"\n",
    "ckpt_dir = \"/home/yongweic/acme/cd5021e2-4a0c-11ef-8a87-c84bd67bf260/checkpoints/learner\"\n",
    "\n",
    "# env_name = 'point_FourRooms'\n",
    "# ckpt_dir = '/home/yongweic/acme/f0beb494-49ef-11ef-a142-70b5e8f06ca6/checkpoints/learner'\n",
    "\n",
    "config, trained_learner, env_factory, networks, env_spec = getConfig(env_name, ckpt_dir, ckpt_num=21)\n",
    "iterator = create_maze_dataset_iterator(config)\n",
    "trained_learner_state = trained_learner._state\n",
    "\n",
    "scaling_factor = config.scaling_factor\n",
    "sf = int(scaling_factor)\n",
    "maze_shape = (config.maze_shape)\n",
    "\n",
    "print(scaling_factor)"
   ]
  },
  {
   "cell_type": "code",
   "execution_count": 478,
   "id": "fb1c96a0",
   "metadata": {},
   "outputs": [
    {
     "name": "stdout",
     "output_type": "stream",
     "text": [
      "Target Goal:  (8.608946350744189, 4.560753015819709)\n",
      "new goal: (9.059218801861716, 0.5023269340544132)\n",
      "(1, 31)\n",
      "cur: [[0.3027843  0.79479724]], goal: [[9.142438   0.75559866]]\n"
     ]
    }
   ],
   "source": [
    "# example usage\n",
    "env = env_factory(np.random.randint(1e6))\n",
    "action_dim = env.action_space.shape[0]\n",
    "obs = env.reset().observation[None,:]\n",
    "print(obs.shape)\n",
    "obs_dim = obs.shape[1]\n",
    "print(f'cur: {obs[:,:2]}, goal: {obs[:,-2:]}')\n",
    "\n",
    "q_params = trained_learner_state.q_params\n",
    "\n",
    "action=np.zeros((1, action_dim))\n",
    "\n",
    "sa_repr, g_repr, (state, goal) = networks.repr_fn(q_params, obs=obs, action=action)"
   ]
  },
  {
   "cell_type": "code",
   "execution_count": 479,
   "id": "fe5ab86a",
   "metadata": {},
   "outputs": [
    {
     "data": {
      "text/plain": [
       "4.0"
      ]
     },
     "execution_count": 479,
     "metadata": {},
     "output_type": "execute_result"
    }
   ],
   "source": [
    "config.scaling_factor"
   ]
  },
  {
   "cell_type": "code",
   "execution_count": 480,
   "id": "31c764c9",
   "metadata": {},
   "outputs": [
    {
     "name": "stdout",
     "output_type": "stream",
     "text": [
      "[[ 8.250328   5.2359066]\n",
      " [ 2.6435628 19.845144 ]\n",
      " [19.499863  18.30058  ]\n",
      " [13.722943  13.699263 ]]\n",
      "[[0. 0. 1. 0. 0. 0. 0. 0. 0. 0.]\n",
      " [0. 0. 0. 0. 0. 0. 0. 0. 0. 1.]\n",
      " [0. 0. 0. 0. 0. 0. 0. 0. 0. 1.]\n",
      " [0. 0. 0. 0. 0. 0. 0. 0. 1. 0.]]\n"
     ]
    },
    {
     "data": {
      "text/plain": [
       "<matplotlib.image.AxesImage at 0x149b48c3ed60>"
      ]
     },
     "execution_count": 480,
     "metadata": {},
     "output_type": "execute_result"
    },
    {
     "data": {
      "image/png": "[encoded data removed]",
      "text/plain": [
       "<Figure size 640x480 with 1 Axes>"
      ]
     },
     "metadata": {},
     "output_type": "display_data"
    }
   ],
   "source": [
    "sample = next(iterator)\n",
    "print(sample[1][:4,:])\n",
    "print(sample[0][:4,:])\n",
    "\n",
    "g_repr, l_repr, outer = networks.l_network.apply(trained_learner_state.q_params, sample[1][:32,:], sample[0][:32,:])\n",
    "\n",
    "dummy_obs = np.zeros((32, obs_dim))\n",
    "dummy_obs[:,-2:] = sample[1][:32,:]\n",
    "\n",
    "# outer = g_repr @ l_repr.T\n",
    "plt.imshow(np.exp(outer))"
   ]
  },
  {
   "cell_type": "code",
   "execution_count": 481,
   "id": "3b4e6c29",
   "metadata": {},
   "outputs": [
    {
     "data": {
      "text/plain": [
       "<matplotlib.image.AxesImage at 0x149b4816cfa0>"
      ]
     },
     "execution_count": 481,
     "metadata": {},
     "output_type": "execute_result"
    },
    {
     "data": {
      "image/png": "[encoded data removed]",
      "text/plain": [
       "<Figure size 640x480 with 1 Axes>"
      ]
     },
     "metadata": {},
     "output_type": "display_data"
    }
   ],
   "source": [
    "_, g_repr, _ = networks.repr_fn(trained_learner_state.q_params, dummy_obs, np.zeros((32,action_dim)))\n",
    "\n",
    "# outer = g_repr @ l_repr.T\n",
    "plt.imshow(np.exp(outer))"
   ]
  },
  {
   "cell_type": "code",
   "execution_count": 482,
   "id": "f03541c0",
   "metadata": {},
   "outputs": [],
   "source": [
    "import jax.numpy as jnp\n",
    "\n",
    "def l_loss(l_params, \n",
    "          l_data):\n",
    "    language, goal = l_data\n",
    "    batch_size = language.shape[0]\n",
    "\n",
    "    I = jnp.eye(batch_size)  # pylint: disable=invalid-name\n",
    "    _, _, logits = networks.l_network.apply(l_params, goal, language)\n",
    "\n",
    "    def loss_fn(_logits):  # pylint: disable=invalid-name\n",
    "        if config.use_cpc:\n",
    "            return (optax.softmax_cross_entropy(logits=_logits, labels=I)\n",
    "                  + 0.01 * jax.nn.logsumexp(_logits, axis=1)**2)\n",
    "        else:\n",
    "            return optax.sigmoid_binary_cross_entropy(logits=_logits, labels=I)\n",
    "\n",
    "    loss = loss_fn(logits)\n",
    "    loss = jnp.mean(loss)\n",
    "\n",
    "    # correct = (jnp.argmax(logits, axis=1) == jnp.argmax(I, axis=1))\n",
    "    # logits_pos = jnp.sum(logits * I) / jnp.sum(I)\n",
    "    # logits_neg = jnp.sum(logits * (1 - I)) / jnp.sum(1 - I)\n",
    "\n",
    "    return loss"
   ]
  },
  {
   "cell_type": "code",
   "execution_count": 483,
   "id": "921081c2",
   "metadata": {},
   "outputs": [
    {
     "name": "stdout",
     "output_type": "stream",
     "text": [
      "LOSS: 0.0041418843902647495\n"
     ]
    },
    {
     "data": {
      "text/plain": [
       "31"
      ]
     },
     "execution_count": 483,
     "metadata": {},
     "output_type": "execute_result"
    }
   ],
   "source": [
    "# sanity check\n",
    "loss = l_loss(trained_learner_state.q_params, next(iterator))\n",
    "\n",
    "print(f'LOSS: {loss}')\n",
    "\n",
    "obs_dim"
   ]
  },
  {
   "cell_type": "code",
   "execution_count": 484,
   "id": "cc69bacc",
   "metadata": {},
   "outputs": [
    {
     "name": "stdout",
     "output_type": "stream",
     "text": [
      "(20, 20)\n",
      "[[ 2.13583529e-01  2.82389700e-01  3.49094719e-02  6.30359873e-02\n",
      "   4.18551922e-01 -1.23473868e-01 -2.45355926e-02  9.12985727e-02\n",
      "  -1.33476228e-01 -2.40403578e-01  8.82425532e-02  2.66491681e-01\n",
      "  -4.15920377e-01 -1.03671305e-01  3.10480118e-01 -6.35851324e-01\n",
      "   3.72577608e-02  2.04176307e-01 -2.68977806e-02  2.11571783e-01\n",
      "   1.20635644e-01 -5.57693005e-01  2.04431027e-01 -3.75184566e-01\n",
      "  -6.19653612e-04 -6.73143640e-02 -5.29015251e-03  2.70811677e-01\n",
      "   7.34176040e-02 -6.09025598e-01 -2.35860065e-01  1.16705514e-01\n",
      "   1.13985360e+00 -1.91991910e-01 -4.51872408e-01 -1.24796908e-02\n",
      "  -8.21315527e-01 -2.55349636e-01 -3.44826549e-01 -1.22150779e-01\n",
      "   8.19164813e-02  2.74414122e-01  1.68619901e-02  1.99492335e-01\n",
      "   2.44382381e-01  2.45164678e-01 -6.25343323e-02  5.91732621e-01\n",
      "   6.79575264e-01  1.58385545e-01 -1.14639737e-01 -4.78463806e-03\n",
      "  -4.20001894e-01 -7.05399156e-01  4.91914302e-01 -2.26880580e-01\n",
      "  -1.79646635e+00  3.28541875e-01  5.22939116e-02 -2.13928856e-02\n",
      "   3.72151732e-01 -8.87020290e-01  1.76945657e-01  9.32506174e-02]]\n"
     ]
    },
    {
     "data": {
      "text/plain": [
       "<matplotlib.image.AxesImage at 0x149b480e9b80>"
      ]
     },
     "execution_count": 484,
     "metadata": {},
     "output_type": "execute_result"
    },
    {
     "data": {
      "image/png": "[encoded data removed]",
      "text/plain": [
       "<Figure size 640x480 with 1 Axes>"
      ]
     },
     "metadata": {},
     "output_type": "display_data"
    }
   ],
   "source": [
    "def get_maze(env_name):\n",
    "    maze = None\n",
    "    scaling_factor = 1.\n",
    "    \n",
    "    if 'ant_' in env_name:\n",
    "        if 'ant_umaze' in env_name:\n",
    "            maze = ant_env.U_MAZE\n",
    "        elif 'ant_medium' in env_name:\n",
    "            maze = ant_env.BIG_MAZE\n",
    "        else:\n",
    "            maze = ant_env.HARDEST_MAZE\n",
    "        scaling_factor = 4.\n",
    "\n",
    "  \n",
    "    if 'point_' in env_name:\n",
    "        name = env_name[6:]\n",
    "        maze = point_env.WALLS[name]\n",
    "        scaling_factor = 1.\n",
    "      \n",
    "    maze = np.array(maze)\n",
    "    return maze\n",
    "\n",
    "def visualize_language_activation(env_name, category):\n",
    "    maze = get_maze(env_name)\n",
    "    activations = np.zeros(np.array(maze.shape) * sf)\n",
    "    print(activations.shape)\n",
    "    \n",
    "    valid_indices = np.argwhere(maze != 1)\n",
    "    \n",
    "    one_hot = np.zeros(np.sum(maze_shape))\n",
    "    one_hot[category] = 1\n",
    "    one_hot = one_hot[None,:]\n",
    "    _, l_repr, _ = networks.l_network.apply(trained_learner_state.q_params, np.zeros((1, 2)), one_hot)\n",
    "    print(l_repr)\n",
    "    # print(l_repr @ )\n",
    "    \n",
    "    \n",
    "    scaled_rows = maze.shape[0] * sf\n",
    "    scaled_cols = maze.shape[1] * sf\n",
    "    for i in range(scaled_rows):\n",
    "        for j in range(scaled_cols):\n",
    "            if maze[i // sf,j // sf] == 1:\n",
    "                continue\n",
    "            \n",
    "            N = 100\n",
    "            rand2d = np.array([[i, j]]) + np.random.uniform(0, 1, (N, 2))\n",
    "            obs = np.zeros((N, obs_dim))\n",
    "            obs[:,-2:] = rand2d\n",
    "            # print(obs)\n",
    "            _, g_repr, (s, g) = networks.repr_fn(q_params, obs=obs, action=np.zeros((N, action_dim)))\n",
    "            # print(s)\n",
    "            activations[i, j] = np.mean(np.exp(l_repr @ g_repr.T))\n",
    "    \n",
    "    return activations\n",
    "\n",
    "acts = visualize_language_activation(env_name, 5)\n",
    "plt.imshow(acts)"
   ]
  },
  {
   "cell_type": "code",
   "execution_count": 485,
   "id": "7a0cefdc",
   "metadata": {},
   "outputs": [
    {
     "data": {
      "text/plain": [
       "(1, 31)"
      ]
     },
     "execution_count": 485,
     "metadata": {},
     "output_type": "execute_result"
    }
   ],
   "source": [
    "obs.shape"
   ]
  },
  {
   "cell_type": "code",
   "execution_count": 486,
   "id": "c4b04d17",
   "metadata": {},
   "outputs": [
    {
     "data": {
      "text/plain": [
       "array([[12.85188086,  7.8645334 ],\n",
       "       [ 8.70490656,  2.80129883],\n",
       "       [14.48253602,  0.90119755],\n",
       "       [13.89562964, 13.21282423],\n",
       "       [10.31185677,  2.16412558],\n",
       "       [14.59150128, 10.45253169],\n",
       "       [19.98815627, 13.86623508],\n",
       "       [14.63787726, 11.19621529],\n",
       "       [17.97672631,  3.22218208],\n",
       "       [19.96186698, 19.1668916 ]])"
      ]
     },
     "execution_count": 486,
     "metadata": {},
     "output_type": "execute_result"
    }
   ],
   "source": [
    "def sample_goals(env_name, num_goals=10):\n",
    "    maze = get_maze(env_name)\n",
    "    \n",
    "    valid_indices = np.argwhere(maze != 1)\n",
    "    \n",
    "    rand_noise = np.random.uniform(0, 1, (num_goals, 2))\n",
    "    rand_index = np.random.randint(0, len(valid_indices), (num_goals,))\n",
    "    point = valid_indices[rand_index] + rand_noise\n",
    "    \n",
    "    return point * sf\n",
    "\n",
    "sample_goals(env_name, 10)"
   ]
  },
  {
   "cell_type": "code",
   "execution_count": 487,
   "id": "8a31483d",
   "metadata": {
    "scrolled": false
   },
   "outputs": [
    {
     "name": "stdout",
     "output_type": "stream",
     "text": [
      "new goal: (9.32182937659, 0.4841573575030551)\n",
      "start: [0.5786974  0.41188368], goal: [9.239168   0.43823394]\n"
     ]
    },
    {
     "name": "stderr",
     "output_type": "stream",
     "text": [
      "  0%|          | 0/100 [00:00<?, ?it/s]\n"
     ]
    },
    {
     "name": "stdout",
     "output_type": "stream",
     "text": [
      "end state: [0.59932375 0.4737535 ], category: 0\n",
      "new goal: (4.543781650701962, 0.8430890892507998)\n",
      "start: [0.614944  0.5486922], goal: [4.5822115 0.7211951]\n"
     ]
    },
    {
     "name": "stderr",
     "output_type": "stream",
     "text": [
      " 33%|███▎      | 33/100 [00:17<00:35,  1.89it/s]\n"
     ]
    },
    {
     "name": "stdout",
     "output_type": "stream",
     "text": [
      "end state: [4.069611   0.11971843], category: 1\n",
      "new goal: (4.737329294423858, 8.868836907127815)\n",
      "start: [9.159926  0.0946187], goal: [4.8137207 9.031228 ]\n"
     ]
    },
    {
     "name": "stderr",
     "output_type": "stream",
     "text": [
      "100%|██████████| 100/100 [00:52<00:00,  1.91it/s]\n"
     ]
    },
    {
     "name": "stdout",
     "output_type": "stream",
     "text": [
      "end state: [6.605554  1.8475462], category: 3\n",
      "new goal: (8.720988778929664, 1.2258588312664949)\n",
      "start: [8.733856  5.0562687], goal: [8.595857  1.3513573]\n"
     ]
    },
    {
     "name": "stderr",
     "output_type": "stream",
     "text": [
      "100%|██████████| 100/100 [00:51<00:00,  1.93it/s]\n"
     ]
    },
    {
     "name": "stdout",
     "output_type": "stream",
     "text": [
      "end state: [6.9552393 4.288865 ], category: 8\n",
      "new goal: (8.258636097460958, 4.142218360774928)\n",
      "start: [4.517747 8.481433], goal: [8.519185  3.9674613]\n"
     ]
    },
    {
     "name": "stderr",
     "output_type": "stream",
     "text": [
      "  0%|          | 0/100 [00:00<?, ?it/s]\n"
     ]
    },
    {
     "name": "stdout",
     "output_type": "stream",
     "text": [
      "end state: [4.4831576 8.52919  ], category: 7\n",
      "new goal: (8.59105696337494, 9.124443970719158)\n",
      "start: [0.85120386 0.5833261 ], goal: [8.471081 8.919406]\n"
     ]
    },
    {
     "name": "stderr",
     "output_type": "stream",
     "text": [
      "100%|██████████| 100/100 [00:50<00:00,  1.97it/s]\n"
     ]
    },
    {
     "name": "stdout",
     "output_type": "stream",
     "text": [
      "end state: [ 3.6061294 -1.1764157], category: 2\n",
      "new goal: (9.206901436221793, 5.014407857636126)\n",
      "start: [0.78809357 0.5103255 ], goal: [8.696385 5.10752 ]\n"
     ]
    },
    {
     "name": "stderr",
     "output_type": "stream",
     "text": [
      "100%|██████████| 100/100 [00:50<00:00,  1.97it/s]\n"
     ]
    },
    {
     "name": "stdout",
     "output_type": "stream",
     "text": [
      "end state: [0.27905726 0.7224638 ], category: 1\n",
      "new goal: (8.337518839255612, 4.464936681915532)\n",
      "start: [4.7973084  0.73287547], goal: [8.116521 4.415971]\n"
     ]
    },
    {
     "name": "stderr",
     "output_type": "stream",
     "text": [
      " 72%|███████▏  | 72/100 [00:36<00:14,  1.96it/s]\n"
     ]
    },
    {
     "name": "stdout",
     "output_type": "stream",
     "text": [
      "end state: [8.081118  0.2789604], category: 2\n",
      "new goal: (4.711041568541167, 0.7543759924268402)\n",
      "start: [4.595624 8.767769], goal: [4.859442   0.54022604]\n"
     ]
    },
    {
     "name": "stderr",
     "output_type": "stream",
     "text": [
      " 43%|████▎     | 43/100 [00:21<00:28,  1.98it/s]\n"
     ]
    },
    {
     "name": "stdout",
     "output_type": "stream",
     "text": [
      "end state: [5.5901403 7.95915  ], category: 6\n",
      "new goal: (8.959790780613707, 1.1108722730168723)\n",
      "start: [5.341662  1.2457721], goal: [8.9288225 1.0960749]\n"
     ]
    },
    {
     "name": "stderr",
     "output_type": "stream",
     "text": [
      "100%|██████████| 100/100 [00:49<00:00,  2.03it/s]"
     ]
    },
    {
     "name": "stdout",
     "output_type": "stream",
     "text": [
      "end state: [ 6.1060696  -0.12831579], category: 4\n",
      "success: 0.5\n"
     ]
    },
    {
     "name": "stderr",
     "output_type": "stream",
     "text": [
      "\n"
     ]
    }
   ],
   "source": [
    "import matplotlib.pyplot as plt\n",
    "import numpy as np\n",
    "\n",
    "def plot_trajectory(points, goal):\n",
    "    plt.figure(figsize=(10, 10))\n",
    "    start = points[0]\n",
    "    end = points[-1]\n",
    "    \n",
    "    # Plot the trajectory\n",
    "    points = np.array(points)\n",
    "    plt.plot(points[:,0], points[:,1], 'b-', alpha=0.5, linewidth=1)\n",
    "    \n",
    "    # Plot all trajectory points (smaller and more transparent)\n",
    "    plt.scatter(points[:,0], points[:,1], color='blue', s=10, alpha=0.3)\n",
    "    \n",
    "    # Plot goal point\n",
    "    plt.scatter(goal[0], goal[1], color='purple', s=100, label='Goal', zorder=3)\n",
    "    \n",
    "    # Plot start point (above trajectory)\n",
    "    plt.scatter(start[0], start[1], color='green', s=100, label='Start', zorder=4)\n",
    "    \n",
    "    # Plot end point (above trajectory)\n",
    "    plt.scatter(end[0], end[1], color='red', s=100, label='End', zorder=4)\n",
    "    \n",
    "    plt.xlim((-0.5, 21.))\n",
    "    plt.ylim((-0.5, 21.))\n",
    "    plt.legend()\n",
    "    plt.title('Agent Trajectory')\n",
    "    plt.xlabel('X coordinate')\n",
    "    plt.ylabel('Y coordinate')\n",
    "    plt.grid(True, which='both', linestyle='--', alpha=0.7)\n",
    "    plt.show()\n",
    "\n",
    "# Usage:\n",
    "# plot_trajectory(points, goal)\n",
    "\n",
    "def grid_search_action(env, networks, q_params, obs, num_samples=5, category=None, LSE=True, LSE_dim=1000):\n",
    "    random_states = sample_goals(env_name, num_goals=num_samples)\n",
    "    \n",
    "    #print(f'obs: {obs.shape}')\n",
    "    obs_random_goals = np.tile(obs, (num_samples, 1))\n",
    "    obs_random_goals[:,-2:] = random_states\n",
    "    #print(obs_random_goals.shape)\n",
    "    \n",
    "    dist = networks.policy_network.apply(\n",
    "          trained_learner_state.policy_params,\n",
    "          obs_random_goals\n",
    "        )\n",
    "    action_grid = np.array(dist.mode())\n",
    "    # print(f'actions: {action_grid}')\n",
    "\n",
    "    # print(action_grid)\n",
    "    best_action = None\n",
    "    best_dot_product = -np.inf\n",
    "    \n",
    "    # compute goal representation\n",
    "    if category:\n",
    "        one_hot = np.zeros(np.sum(maze_shape))\n",
    "        one_hot[category] = 1\n",
    "        one_hot = one_hot[None,:]\n",
    "        _, g_repr, _ = networks.l_network.apply(trained_learner_state.q_params, np.zeros((1, 2)), one_hot)\n",
    "    else:\n",
    "        _, g_repr, _ = networks.repr_fn(q_params, obs=obs, action=np.zeros((1, action_dim)))\n",
    "\n",
    "    # compute set of intermediate representations\n",
    "    \n",
    "    if category and LSE:\n",
    "        dummy_obs = np.zeros(obs.shape)\n",
    "        # print(dummy_obs.shape)\n",
    "        dummy_obs = np.tile(dummy_obs, (LSE_dim, 1))\n",
    "        # print(f'dummy obs shape: {dummy_obs.shape}')\n",
    "        intermed_states = sample_goals(env_name, num_goals=LSE_dim)\n",
    "        # print(f'intermed_states shapes: {intermed_states.shape}')\n",
    "        dummy_obs[:,-2:] = intermed_states\n",
    "        # print(dummy_obs)\n",
    "        _, i_reprs1, _ = networks.repr_fn(q_params, obs=dummy_obs, action=np.zeros((LSE_dim, action_dim)))\n",
    "        i_reprs2, _, _ = networks.l_network.apply(trained_learner_state.q_params, \n",
    "                                                    intermed_states, np.zeros((LSE_dim, np.sum(maze_shape))))\n",
    "        # print(i_reprs.shape) # LSE_dim x repr_dim\n",
    "    # pass through network now to get representations\n",
    "    \n",
    "    \n",
    "    for action in action_grid:\n",
    "        # Compute representations\n",
    "        action = np.array(action, dtype=np.float32)\n",
    "        sa_repr, _, _ = networks.repr_fn(q_params, obs=obs, action=action[None, :])\n",
    "        \n",
    "        if category and LSE:\n",
    "            p_sas = sa_repr @ i_reprs1.T\n",
    "            p_ls = g_repr @ i_reprs2.T\n",
    "\n",
    "            p_tot = p_sas + p_ls\n",
    "            exp_tot = np.exp(p_tot)\n",
    "            # print(f'exp_tot: {exp_tot.shape}')\n",
    "            dot_product = np.mean(exp_tot)\n",
    "        else:\n",
    "            dot_product = np.dot(sa_repr.flatten(), g_repr.flatten())\n",
    "\n",
    "        if dot_product > best_dot_product:\n",
    "            best_dot_product = dot_product\n",
    "            best_action = action\n",
    "\n",
    "    # Step the environment with the best action\n",
    "    transition = env.step(best_action)\n",
    "\n",
    "    return best_action\n",
    "\n",
    "def run_episode(env, networks, q_params, n_steps=1, num_samples=1, categorical=False, LSE=True):\n",
    "    obs = env.reset().observation[None,:]\n",
    "    \n",
    "    category=None\n",
    "    if categorical:\n",
    "        category = np.random.randint(0, np.sum(maze_shape))\n",
    "    \n",
    "    \n",
    "    total_reward = 0\n",
    "    done = False\n",
    "    \n",
    "    print(f'start: {obs[0,:2]}, goal: {obs[0,-2:]}')\n",
    "    \n",
    "\n",
    "    points = []\n",
    "    for step in tqdm(range(n_steps)):\n",
    "#         print(f\"\\nStep {step + 1}/{n_steps}\")\n",
    "#         print(f\"Current observation: {obs[:,:2]}, Goal: {obs[:,-2:]}\")\n",
    "        \n",
    "        if DEBUG:\n",
    "            dist = networks.policy_network.apply(\n",
    "                      trained_learner_state.policy_params,\n",
    "                      obs\n",
    "                    )\n",
    "            best_action = np.array(dist.mode())[0]\n",
    "        else:\n",
    "            best_action = grid_search_action(env, \n",
    "                                            networks, \n",
    "                                            q_params, \n",
    "                                            obs, \n",
    "                                            num_samples, \n",
    "                                            category=category,\n",
    "                                            LSE=LSE\n",
    "                                           )\n",
    "        \n",
    "        transition = env.step(best_action)\n",
    "        obs = transition.observation[None,:]\n",
    "        # print(obs[:,:2])\n",
    "        points.append(obs[0,:2])\n",
    "        \n",
    "        cur = obs[0,:2]\n",
    "        goal = obs[0,-2:]\n",
    "        \n",
    "        \n",
    "        if categorical:\n",
    "            # print(f'category: {category} and position: {cur}')\n",
    "            cond1 = category < maze_shape[0] and category == int(cur[0] / sf)\n",
    "            cond2 = category >= maze_shape[0] and category == (int(cur[1] / sf) + maze_shape[0])\n",
    "            if cond1 or cond2:\n",
    "                done = True\n",
    "                break\n",
    "        else:\n",
    "            if np.linalg.norm(cur - goal) < 1.0:\n",
    "                done= True\n",
    "                break\n",
    "        \n",
    "    print(f'end state: {cur}, category: {category}')\n",
    "    # plot_trajectory(points, goal)\n",
    "    return done\n"
   ]
  },
  {
   "cell_type": "code",
   "execution_count": 491,
   "id": "1022648d",
   "metadata": {},
   "outputs": [
    {
     "name": "stdout",
     "output_type": "stream",
     "text": [
      "new goal: (4.86320562088301, 8.701165962797456)\n",
      "start: [0.84537166 0.76605785], goal: [4.996436 8.847887]\n"
     ]
    },
    {
     "name": "stderr",
     "output_type": "stream",
     "text": [
      "100%|██████████| 700/700 [00:12<00:00, 57.54it/s]\n"
     ]
    },
    {
     "name": "stdout",
     "output_type": "stream",
     "text": [
      "end state: [2.4156346 0.877996 ], category: None\n",
      "new goal: (4.465841858584882, 0.23441643264245532)\n",
      "start: [4.7533875 8.613199 ], goal: [4.725929   0.20398965]\n"
     ]
    },
    {
     "name": "stderr",
     "output_type": "stream",
     "text": [
      "100%|██████████| 700/700 [00:11<00:00, 58.83it/s]\n"
     ]
    },
    {
     "name": "stdout",
     "output_type": "stream",
     "text": [
      "end state: [5.0424232 8.335291 ], category: None\n",
      "new goal: (4.69065203017481, 8.442260159252964)\n",
      "start: [0.6623911 0.5902345], goal: [4.825592 8.205098]\n"
     ]
    },
    {
     "name": "stderr",
     "output_type": "stream",
     "text": [
      "100%|██████████| 700/700 [00:12<00:00, 57.96it/s]\n"
     ]
    },
    {
     "name": "stdout",
     "output_type": "stream",
     "text": [
      "end state: [ 0.3847931  -0.03755624], category: None\n",
      "new goal: (8.969254847018075, 8.514785928771495)\n",
      "start: [0.7599682 0.684178 ], goal: [8.904618 8.45515 ]\n"
     ]
    },
    {
     "name": "stderr",
     "output_type": "stream",
     "text": [
      "100%|██████████| 700/700 [00:12<00:00, 57.57it/s]\n"
     ]
    },
    {
     "name": "stdout",
     "output_type": "stream",
     "text": [
      "end state: [ 1.75696    -0.06894554], category: None\n",
      "new goal: (0.5853668540023469, 8.42648812495977)\n",
      "start: [4.5910153 8.46328  ], goal: [0.4849179 8.637985 ]\n"
     ]
    },
    {
     "name": "stderr",
     "output_type": "stream",
     "text": [
      " 20%|█▉        | 139/700 [00:02<00:09, 57.13it/s]\n"
     ]
    },
    {
     "name": "stdout",
     "output_type": "stream",
     "text": [
      "end state: [1.4717295 8.495444 ], category: None\n",
      "new goal: (4.952050754552638, 8.979333489668912)\n",
      "start: [0.85783726 8.390609  ], goal: [4.95555  8.827564]\n"
     ]
    },
    {
     "name": "stderr",
     "output_type": "stream",
     "text": [
      "100%|██████████| 700/700 [00:12<00:00, 57.13it/s]\n"
     ]
    },
    {
     "name": "stdout",
     "output_type": "stream",
     "text": [
      "end state: [0.37048227 7.327766  ], category: None\n",
      "new goal: (4.436997077863631, 1.042792501533823)\n",
      "start: [4.248397   0.74729484], goal: [4.5829015 0.7155774]\n"
     ]
    },
    {
     "name": "stderr",
     "output_type": "stream",
     "text": [
      "  0%|          | 0/700 [00:00<?, ?it/s]\n"
     ]
    },
    {
     "name": "stdout",
     "output_type": "stream",
     "text": [
      "end state: [4.2452335 0.7579445], category: None\n",
      "new goal: (8.72194365293864, 8.490745875345675)\n",
      "start: [0.8846134 0.2289676], goal: [8.526279  8.4569845]\n"
     ]
    },
    {
     "name": "stderr",
     "output_type": "stream",
     "text": [
      " 48%|████▊     | 337/700 [00:05<00:06, 56.90it/s]\n"
     ]
    },
    {
     "name": "stdout",
     "output_type": "stream",
     "text": [
      "end state: [8.085048  7.5993147], category: None\n",
      "new goal: (4.410001848018003, 0.3419030352769292)\n",
      "start: [0.5415303  0.08597644], goal: [4.4170527  0.23198019]\n"
     ]
    },
    {
     "name": "stderr",
     "output_type": "stream",
     "text": [
      " 35%|███▌      | 246/700 [00:04<00:07, 57.10it/s]\n"
     ]
    },
    {
     "name": "stdout",
     "output_type": "stream",
     "text": [
      "end state: [3.5780814  0.71633714], category: None\n",
      "new goal: (4.891802409733963, 0.5307406646038941)\n",
      "start: [8.71282 9.135  ], goal: [4.592483   0.63912517]\n"
     ]
    },
    {
     "name": "stderr",
     "output_type": "stream",
     "text": [
      "100%|██████████| 700/700 [00:12<00:00, 58.33it/s]"
     ]
    },
    {
     "name": "stdout",
     "output_type": "stream",
     "text": [
      "end state: [5.963254  7.1333747], category: None\n",
      "success: 0.4\n"
     ]
    },
    {
     "name": "stderr",
     "output_type": "stream",
     "text": [
      "\n"
     ]
    }
   ],
   "source": [
    "DEBUG = True\n",
    "# Example usage:\n",
    "NUM_TRIALS = 10\n",
    "success_rate = 0\n",
    "for i in range(NUM_TRIALS):\n",
    "    done = run_episode(env, \n",
    "                       networks, \n",
    "                       q_params,\n",
    "                       n_steps=700, \n",
    "                       num_samples=100, \n",
    "                       categorical=False,\n",
    "                       LSE=False\n",
    "                      )\n",
    "    success_rate += done\n",
    "print(f'success: {success_rate / NUM_TRIALS}')"
   ]
  },
  {
   "cell_type": "code",
   "execution_count": null,
   "id": "ec239491",
   "metadata": {},
   "outputs": [],
   "source": [
    "\n",
    "DEBUG = False\n",
    "# Example usage:\n",
    "NUM_TRIALS = 10\n",
    "success_rate = 0\n",
    "for i in range(NUM_TRIALS):\n",
    "    done = run_episode(env, \n",
    "                       networks, \n",
    "                       q_params, \n",
    "                       n_steps=100, \n",
    "                       num_samples=100, \n",
    "                       categorical=True,\n",
    "                       LSE=True\n",
    "                      )\n",
    "    success_rate += done\n",
    "print(f'success: {success_rate / NUM_TRIALS}')"
   ]
  },
  {
   "cell_type": "code",
   "execution_count": 488,
   "id": "f35fa22f",
   "metadata": {
    "scrolled": true
   },
   "outputs": [
    {
     "name": "stdout",
     "output_type": "stream",
     "text": [
      "new goal: (4.66462854572875, 0.6910917157132339)\n",
      "start: [0.51767826 0.942714  ], goal: [4.657711  0.6599608]\n"
     ]
    },
    {
     "name": "stderr",
     "output_type": "stream",
     "text": [
      "100%|██████████| 100/100 [00:42<00:00,  2.33it/s]\n"
     ]
    },
    {
     "name": "stdout",
     "output_type": "stream",
     "text": [
      "end state: [0.97270125 0.36313543], category: 9\n",
      "new goal: (4.705743019014051, 9.209996692298681)\n",
      "start: [0.93973   0.8228312], goal: [4.704776 8.735042]\n"
     ]
    },
    {
     "name": "stderr",
     "output_type": "stream",
     "text": [
      "100%|██████████| 100/100 [00:43<00:00,  2.31it/s]\n"
     ]
    },
    {
     "name": "stdout",
     "output_type": "stream",
     "text": [
      "end state: [0.6627529  0.00530833], category: 3\n",
      "new goal: (8.211112694935483, 4.176260300178627)\n",
      "start: [0.40867266 0.19387724], goal: [7.954852 4.208607]\n"
     ]
    },
    {
     "name": "stderr",
     "output_type": "stream",
     "text": [
      "100%|██████████| 100/100 [00:44<00:00,  2.26it/s]\n"
     ]
    },
    {
     "name": "stdout",
     "output_type": "stream",
     "text": [
      "end state: [1.3354326 0.5924583], category: 6\n",
      "new goal: (5.007245266776429, 9.377231917301044)\n",
      "start: [8.193614   0.10454943], goal: [5.086285 8.808377]\n"
     ]
    },
    {
     "name": "stderr",
     "output_type": "stream",
     "text": [
      "  0%|          | 0/100 [00:00<?, ?it/s]\n"
     ]
    },
    {
     "name": "stdout",
     "output_type": "stream",
     "text": [
      "end state: [8.12993    0.12552024], category: 5\n",
      "new goal: (8.194831532505093, 8.921486970851513)\n",
      "start: [0.00268595 0.4372181 ], goal: [8.434151 9.020419]\n"
     ]
    },
    {
     "name": "stderr",
     "output_type": "stream",
     "text": [
      "100%|██████████| 100/100 [00:45<00:00,  2.18it/s]\n"
     ]
    },
    {
     "name": "stdout",
     "output_type": "stream",
     "text": [
      "end state: [ 0.8449547  -0.12086254], category: 8\n",
      "new goal: (0.2793530397061873, 8.828283413512233)\n",
      "start: [4.7437196 8.781542 ], goal: [0.30844802 9.052825  ]\n"
     ]
    },
    {
     "name": "stderr",
     "output_type": "stream",
     "text": [
      "100%|██████████| 100/100 [00:45<00:00,  2.18it/s]\n"
     ]
    },
    {
     "name": "stdout",
     "output_type": "stream",
     "text": [
      "end state: [5.9494023 8.215178 ], category: 9\n",
      "new goal: (8.537052415108635, 4.946536637891861)\n",
      "start: [0.31105572 0.00071525], goal: [8.570488 5.005829]\n"
     ]
    },
    {
     "name": "stderr",
     "output_type": "stream",
     "text": [
      "100%|██████████| 100/100 [00:45<00:00,  2.18it/s]\n"
     ]
    },
    {
     "name": "stdout",
     "output_type": "stream",
     "text": [
      "end state: [1.0331608 0.8736258], category: 9\n",
      "new goal: (8.933747378801492, 8.86942124700788)\n",
      "start: [0.4583932  0.97547686], goal: [8.701817 8.861339]\n"
     ]
    },
    {
     "name": "stderr",
     "output_type": "stream",
     "text": [
      "100%|██████████| 100/100 [00:45<00:00,  2.18it/s]\n"
     ]
    },
    {
     "name": "stdout",
     "output_type": "stream",
     "text": [
      "end state: [0.27315032 0.9191399 ], category: 6\n",
      "new goal: (9.32308932991698, 4.706221268730092)\n",
      "start: [8.669888   0.57731813], goal: [8.396832  4.6438146]\n"
     ]
    },
    {
     "name": "stderr",
     "output_type": "stream",
     "text": [
      "100%|██████████| 100/100 [00:45<00:00,  2.21it/s]\n"
     ]
    },
    {
     "name": "stdout",
     "output_type": "stream",
     "text": [
      "end state: [9.093171  2.1819503], category: 9\n",
      "new goal: (4.765823010879104, 8.611035058433536)\n",
      "start: [0.30928075 0.26280558], goal: [4.99235  8.539509]\n"
     ]
    },
    {
     "name": "stderr",
     "output_type": "stream",
     "text": [
      "100%|██████████| 100/100 [00:42<00:00,  2.33it/s]"
     ]
    },
    {
     "name": "stdout",
     "output_type": "stream",
     "text": [
      "end state: [-0.16249609  0.40112558], category: 7\n",
      "success: 0.1\n"
     ]
    },
    {
     "name": "stderr",
     "output_type": "stream",
     "text": [
      "\n"
     ]
    }
   ],
   "source": [
    "DEBUG = False\n",
    "# Example usage:\n",
    "NUM_TRIALS = 10\n",
    "success_rate = 0\n",
    "for i in range(NUM_TRIALS):\n",
    "    done = run_episode(env, \n",
    "                       networks, \n",
    "                       q_params, \n",
    "                       n_steps=100, \n",
    "                       num_samples=100, \n",
    "                       categorical=True,\n",
    "                       LSE=False\n",
    "                      )\n",
    "    success_rate += done\n",
    "print(f'success: {success_rate / NUM_TRIALS}')"
   ]
  },
  {
   "cell_type": "code",
   "execution_count": null,
   "id": "84830d6b",
   "metadata": {},
   "outputs": [],
   "source": [
    "p = np.array(points)\n",
    "plt.scatter(p[:,0], p[:,1])"
   ]
  },
  {
   "cell_type": "code",
   "execution_count": null,
   "id": "221b30f0",
   "metadata": {},
   "outputs": [],
   "source": [
    "p.shape"
   ]
  },
  {
   "cell_type": "code",
   "execution_count": null,
   "id": "f9bfa5a3",
   "metadata": {},
   "outputs": [],
   "source": [
    "sa_repr, g_repr, (state, goal) = networks.repr_fn(q_params, obs=obs, action=action)"
   ]
  },
  {
   "cell_type": "code",
   "execution_count": null,
   "id": "dea77d70",
   "metadata": {},
   "outputs": [],
   "source": [
    "NUM_EPISODES = 25\n",
    "\n",
    "env = env_factory(np.random.randint(1e6))\n",
    "obs_dim = env.observation_spec().shape[0] // 2\n",
    "episode_returns = np.zeros([NUM_EPISODES, ])\n",
    "\n",
    "timesteps = []\n",
    "for epi in range(NUM_EPISODES):\n",
    "    t = 0\n",
    "    env.seed(epi)  # use fixed seed for different methods\n",
    "    timestep = env.reset()\n",
    "    episode_return = 0\n",
    "    \n",
    "    # print(f'start state: {timestep.observation[:2]}, goal: {timestep.observation[-2:]}')\n",
    "    # goal = [5.9277008955091254, 8.699144684746049]\n",
    "\n",
    "    while not timestep.last():\n",
    "        obs = timestep.observation\n",
    "        # print(obs.shape)\n",
    "        # obs[-2:] = goal\n",
    "        dist = networks.policy_network.apply(\n",
    "          trained_learner_state.policy_params,\n",
    "          timestep.observation\n",
    "        )\n",
    "        action = np.array(dist.mode())\n",
    "        # print(action)\n",
    "        timestep = env.step(action)\n",
    "        timesteps.append(timestep)\n",
    "\n",
    "        # Book-keeping.\n",
    "        t += 1\n",
    "        episode_return += timestep.reward\n",
    "\n",
    "    # assert t == env._step_limit\n",
    "    # print(\"episode length = {}\".format(t))\n",
    "    episode_returns[epi] = episode_return\n",
    "\n",
    "print(\"avg episode return: {}\".format(np.mean(episode_returns)))\n",
    "print(\"success rate: {}\".format(np.mean(episode_returns >= 1)))"
   ]
  },
  {
   "cell_type": "code",
   "execution_count": null,
   "id": "0aaead1d",
   "metadata": {},
   "outputs": [],
   "source": []
  },
  {
   "cell_type": "code",
   "execution_count": null,
   "id": "95586d18",
   "metadata": {},
   "outputs": [],
   "source": [
    "points = []\n",
    "for timestep in timesteps:\n",
    "    points.append(timestep.observation[:2])\n",
    "    \n",
    "points = np.array(points)\n",
    "plt.scatter(points[:,0], points[:,1])"
   ]
  },
  {
   "cell_type": "code",
   "execution_count": null,
   "id": "dad358d6",
   "metadata": {},
   "outputs": [],
   "source": [
    "points"
   ]
  },
  {
   "cell_type": "code",
   "execution_count": null,
   "id": "52cf7358",
   "metadata": {},
   "outputs": [],
   "source": []
  }
 ],
 "metadata": {
  "kernelspec": {
   "display_name": "contrastive_rl [~/.conda/envs/contrastive_rl/]",
   "language": "python",
   "name": "conda_contrastive_rl"
  },
  "language_info": {
   "codemirror_mode": {
    "name": "ipython",
    "version": 3
   },
   "file_extension": ".py",
   "mimetype": "text/x-python",
   "name": "python",
   "nbconvert_exporter": "python",
   "pygments_lexer": "ipython3",
   "version": "3.9.19"
  }
 },
 "nbformat": 4,
 "nbformat_minor": 5
}
